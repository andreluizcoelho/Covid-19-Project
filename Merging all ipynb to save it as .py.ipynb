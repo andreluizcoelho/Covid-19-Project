{
 "cells": [
  {
   "cell_type": "code",
   "execution_count": 1,
   "id": "d34e7148",
   "metadata": {},
   "outputs": [],
   "source": [
    "import json\n",
    "notebook_path = 'C:/Users/andre/Documents/Programming Languages/Python/pimespython/Project/Ajusting the Final Project from 31-07-2021 now April 4th 2023'\n",
    "def read_ipynb(notebook_path):\n",
    "    with open(notebook_path, 'r', encoding='utf-8') as f:\n",
    "        return json.load(f)"
   ]
  },
  {
   "cell_type": "code",
   "execution_count": 2,
   "id": "5bb202c6",
   "metadata": {},
   "outputs": [],
   "source": [
    "first_notebook = read_ipynb('1. Webscraping.ipynb')\n",
    "second_notebook = read_ipynb('2. Covid-19 Vaccines.ipynb')\n",
    "third_notebook = read_ipynb('3. Countries Indicators.ipynb')\n",
    "fourth_notebook = read_ipynb('4. Merging the datas.ipynb')\n",
    "fifth_notebook = read_ipynb('5. Data Visualization.ipynb')\n",
    "sixth_notebook = read_ipynb('6. Statistics.ipynb')\n",
    "seventh_notebook = read_ipynb('7. Econometrics.ipynb')\n",
    "eighth_notebook = read_ipynb('8. Spatial Econometrics.ipynb')\n",
    "nineth_notebook = read_ipynb('9. Machine Learning.ipynb')"
   ]
  },
  {
   "cell_type": "code",
   "execution_count": 3,
   "id": "f92e4e3e",
   "metadata": {},
   "outputs": [],
   "source": [
    "import copy\n",
    "final_notebook = copy.deepcopy(first_notebook)"
   ]
  },
  {
   "cell_type": "code",
   "execution_count": 4,
   "id": "99d03ea8",
   "metadata": {},
   "outputs": [],
   "source": [
    "final_notebook['cells'] = first_notebook['cells'] + second_notebook['cells'] + third_notebook['cells'] + fourth_notebook['cells'] + fifth_notebook['cells'] + sixth_notebook['cells'] + seventh_notebook['cells'] + eighth_notebook['cells'] + nineth_notebook['cells'] "
   ]
  },
  {
   "cell_type": "code",
   "execution_count": 5,
   "id": "92057988",
   "metadata": {},
   "outputs": [],
   "source": [
    "def write_ipynb(notebook, notebook_path):\n",
    "    with open(notebook_path, 'w', encoding='utf-8') as f:\n",
    "        json.dump(notebook, f)\n",
    "\n",
    "# Saving the resulting notebook\n",
    "write_ipynb(final_notebook, 'final_notebook.ipynb')"
   ]
  }
 ],
 "metadata": {
  "kernelspec": {
   "display_name": "Python 3",
   "language": "python",
   "name": "python3"
  },
  "language_info": {
   "codemirror_mode": {
    "name": "ipython",
    "version": 3
   },
   "file_extension": ".py",
   "mimetype": "text/x-python",
   "name": "python",
   "nbconvert_exporter": "python",
   "pygments_lexer": "ipython3",
   "version": "3.8.8"
  }
 },
 "nbformat": 4,
 "nbformat_minor": 5
}
