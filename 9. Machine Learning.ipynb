{
 "cells": [
  {
   "cell_type": "markdown",
   "id": "4092d8bf",
   "metadata": {},
   "source": [
    "# 9. Machine Learning"
   ]
  },
  {
   "cell_type": "markdown",
   "id": "d8c344ba",
   "metadata": {},
   "source": [
    "![](https://www.datacatchup.com/wp-content/uploads/2019/05/image.png)\n",
    "![](https://static.javatpoint.com/tutorial/machine-learning/images/difference-between-supervised-and-unsupervised-learning.jpg)\n",
    "![](https://miro.medium.com/max/1400/1*6iDmbHflsN6NULBLpVHA6A.png)\n",
    "![](https://scikit-learn.org/stable/_static/ml_map.png)"
   ]
  },
  {
   "cell_type": "code",
   "execution_count": 1,
   "id": "60ad76b9",
   "metadata": {},
   "outputs": [],
   "source": [
    "import os\n",
    "import pandas as pd\n",
    "\n",
    "from sklearn import model_selection\n",
    "from sklearn.metrics import accuracy_score\n",
    "from sklearn.neighbors import KNeighborsClassifier\n",
    "from sklearn.svm import SVC\n",
    "\n",
    "import matplotlib.pyplot as plt\n",
    "\n",
    "from pandas.plotting import scatter_matrix\n",
    "from sklearn.metrics import confusion_matrix"
   ]
  },
  {
   "cell_type": "code",
   "execution_count": 2,
   "id": "83a8d17e",
   "metadata": {},
   "outputs": [],
   "source": [
    "#the model used below is classification, a subset of supervised learning "
   ]
  },
  {
   "cell_type": "markdown",
   "id": "8d33f8bc",
   "metadata": {},
   "source": [
    "## 9.1 Support Vector Classifier (SVC)"
   ]
  },
  {
   "cell_type": "code",
   "execution_count": 3,
   "id": "e843a49d",
   "metadata": {},
   "outputs": [],
   "source": [
    "covidvisual = pd.read_excel('covidvisualApril5th2023.xlsx')"
   ]
  },
  {
   "cell_type": "code",
   "execution_count": 4,
   "id": "6216f4e1",
   "metadata": {},
   "outputs": [
    {
     "data": {
      "text/plain": [
       "(149, 43)"
      ]
     },
     "execution_count": 4,
     "metadata": {},
     "output_type": "execute_result"
    }
   ],
   "source": [
    "covidvisual.shape"
   ]
  },
  {
   "cell_type": "code",
   "execution_count": 5,
   "id": "c99fcf54",
   "metadata": {},
   "outputs": [
    {
     "data": {
      "text/html": [
       "<div>\n",
       "<style scoped>\n",
       "    .dataframe tbody tr th:only-of-type {\n",
       "        vertical-align: middle;\n",
       "    }\n",
       "\n",
       "    .dataframe tbody tr th {\n",
       "        vertical-align: top;\n",
       "    }\n",
       "\n",
       "    .dataframe thead th {\n",
       "        text-align: right;\n",
       "    }\n",
       "</style>\n",
       "<table border=\"1\" class=\"dataframe\">\n",
       "  <thead>\n",
       "    <tr style=\"text-align: right;\">\n",
       "      <th></th>\n",
       "      <th>Country</th>\n",
       "      <th>Country Code</th>\n",
       "      <th>Latitude</th>\n",
       "      <th>Longitude</th>\n",
       "      <th>HDI rank</th>\n",
       "      <th>Human Development Index 2021 (HDI)</th>\n",
       "      <th>Life expectancy at birth</th>\n",
       "      <th>Expected years of schooling</th>\n",
       "      <th>Mean years of schooling</th>\n",
       "      <th>Gross national income (GNI) per capita</th>\n",
       "      <th>...</th>\n",
       "      <th>NewRecovered</th>\n",
       "      <th>ActiveCases</th>\n",
       "      <th>Serious,Critical</th>\n",
       "      <th>TotalTests</th>\n",
       "      <th>Population</th>\n",
       "      <th>Continent</th>\n",
       "      <th>New Cases/1M pop</th>\n",
       "      <th>New Deaths/1M pop</th>\n",
       "      <th>Active Cases/1M pop</th>\n",
       "      <th>covid_mortality_rate (per 100000)</th>\n",
       "    </tr>\n",
       "  </thead>\n",
       "  <tbody>\n",
       "    <tr>\n",
       "      <th>0</th>\n",
       "      <td>Albania</td>\n",
       "      <td>ALB</td>\n",
       "      <td>41.0</td>\n",
       "      <td>20.0</td>\n",
       "      <td>67</td>\n",
       "      <td>0.796</td>\n",
       "      <td>76.4626</td>\n",
       "      <td>14.448000</td>\n",
       "      <td>11.286455</td>\n",
       "      <td>14131.110390</td>\n",
       "      <td>...</td>\n",
       "      <td>NaN</td>\n",
       "      <td>1,709</td>\n",
       "      <td>NaN</td>\n",
       "      <td>1,941,032</td>\n",
       "      <td>2866374</td>\n",
       "      <td>Europe</td>\n",
       "      <td>NaN</td>\n",
       "      <td>NaN</td>\n",
       "      <td>596</td>\n",
       "      <td>125.663992</td>\n",
       "    </tr>\n",
       "    <tr>\n",
       "      <th>1</th>\n",
       "      <td>Algeria</td>\n",
       "      <td>DZA</td>\n",
       "      <td>28.0</td>\n",
       "      <td>3.0</td>\n",
       "      <td>91</td>\n",
       "      <td>0.745</td>\n",
       "      <td>76.3767</td>\n",
       "      <td>14.626896</td>\n",
       "      <td>8.069284</td>\n",
       "      <td>10800.225460</td>\n",
       "      <td>...</td>\n",
       "      <td>NaN</td>\n",
       "      <td>81,825</td>\n",
       "      <td>NaN</td>\n",
       "      <td>230,861</td>\n",
       "      <td>45350148</td>\n",
       "      <td>Africa</td>\n",
       "      <td>0.1</td>\n",
       "      <td>NaN</td>\n",
       "      <td>1,804</td>\n",
       "      <td>15.173049</td>\n",
       "    </tr>\n",
       "    <tr>\n",
       "      <th>2</th>\n",
       "      <td>Angola</td>\n",
       "      <td>AGO</td>\n",
       "      <td>-12.5</td>\n",
       "      <td>18.5</td>\n",
       "      <td>148</td>\n",
       "      <td>0.586</td>\n",
       "      <td>61.6434</td>\n",
       "      <td>12.172100</td>\n",
       "      <td>5.417391</td>\n",
       "      <td>5465.617791</td>\n",
       "      <td>...</td>\n",
       "      <td>NaN</td>\n",
       "      <td>41</td>\n",
       "      <td>NaN</td>\n",
       "      <td>1,499,795</td>\n",
       "      <td>35027343</td>\n",
       "      <td>Africa</td>\n",
       "      <td>NaN</td>\n",
       "      <td>NaN</td>\n",
       "      <td>1</td>\n",
       "      <td>5.518546</td>\n",
       "    </tr>\n",
       "  </tbody>\n",
       "</table>\n",
       "<p>3 rows × 43 columns</p>\n",
       "</div>"
      ],
      "text/plain": [
       "   Country Country Code  Latitude  Longitude  HDI rank  \\\n",
       "0  Albania          ALB      41.0       20.0        67   \n",
       "1  Algeria          DZA      28.0        3.0        91   \n",
       "2   Angola          AGO     -12.5       18.5       148   \n",
       "\n",
       "   Human Development Index 2021 (HDI)  Life expectancy at birth  \\\n",
       "0                               0.796                   76.4626   \n",
       "1                               0.745                   76.3767   \n",
       "2                               0.586                   61.6434   \n",
       "\n",
       "   Expected years of schooling  Mean years of schooling  \\\n",
       "0                    14.448000                11.286455   \n",
       "1                    14.626896                 8.069284   \n",
       "2                    12.172100                 5.417391   \n",
       "\n",
       "   Gross national income (GNI) per capita  ...  NewRecovered  ActiveCases  \\\n",
       "0                            14131.110390  ...           NaN        1,709   \n",
       "1                            10800.225460  ...           NaN       81,825   \n",
       "2                             5465.617791  ...           NaN           41   \n",
       "\n",
       "   Serious,Critical  TotalTests  Population Continent New Cases/1M pop  \\\n",
       "0               NaN   1,941,032     2866374    Europe              NaN   \n",
       "1               NaN     230,861    45350148    Africa              0.1   \n",
       "2               NaN   1,499,795    35027343    Africa              NaN   \n",
       "\n",
       "   New Deaths/1M pop Active Cases/1M pop  covid_mortality_rate (per 100000)  \n",
       "0                NaN                 596                         125.663992  \n",
       "1                NaN               1,804                          15.173049  \n",
       "2                NaN                   1                           5.518546  \n",
       "\n",
       "[3 rows x 43 columns]"
      ]
     },
     "execution_count": 5,
     "metadata": {},
     "output_type": "execute_result"
    }
   ],
   "source": [
    "covidvisual.head(3)"
   ]
  },
  {
   "cell_type": "code",
   "execution_count": 6,
   "id": "02366724",
   "metadata": {},
   "outputs": [
    {
     "data": {
      "text/plain": [
       "Country                                     0\n",
       "Country Code                                0\n",
       "Latitude                                    0\n",
       "Longitude                                   0\n",
       "HDI rank                                    0\n",
       "Human Development Index 2021 (HDI)          0\n",
       "Life expectancy at birth                    0\n",
       "Expected years of schooling                 0\n",
       "Mean years of schooling                     0\n",
       "Gross national income (GNI) per capita      0\n",
       "GDP 2021 (US$)                              0\n",
       "GDP per capita 2021 (US$)                   0\n",
       "GDP growth 2021 (annual %)                  0\n",
       "Inflation Rate 2021 (%)                     0\n",
       "Unemployment Rate 2021 (%)                  0\n",
       "Region                                      0\n",
       "IncomeGroup                                 0\n",
       "total_vaccinations                          0\n",
       "date                                        0\n",
       "people_vaccinated                           0\n",
       "people_fully_vaccinated                     0\n",
       "daily_vaccinations_raw                     21\n",
       "daily_vaccinations                          0\n",
       "total_vaccinations_per_hundred              0\n",
       "people_vaccinated_per_hundred               0\n",
       "people_fully_vaccinated_per_hundred         0\n",
       "daily_vaccinations_per_million              0\n",
       "Country,Other                               0\n",
       "TotalCases                                  0\n",
       "NewCases                                  118\n",
       "TotalDeaths                                 0\n",
       "NewDeaths                                 131\n",
       "TotalRecovered                             10\n",
       "NewRecovered                              117\n",
       "ActiveCases                                10\n",
       "Serious,Critical                           55\n",
       "TotalTests                                  3\n",
       "Population                                  0\n",
       "Continent                                   0\n",
       "New Cases/1M pop                          118\n",
       "New Deaths/1M pop                         131\n",
       "Active Cases/1M pop                         0\n",
       "covid_mortality_rate (per 100000)           0\n",
       "dtype: int64"
      ]
     },
     "execution_count": 6,
     "metadata": {},
     "output_type": "execute_result"
    }
   ],
   "source": [
    "covidvisual.isnull().sum()"
   ]
  },
  {
   "cell_type": "code",
   "execution_count": 7,
   "id": "a27de73c",
   "metadata": {},
   "outputs": [
    {
     "data": {
      "text/plain": [
       "Index(['Country', 'Country Code', 'Latitude', 'Longitude', 'HDI rank',\n",
       "       'Human Development Index 2021 (HDI)', 'Life expectancy at birth',\n",
       "       'Expected years of schooling', 'Mean years of schooling',\n",
       "       'Gross national income (GNI) per capita', 'GDP 2021 (US$)',\n",
       "       'GDP per capita 2021 (US$)', 'GDP growth 2021 (annual %)',\n",
       "       'Inflation Rate 2021 (%)', 'Unemployment Rate 2021 (%)', 'Region',\n",
       "       'IncomeGroup', 'total_vaccinations', 'date', 'people_vaccinated',\n",
       "       'people_fully_vaccinated', 'daily_vaccinations_raw',\n",
       "       'daily_vaccinations', 'total_vaccinations_per_hundred',\n",
       "       'people_vaccinated_per_hundred', 'people_fully_vaccinated_per_hundred',\n",
       "       'daily_vaccinations_per_million', 'Country,Other', 'TotalCases',\n",
       "       'NewCases', 'TotalDeaths', 'NewDeaths', 'TotalRecovered',\n",
       "       'NewRecovered', 'ActiveCases', 'Serious,Critical', 'TotalTests',\n",
       "       'Population', 'Continent', 'New Cases/1M pop', 'New Deaths/1M pop',\n",
       "       'Active Cases/1M pop', 'covid_mortality_rate (per 100000)'],\n",
       "      dtype='object')"
      ]
     },
     "execution_count": 7,
     "metadata": {},
     "output_type": "execute_result"
    }
   ],
   "source": [
    "covidvisual.columns"
   ]
  },
  {
   "cell_type": "code",
   "execution_count": 8,
   "id": "06f3ac26",
   "metadata": {},
   "outputs": [],
   "source": [
    "dataset = covidvisual.loc[:, ['total_vaccinations_per_hundred',\n",
    "                              'daily_vaccinations_per_million','covid_mortality_rate (per 100000)',\n",
    "                              'Human Development Index 2021 (HDI)','GDP per capita 2021 (US$)',\n",
    "                              'IncomeGroup']]"
   ]
  },
  {
   "cell_type": "code",
   "execution_count": 9,
   "id": "1acc21bb",
   "metadata": {},
   "outputs": [
    {
     "data": {
      "text/html": [
       "<div>\n",
       "<style scoped>\n",
       "    .dataframe tbody tr th:only-of-type {\n",
       "        vertical-align: middle;\n",
       "    }\n",
       "\n",
       "    .dataframe tbody tr th {\n",
       "        vertical-align: top;\n",
       "    }\n",
       "\n",
       "    .dataframe thead th {\n",
       "        text-align: right;\n",
       "    }\n",
       "</style>\n",
       "<table border=\"1\" class=\"dataframe\">\n",
       "  <thead>\n",
       "    <tr style=\"text-align: right;\">\n",
       "      <th></th>\n",
       "      <th>total_vaccinations_per_hundred</th>\n",
       "      <th>daily_vaccinations_per_million</th>\n",
       "      <th>covid_mortality_rate (per 100000)</th>\n",
       "      <th>Human Development Index 2021 (HDI)</th>\n",
       "      <th>GDP per capita 2021 (US$)</th>\n",
       "      <th>IncomeGroup</th>\n",
       "    </tr>\n",
       "  </thead>\n",
       "  <tbody>\n",
       "    <tr>\n",
       "      <th>0</th>\n",
       "      <td>108.03</td>\n",
       "      <td>6180</td>\n",
       "      <td>125.663992</td>\n",
       "      <td>0.796</td>\n",
       "      <td>6492.872012</td>\n",
       "      <td>Upper middle income</td>\n",
       "    </tr>\n",
       "    <tr>\n",
       "      <th>1</th>\n",
       "      <td>34.00</td>\n",
       "      <td>5722</td>\n",
       "      <td>15.173049</td>\n",
       "      <td>0.745</td>\n",
       "      <td>3690.627878</td>\n",
       "      <td>Lower middle income</td>\n",
       "    </tr>\n",
       "    <tr>\n",
       "      <th>2</th>\n",
       "      <td>69.88</td>\n",
       "      <td>5147</td>\n",
       "      <td>5.518546</td>\n",
       "      <td>0.586</td>\n",
       "      <td>1953.533757</td>\n",
       "      <td>Lower middle income</td>\n",
       "    </tr>\n",
       "  </tbody>\n",
       "</table>\n",
       "</div>"
      ],
      "text/plain": [
       "   total_vaccinations_per_hundred  daily_vaccinations_per_million  \\\n",
       "0                          108.03                            6180   \n",
       "1                           34.00                            5722   \n",
       "2                           69.88                            5147   \n",
       "\n",
       "   covid_mortality_rate (per 100000)  Human Development Index 2021 (HDI)  \\\n",
       "0                         125.663992                               0.796   \n",
       "1                          15.173049                               0.745   \n",
       "2                           5.518546                               0.586   \n",
       "\n",
       "   GDP per capita 2021 (US$)          IncomeGroup  \n",
       "0                6492.872012  Upper middle income  \n",
       "1                3690.627878  Lower middle income  \n",
       "2                1953.533757  Lower middle income  "
      ]
     },
     "execution_count": 9,
     "metadata": {},
     "output_type": "execute_result"
    }
   ],
   "source": [
    "dataset.head(3)"
   ]
  },
  {
   "cell_type": "code",
   "execution_count": 10,
   "id": "3d18a9d3",
   "metadata": {},
   "outputs": [],
   "source": [
    "dataset = dataset.dropna()"
   ]
  },
  {
   "cell_type": "code",
   "execution_count": 11,
   "id": "f6fa04f9",
   "metadata": {},
   "outputs": [
    {
     "data": {
      "text/html": [
       "<div>\n",
       "<style scoped>\n",
       "    .dataframe tbody tr th:only-of-type {\n",
       "        vertical-align: middle;\n",
       "    }\n",
       "\n",
       "    .dataframe tbody tr th {\n",
       "        vertical-align: top;\n",
       "    }\n",
       "\n",
       "    .dataframe thead th {\n",
       "        text-align: right;\n",
       "    }\n",
       "</style>\n",
       "<table border=\"1\" class=\"dataframe\">\n",
       "  <thead>\n",
       "    <tr style=\"text-align: right;\">\n",
       "      <th></th>\n",
       "      <th>total_vaccinations_per_hundred</th>\n",
       "      <th>daily_vaccinations_per_million</th>\n",
       "      <th>covid_mortality_rate (per 100000)</th>\n",
       "      <th>Human Development Index 2021 (HDI)</th>\n",
       "      <th>GDP per capita 2021 (US$)</th>\n",
       "      <th>IncomeGroup</th>\n",
       "    </tr>\n",
       "  </thead>\n",
       "  <tbody>\n",
       "    <tr>\n",
       "      <th>0</th>\n",
       "      <td>108.03</td>\n",
       "      <td>6180</td>\n",
       "      <td>125.663992</td>\n",
       "      <td>0.796</td>\n",
       "      <td>6492.872012</td>\n",
       "      <td>Upper middle income</td>\n",
       "    </tr>\n",
       "    <tr>\n",
       "      <th>1</th>\n",
       "      <td>34.00</td>\n",
       "      <td>5722</td>\n",
       "      <td>15.173049</td>\n",
       "      <td>0.745</td>\n",
       "      <td>3690.627878</td>\n",
       "      <td>Lower middle income</td>\n",
       "    </tr>\n",
       "    <tr>\n",
       "      <th>2</th>\n",
       "      <td>69.88</td>\n",
       "      <td>5147</td>\n",
       "      <td>5.518546</td>\n",
       "      <td>0.586</td>\n",
       "      <td>1953.533757</td>\n",
       "      <td>Lower middle income</td>\n",
       "    </tr>\n",
       "    <tr>\n",
       "      <th>3</th>\n",
       "      <td>77.45</td>\n",
       "      <td>6441</td>\n",
       "      <td>294.047778</td>\n",
       "      <td>0.759</td>\n",
       "      <td>4966.513471</td>\n",
       "      <td>Upper middle income</td>\n",
       "    </tr>\n",
       "    <tr>\n",
       "      <th>4</th>\n",
       "      <td>243.27</td>\n",
       "      <td>11302</td>\n",
       "      <td>76.167703</td>\n",
       "      <td>0.951</td>\n",
       "      <td>60443.109165</td>\n",
       "      <td>High income</td>\n",
       "    </tr>\n",
       "    <tr>\n",
       "      <th>...</th>\n",
       "      <td>...</td>\n",
       "      <td>...</td>\n",
       "      <td>...</td>\n",
       "      <td>...</td>\n",
       "      <td>...</td>\n",
       "      <td>...</td>\n",
       "    </tr>\n",
       "    <tr>\n",
       "      <th>144</th>\n",
       "      <td>218.04</td>\n",
       "      <td>12311</td>\n",
       "      <td>4.761201</td>\n",
       "      <td>0.727</td>\n",
       "      <td>1983.064723</td>\n",
       "      <td>Lower middle income</td>\n",
       "    </tr>\n",
       "    <tr>\n",
       "      <th>145</th>\n",
       "      <td>112.21</td>\n",
       "      <td>27064</td>\n",
       "      <td>4.350096</td>\n",
       "      <td>0.607</td>\n",
       "      <td>2996.621062</td>\n",
       "      <td>Lower middle income</td>\n",
       "    </tr>\n",
       "    <tr>\n",
       "      <th>146</th>\n",
       "      <td>271.40</td>\n",
       "      <td>17064</td>\n",
       "      <td>43.642703</td>\n",
       "      <td>0.703</td>\n",
       "      <td>3756.489121</td>\n",
       "      <td>Lower middle income</td>\n",
       "    </tr>\n",
       "    <tr>\n",
       "      <th>147</th>\n",
       "      <td>63.90</td>\n",
       "      <td>9006</td>\n",
       "      <td>20.842071</td>\n",
       "      <td>0.565</td>\n",
       "      <td>1137.343633</td>\n",
       "      <td>Low income</td>\n",
       "    </tr>\n",
       "    <tr>\n",
       "      <th>148</th>\n",
       "      <td>74.89</td>\n",
       "      <td>7435</td>\n",
       "      <td>37.041559</td>\n",
       "      <td>0.593</td>\n",
       "      <td>1773.920411</td>\n",
       "      <td>Lower middle income</td>\n",
       "    </tr>\n",
       "  </tbody>\n",
       "</table>\n",
       "<p>149 rows × 6 columns</p>\n",
       "</div>"
      ],
      "text/plain": [
       "     total_vaccinations_per_hundred  daily_vaccinations_per_million  \\\n",
       "0                            108.03                            6180   \n",
       "1                             34.00                            5722   \n",
       "2                             69.88                            5147   \n",
       "3                             77.45                            6441   \n",
       "4                            243.27                           11302   \n",
       "..                              ...                             ...   \n",
       "144                          218.04                           12311   \n",
       "145                          112.21                           27064   \n",
       "146                          271.40                           17064   \n",
       "147                           63.90                            9006   \n",
       "148                           74.89                            7435   \n",
       "\n",
       "     covid_mortality_rate (per 100000)  Human Development Index 2021 (HDI)  \\\n",
       "0                           125.663992                               0.796   \n",
       "1                            15.173049                               0.745   \n",
       "2                             5.518546                               0.586   \n",
       "3                           294.047778                               0.759   \n",
       "4                            76.167703                               0.951   \n",
       "..                                 ...                                 ...   \n",
       "144                           4.761201                               0.727   \n",
       "145                           4.350096                               0.607   \n",
       "146                          43.642703                               0.703   \n",
       "147                          20.842071                               0.565   \n",
       "148                          37.041559                               0.593   \n",
       "\n",
       "     GDP per capita 2021 (US$)          IncomeGroup  \n",
       "0                  6492.872012  Upper middle income  \n",
       "1                  3690.627878  Lower middle income  \n",
       "2                  1953.533757  Lower middle income  \n",
       "3                  4966.513471  Upper middle income  \n",
       "4                 60443.109165          High income  \n",
       "..                         ...                  ...  \n",
       "144                1983.064723  Lower middle income  \n",
       "145                2996.621062  Lower middle income  \n",
       "146                3756.489121  Lower middle income  \n",
       "147                1137.343633           Low income  \n",
       "148                1773.920411  Lower middle income  \n",
       "\n",
       "[149 rows x 6 columns]"
      ]
     },
     "execution_count": 11,
     "metadata": {},
     "output_type": "execute_result"
    }
   ],
   "source": [
    "dataset"
   ]
  },
  {
   "cell_type": "code",
   "execution_count": 12,
   "id": "bb90e489",
   "metadata": {},
   "outputs": [
    {
     "data": {
      "text/plain": [
       "149"
      ]
     },
     "execution_count": 12,
     "metadata": {},
     "output_type": "execute_result"
    }
   ],
   "source": [
    "len(dataset)"
   ]
  },
  {
   "cell_type": "code",
   "execution_count": 13,
   "id": "46aa8dc4",
   "metadata": {},
   "outputs": [
    {
     "data": {
      "text/plain": [
       "(149, 6)"
      ]
     },
     "execution_count": 13,
     "metadata": {},
     "output_type": "execute_result"
    }
   ],
   "source": [
    "dataset.shape"
   ]
  },
  {
   "cell_type": "code",
   "execution_count": 14,
   "id": "943e60f1",
   "metadata": {},
   "outputs": [
    {
     "data": {
      "text/html": [
       "<div>\n",
       "<style scoped>\n",
       "    .dataframe tbody tr th:only-of-type {\n",
       "        vertical-align: middle;\n",
       "    }\n",
       "\n",
       "    .dataframe tbody tr th {\n",
       "        vertical-align: top;\n",
       "    }\n",
       "\n",
       "    .dataframe thead th {\n",
       "        text-align: right;\n",
       "    }\n",
       "</style>\n",
       "<table border=\"1\" class=\"dataframe\">\n",
       "  <thead>\n",
       "    <tr style=\"text-align: right;\">\n",
       "      <th></th>\n",
       "      <th>total_vaccinations_per_hundred</th>\n",
       "      <th>daily_vaccinations_per_million</th>\n",
       "      <th>covid_mortality_rate (per 100000)</th>\n",
       "      <th>Human Development Index 2021 (HDI)</th>\n",
       "      <th>GDP per capita 2021 (US$)</th>\n",
       "    </tr>\n",
       "  </thead>\n",
       "  <tbody>\n",
       "    <tr>\n",
       "      <th>count</th>\n",
       "      <td>149.000000</td>\n",
       "      <td>149.000000</td>\n",
       "      <td>149.000000</td>\n",
       "      <td>149.000000</td>\n",
       "      <td>149.000000</td>\n",
       "    </tr>\n",
       "    <tr>\n",
       "      <th>mean</th>\n",
       "      <td>147.465973</td>\n",
       "      <td>12556.147651</td>\n",
       "      <td>140.651667</td>\n",
       "      <td>0.737940</td>\n",
       "      <td>17043.642330</td>\n",
       "    </tr>\n",
       "    <tr>\n",
       "      <th>std</th>\n",
       "      <td>79.618981</td>\n",
       "      <td>11346.083328</td>\n",
       "      <td>140.407090</td>\n",
       "      <td>0.148244</td>\n",
       "      <td>23472.569989</td>\n",
       "    </tr>\n",
       "    <tr>\n",
       "      <th>min</th>\n",
       "      <td>0.280000</td>\n",
       "      <td>32.000000</td>\n",
       "      <td>0.300994</td>\n",
       "      <td>0.400000</td>\n",
       "      <td>221.477676</td>\n",
       "    </tr>\n",
       "    <tr>\n",
       "      <th>25%</th>\n",
       "      <td>77.450000</td>\n",
       "      <td>7465.000000</td>\n",
       "      <td>17.799897</td>\n",
       "      <td>0.627000</td>\n",
       "      <td>2535.623432</td>\n",
       "    </tr>\n",
       "    <tr>\n",
       "      <th>50%</th>\n",
       "      <td>147.860000</td>\n",
       "      <td>11268.000000</td>\n",
       "      <td>98.920361</td>\n",
       "      <td>0.751000</td>\n",
       "      <td>6104.136709</td>\n",
       "    </tr>\n",
       "    <tr>\n",
       "      <th>75%</th>\n",
       "      <td>213.920000</td>\n",
       "      <td>15163.000000</td>\n",
       "      <td>224.750550</td>\n",
       "      <td>0.858000</td>\n",
       "      <td>21391.925334</td>\n",
       "    </tr>\n",
       "    <tr>\n",
       "      <th>max</th>\n",
       "      <td>319.780000</td>\n",
       "      <td>117113.000000</td>\n",
       "      <td>652.641143</td>\n",
       "      <td>0.962000</td>\n",
       "      <td>133590.146976</td>\n",
       "    </tr>\n",
       "  </tbody>\n",
       "</table>\n",
       "</div>"
      ],
      "text/plain": [
       "       total_vaccinations_per_hundred  daily_vaccinations_per_million  \\\n",
       "count                      149.000000                      149.000000   \n",
       "mean                       147.465973                    12556.147651   \n",
       "std                         79.618981                    11346.083328   \n",
       "min                          0.280000                       32.000000   \n",
       "25%                         77.450000                     7465.000000   \n",
       "50%                        147.860000                    11268.000000   \n",
       "75%                        213.920000                    15163.000000   \n",
       "max                        319.780000                   117113.000000   \n",
       "\n",
       "       covid_mortality_rate (per 100000)  Human Development Index 2021 (HDI)  \\\n",
       "count                         149.000000                          149.000000   \n",
       "mean                          140.651667                            0.737940   \n",
       "std                           140.407090                            0.148244   \n",
       "min                             0.300994                            0.400000   \n",
       "25%                            17.799897                            0.627000   \n",
       "50%                            98.920361                            0.751000   \n",
       "75%                           224.750550                            0.858000   \n",
       "max                           652.641143                            0.962000   \n",
       "\n",
       "       GDP per capita 2021 (US$)  \n",
       "count                 149.000000  \n",
       "mean                17043.642330  \n",
       "std                 23472.569989  \n",
       "min                   221.477676  \n",
       "25%                  2535.623432  \n",
       "50%                  6104.136709  \n",
       "75%                 21391.925334  \n",
       "max                133590.146976  "
      ]
     },
     "execution_count": 14,
     "metadata": {},
     "output_type": "execute_result"
    }
   ],
   "source": [
    "dataset.describe()"
   ]
  },
  {
   "cell_type": "code",
   "execution_count": 15,
   "id": "d352abf0",
   "metadata": {},
   "outputs": [
    {
     "name": "stdout",
     "output_type": "stream",
     "text": [
      "IncomeGroup\n",
      "High income            49\n",
      "Low income             16\n",
      "Lower middle income    44\n",
      "Upper middle income    40\n",
      "dtype: int64\n"
     ]
    }
   ],
   "source": [
    "print(dataset.groupby('IncomeGroup').size())"
   ]
  },
  {
   "cell_type": "code",
   "execution_count": 16,
   "id": "06af77dc",
   "metadata": {},
   "outputs": [],
   "source": [
    "dataset.drop(dataset.loc[dataset['IncomeGroup']=='Low income'].index, inplace=True)"
   ]
  },
  {
   "cell_type": "code",
   "execution_count": 17,
   "id": "b8f4efd5",
   "metadata": {},
   "outputs": [
    {
     "name": "stdout",
     "output_type": "stream",
     "text": [
      "IncomeGroup\n",
      "High income            49\n",
      "Lower middle income    44\n",
      "Upper middle income    40\n",
      "dtype: int64\n"
     ]
    }
   ],
   "source": [
    "print(dataset.groupby('IncomeGroup').size())"
   ]
  },
  {
   "cell_type": "code",
   "execution_count": 18,
   "id": "b0bb3be4",
   "metadata": {},
   "outputs": [],
   "source": [
    "dataset=dataset.groupby('IncomeGroup', as_index=False, group_keys=False).apply(lambda x: x.sample(n=39))"
   ]
  },
  {
   "cell_type": "code",
   "execution_count": 19,
   "id": "4ac5210d",
   "metadata": {},
   "outputs": [
    {
     "name": "stdout",
     "output_type": "stream",
     "text": [
      "IncomeGroup\n",
      "High income            39\n",
      "Lower middle income    39\n",
      "Upper middle income    39\n",
      "dtype: int64\n"
     ]
    }
   ],
   "source": [
    "print(dataset.groupby('IncomeGroup').size())"
   ]
  },
  {
   "cell_type": "code",
   "execution_count": 20,
   "id": "99b9950d",
   "metadata": {},
   "outputs": [
    {
     "data": {
      "text/plain": [
       "117"
      ]
     },
     "execution_count": 20,
     "metadata": {},
     "output_type": "execute_result"
    }
   ],
   "source": [
    "len(dataset)"
   ]
  },
  {
   "cell_type": "code",
   "execution_count": 21,
   "id": "0a26bc16",
   "metadata": {},
   "outputs": [
    {
     "data": {
      "text/html": [
       "<div>\n",
       "<style scoped>\n",
       "    .dataframe tbody tr th:only-of-type {\n",
       "        vertical-align: middle;\n",
       "    }\n",
       "\n",
       "    .dataframe tbody tr th {\n",
       "        vertical-align: top;\n",
       "    }\n",
       "\n",
       "    .dataframe thead th {\n",
       "        text-align: right;\n",
       "    }\n",
       "</style>\n",
       "<table border=\"1\" class=\"dataframe\">\n",
       "  <thead>\n",
       "    <tr style=\"text-align: right;\">\n",
       "      <th></th>\n",
       "      <th>total_vaccinations_per_hundred</th>\n",
       "      <th>daily_vaccinations_per_million</th>\n",
       "      <th>covid_mortality_rate (per 100000)</th>\n",
       "      <th>Human Development Index 2021 (HDI)</th>\n",
       "      <th>GDP per capita 2021 (US$)</th>\n",
       "      <th>IncomeGroup</th>\n",
       "    </tr>\n",
       "  </thead>\n",
       "  <tbody>\n",
       "    <tr>\n",
       "      <th>59</th>\n",
       "      <td>167.56</td>\n",
       "      <td>12632</td>\n",
       "      <td>508.116635</td>\n",
       "      <td>0.846</td>\n",
       "      <td>18728.121895</td>\n",
       "      <td>High income</td>\n",
       "    </tr>\n",
       "    <tr>\n",
       "      <th>49</th>\n",
       "      <td>230.55</td>\n",
       "      <td>13774</td>\n",
       "      <td>204.055391</td>\n",
       "      <td>0.942</td>\n",
       "      <td>51203.554473</td>\n",
       "      <td>High income</td>\n",
       "    </tr>\n",
       "    <tr>\n",
       "      <th>69</th>\n",
       "      <td>309.24</td>\n",
       "      <td>13653</td>\n",
       "      <td>58.925903</td>\n",
       "      <td>0.925</td>\n",
       "      <td>39312.660373</td>\n",
       "      <td>High income</td>\n",
       "    </tr>\n",
       "    <tr>\n",
       "      <th>85</th>\n",
       "      <td>258.91</td>\n",
       "      <td>15359</td>\n",
       "      <td>187.373461</td>\n",
       "      <td>0.918</td>\n",
       "      <td>33486.671984</td>\n",
       "      <td>High income</td>\n",
       "    </tr>\n",
       "    <tr>\n",
       "      <th>142</th>\n",
       "      <td>202.85</td>\n",
       "      <td>10561</td>\n",
       "      <td>345.176169</td>\n",
       "      <td>0.921</td>\n",
       "      <td>70248.629000</td>\n",
       "      <td>High income</td>\n",
       "    </tr>\n",
       "    <tr>\n",
       "      <th>...</th>\n",
       "      <td>...</td>\n",
       "      <td>...</td>\n",
       "      <td>...</td>\n",
       "      <td>...</td>\n",
       "      <td>...</td>\n",
       "      <td>...</td>\n",
       "    </tr>\n",
       "    <tr>\n",
       "      <th>88</th>\n",
       "      <td>175.02</td>\n",
       "      <td>12927</td>\n",
       "      <td>253.532968</td>\n",
       "      <td>0.758</td>\n",
       "      <td>10045.680500</td>\n",
       "      <td>Upper middle income</td>\n",
       "    </tr>\n",
       "    <tr>\n",
       "      <th>116</th>\n",
       "      <td>68.37</td>\n",
       "      <td>10630</td>\n",
       "      <td>220.946125</td>\n",
       "      <td>0.715</td>\n",
       "      <td>9414.226231</td>\n",
       "      <td>Upper middle income</td>\n",
       "    </tr>\n",
       "    <tr>\n",
       "      <th>20</th>\n",
       "      <td>67.99</td>\n",
       "      <td>3987</td>\n",
       "      <td>559.112538</td>\n",
       "      <td>0.795</td>\n",
       "      <td>12221.496606</td>\n",
       "      <td>Upper middle income</td>\n",
       "    </tr>\n",
       "    <tr>\n",
       "      <th>135</th>\n",
       "      <td>190.06</td>\n",
       "      <td>18958</td>\n",
       "      <td>12.065077</td>\n",
       "      <td>0.745</td>\n",
       "      <td>4426.000637</td>\n",
       "      <td>Upper middle income</td>\n",
       "    </tr>\n",
       "    <tr>\n",
       "      <th>55</th>\n",
       "      <td>118.72</td>\n",
       "      <td>11503</td>\n",
       "      <td>163.466806</td>\n",
       "      <td>0.714</td>\n",
       "      <td>9998.544311</td>\n",
       "      <td>Upper middle income</td>\n",
       "    </tr>\n",
       "  </tbody>\n",
       "</table>\n",
       "<p>117 rows × 6 columns</p>\n",
       "</div>"
      ],
      "text/plain": [
       "     total_vaccinations_per_hundred  daily_vaccinations_per_million  \\\n",
       "59                           167.56                           12632   \n",
       "49                           230.55                           13774   \n",
       "69                           309.24                           13653   \n",
       "85                           258.91                           15359   \n",
       "142                          202.85                           10561   \n",
       "..                              ...                             ...   \n",
       "88                           175.02                           12927   \n",
       "116                           68.37                           10630   \n",
       "20                            67.99                            3987   \n",
       "135                          190.06                           18958   \n",
       "55                           118.72                           11503   \n",
       "\n",
       "     covid_mortality_rate (per 100000)  Human Development Index 2021 (HDI)  \\\n",
       "59                          508.116635                               0.846   \n",
       "49                          204.055391                               0.942   \n",
       "69                           58.925903                               0.925   \n",
       "85                          187.373461                               0.918   \n",
       "142                         345.176169                               0.921   \n",
       "..                                 ...                                 ...   \n",
       "88                          253.532968                               0.758   \n",
       "116                         220.946125                               0.715   \n",
       "20                          559.112538                               0.795   \n",
       "135                          12.065077                               0.745   \n",
       "55                          163.466806                               0.714   \n",
       "\n",
       "     GDP per capita 2021 (US$)          IncomeGroup  \n",
       "59                18728.121895          High income  \n",
       "49                51203.554473          High income  \n",
       "69                39312.660373          High income  \n",
       "85                33486.671984          High income  \n",
       "142               70248.629000          High income  \n",
       "..                         ...                  ...  \n",
       "88                10045.680500  Upper middle income  \n",
       "116                9414.226231  Upper middle income  \n",
       "20                12221.496606  Upper middle income  \n",
       "135                4426.000637  Upper middle income  \n",
       "55                 9998.544311  Upper middle income  \n",
       "\n",
       "[117 rows x 6 columns]"
      ]
     },
     "execution_count": 21,
     "metadata": {},
     "output_type": "execute_result"
    }
   ],
   "source": [
    "dataset"
   ]
  },
  {
   "cell_type": "code",
   "execution_count": 22,
   "id": "02c1c3ce",
   "metadata": {},
   "outputs": [],
   "source": [
    "#datasetrand = dataset.sample(frac=1)\n",
    "#The frac keyword argument specifies the fraction of rows to return in the random sample, so frac=1 means return all rows (in random order)\n",
    "#but in order to work in my case it needs to be in order like it is and not shuffled, otherwise it won't run later"
   ]
  },
  {
   "cell_type": "code",
   "execution_count": 23,
   "id": "95afea21",
   "metadata": {},
   "outputs": [],
   "source": [
    "import statsmodels.api as sm\n",
    "import statsmodels.formula.api as smf"
   ]
  },
  {
   "cell_type": "code",
   "execution_count": 24,
   "id": "b312dc24",
   "metadata": {},
   "outputs": [],
   "source": [
    "dummie_class = pd.get_dummies(dataset['IncomeGroup'],prefix='IncomeGroup')"
   ]
  },
  {
   "cell_type": "code",
   "execution_count": 25,
   "id": "f4b6a405",
   "metadata": {},
   "outputs": [
    {
     "data": {
      "text/html": [
       "<div>\n",
       "<style scoped>\n",
       "    .dataframe tbody tr th:only-of-type {\n",
       "        vertical-align: middle;\n",
       "    }\n",
       "\n",
       "    .dataframe tbody tr th {\n",
       "        vertical-align: top;\n",
       "    }\n",
       "\n",
       "    .dataframe thead th {\n",
       "        text-align: right;\n",
       "    }\n",
       "</style>\n",
       "<table border=\"1\" class=\"dataframe\">\n",
       "  <thead>\n",
       "    <tr style=\"text-align: right;\">\n",
       "      <th></th>\n",
       "      <th>IncomeGroup_High income</th>\n",
       "      <th>IncomeGroup_Lower middle income</th>\n",
       "      <th>IncomeGroup_Upper middle income</th>\n",
       "    </tr>\n",
       "  </thead>\n",
       "  <tbody>\n",
       "    <tr>\n",
       "      <th>59</th>\n",
       "      <td>1</td>\n",
       "      <td>0</td>\n",
       "      <td>0</td>\n",
       "    </tr>\n",
       "    <tr>\n",
       "      <th>49</th>\n",
       "      <td>1</td>\n",
       "      <td>0</td>\n",
       "      <td>0</td>\n",
       "    </tr>\n",
       "    <tr>\n",
       "      <th>69</th>\n",
       "      <td>1</td>\n",
       "      <td>0</td>\n",
       "      <td>0</td>\n",
       "    </tr>\n",
       "    <tr>\n",
       "      <th>85</th>\n",
       "      <td>1</td>\n",
       "      <td>0</td>\n",
       "      <td>0</td>\n",
       "    </tr>\n",
       "    <tr>\n",
       "      <th>142</th>\n",
       "      <td>1</td>\n",
       "      <td>0</td>\n",
       "      <td>0</td>\n",
       "    </tr>\n",
       "    <tr>\n",
       "      <th>...</th>\n",
       "      <td>...</td>\n",
       "      <td>...</td>\n",
       "      <td>...</td>\n",
       "    </tr>\n",
       "    <tr>\n",
       "      <th>88</th>\n",
       "      <td>0</td>\n",
       "      <td>0</td>\n",
       "      <td>1</td>\n",
       "    </tr>\n",
       "    <tr>\n",
       "      <th>116</th>\n",
       "      <td>0</td>\n",
       "      <td>0</td>\n",
       "      <td>1</td>\n",
       "    </tr>\n",
       "    <tr>\n",
       "      <th>20</th>\n",
       "      <td>0</td>\n",
       "      <td>0</td>\n",
       "      <td>1</td>\n",
       "    </tr>\n",
       "    <tr>\n",
       "      <th>135</th>\n",
       "      <td>0</td>\n",
       "      <td>0</td>\n",
       "      <td>1</td>\n",
       "    </tr>\n",
       "    <tr>\n",
       "      <th>55</th>\n",
       "      <td>0</td>\n",
       "      <td>0</td>\n",
       "      <td>1</td>\n",
       "    </tr>\n",
       "  </tbody>\n",
       "</table>\n",
       "<p>117 rows × 3 columns</p>\n",
       "</div>"
      ],
      "text/plain": [
       "     IncomeGroup_High income  IncomeGroup_Lower middle income  \\\n",
       "59                         1                                0   \n",
       "49                         1                                0   \n",
       "69                         1                                0   \n",
       "85                         1                                0   \n",
       "142                        1                                0   \n",
       "..                       ...                              ...   \n",
       "88                         0                                0   \n",
       "116                        0                                0   \n",
       "20                         0                                0   \n",
       "135                        0                                0   \n",
       "55                         0                                0   \n",
       "\n",
       "     IncomeGroup_Upper middle income  \n",
       "59                                 0  \n",
       "49                                 0  \n",
       "69                                 0  \n",
       "85                                 0  \n",
       "142                                0  \n",
       "..                               ...  \n",
       "88                                 1  \n",
       "116                                1  \n",
       "20                                 1  \n",
       "135                                1  \n",
       "55                                 1  \n",
       "\n",
       "[117 rows x 3 columns]"
      ]
     },
     "execution_count": 25,
     "metadata": {},
     "output_type": "execute_result"
    }
   ],
   "source": [
    "dummie_class"
   ]
  },
  {
   "cell_type": "code",
   "execution_count": 26,
   "id": "ed1e2bba",
   "metadata": {},
   "outputs": [],
   "source": [
    "Y = dummie_class['IncomeGroup_High income']"
   ]
  },
  {
   "cell_type": "code",
   "execution_count": 27,
   "id": "dff46628",
   "metadata": {},
   "outputs": [
    {
     "data": {
      "text/plain": [
       "61     0\n",
       "49     1\n",
       "145    0\n",
       "78     1\n",
       "30     0\n",
       "123    1\n",
       "88     0\n",
       "2      0\n",
       "117    0\n",
       "56     0\n",
       "Name: IncomeGroup_High income, dtype: uint8"
      ]
     },
     "execution_count": 27,
     "metadata": {},
     "output_type": "execute_result"
    }
   ],
   "source": [
    "Y.sample(n=10) # 1 is high income, 0 it's not"
   ]
  },
  {
   "cell_type": "code",
   "execution_count": 28,
   "id": "44cf8256",
   "metadata": {},
   "outputs": [],
   "source": [
    "X = dataset[['total_vaccinations_per_hundred',\n",
    "            'daily_vaccinations_per_million',\n",
    "             'covid_mortality_rate (per 100000)',\n",
    "            'Human Development Index 2021 (HDI)','GDP per capita 2021 (US$)']] \n",
    "X = sm.add_constant(X)"
   ]
  },
  {
   "cell_type": "code",
   "execution_count": 29,
   "id": "6298480e",
   "metadata": {},
   "outputs": [
    {
     "data": {
      "text/html": [
       "<div>\n",
       "<style scoped>\n",
       "    .dataframe tbody tr th:only-of-type {\n",
       "        vertical-align: middle;\n",
       "    }\n",
       "\n",
       "    .dataframe tbody tr th {\n",
       "        vertical-align: top;\n",
       "    }\n",
       "\n",
       "    .dataframe thead th {\n",
       "        text-align: right;\n",
       "    }\n",
       "</style>\n",
       "<table border=\"1\" class=\"dataframe\">\n",
       "  <thead>\n",
       "    <tr style=\"text-align: right;\">\n",
       "      <th></th>\n",
       "      <th>const</th>\n",
       "      <th>total_vaccinations_per_hundred</th>\n",
       "      <th>daily_vaccinations_per_million</th>\n",
       "      <th>covid_mortality_rate (per 100000)</th>\n",
       "      <th>Human Development Index 2021 (HDI)</th>\n",
       "      <th>GDP per capita 2021 (US$)</th>\n",
       "    </tr>\n",
       "  </thead>\n",
       "  <tbody>\n",
       "    <tr>\n",
       "      <th>59</th>\n",
       "      <td>1.0</td>\n",
       "      <td>167.56</td>\n",
       "      <td>12632</td>\n",
       "      <td>508.116635</td>\n",
       "      <td>0.846</td>\n",
       "      <td>18728.121895</td>\n",
       "    </tr>\n",
       "    <tr>\n",
       "      <th>49</th>\n",
       "      <td>1.0</td>\n",
       "      <td>230.55</td>\n",
       "      <td>13774</td>\n",
       "      <td>204.055391</td>\n",
       "      <td>0.942</td>\n",
       "      <td>51203.554473</td>\n",
       "    </tr>\n",
       "    <tr>\n",
       "      <th>69</th>\n",
       "      <td>1.0</td>\n",
       "      <td>309.24</td>\n",
       "      <td>13653</td>\n",
       "      <td>58.925903</td>\n",
       "      <td>0.925</td>\n",
       "      <td>39312.660373</td>\n",
       "    </tr>\n",
       "    <tr>\n",
       "      <th>85</th>\n",
       "      <td>1.0</td>\n",
       "      <td>258.91</td>\n",
       "      <td>15359</td>\n",
       "      <td>187.373461</td>\n",
       "      <td>0.918</td>\n",
       "      <td>33486.671984</td>\n",
       "    </tr>\n",
       "    <tr>\n",
       "      <th>142</th>\n",
       "      <td>1.0</td>\n",
       "      <td>202.85</td>\n",
       "      <td>10561</td>\n",
       "      <td>345.176169</td>\n",
       "      <td>0.921</td>\n",
       "      <td>70248.629000</td>\n",
       "    </tr>\n",
       "    <tr>\n",
       "      <th>...</th>\n",
       "      <td>...</td>\n",
       "      <td>...</td>\n",
       "      <td>...</td>\n",
       "      <td>...</td>\n",
       "      <td>...</td>\n",
       "      <td>...</td>\n",
       "    </tr>\n",
       "    <tr>\n",
       "      <th>88</th>\n",
       "      <td>1.0</td>\n",
       "      <td>175.02</td>\n",
       "      <td>12927</td>\n",
       "      <td>253.532968</td>\n",
       "      <td>0.758</td>\n",
       "      <td>10045.680500</td>\n",
       "    </tr>\n",
       "    <tr>\n",
       "      <th>116</th>\n",
       "      <td>1.0</td>\n",
       "      <td>68.37</td>\n",
       "      <td>10630</td>\n",
       "      <td>220.946125</td>\n",
       "      <td>0.715</td>\n",
       "      <td>9414.226231</td>\n",
       "    </tr>\n",
       "    <tr>\n",
       "      <th>20</th>\n",
       "      <td>1.0</td>\n",
       "      <td>67.99</td>\n",
       "      <td>3987</td>\n",
       "      <td>559.112538</td>\n",
       "      <td>0.795</td>\n",
       "      <td>12221.496606</td>\n",
       "    </tr>\n",
       "    <tr>\n",
       "      <th>135</th>\n",
       "      <td>1.0</td>\n",
       "      <td>190.06</td>\n",
       "      <td>18958</td>\n",
       "      <td>12.065077</td>\n",
       "      <td>0.745</td>\n",
       "      <td>4426.000637</td>\n",
       "    </tr>\n",
       "    <tr>\n",
       "      <th>55</th>\n",
       "      <td>1.0</td>\n",
       "      <td>118.72</td>\n",
       "      <td>11503</td>\n",
       "      <td>163.466806</td>\n",
       "      <td>0.714</td>\n",
       "      <td>9998.544311</td>\n",
       "    </tr>\n",
       "  </tbody>\n",
       "</table>\n",
       "<p>117 rows × 6 columns</p>\n",
       "</div>"
      ],
      "text/plain": [
       "     const  total_vaccinations_per_hundred  daily_vaccinations_per_million  \\\n",
       "59     1.0                          167.56                           12632   \n",
       "49     1.0                          230.55                           13774   \n",
       "69     1.0                          309.24                           13653   \n",
       "85     1.0                          258.91                           15359   \n",
       "142    1.0                          202.85                           10561   \n",
       "..     ...                             ...                             ...   \n",
       "88     1.0                          175.02                           12927   \n",
       "116    1.0                           68.37                           10630   \n",
       "20     1.0                           67.99                            3987   \n",
       "135    1.0                          190.06                           18958   \n",
       "55     1.0                          118.72                           11503   \n",
       "\n",
       "     covid_mortality_rate (per 100000)  Human Development Index 2021 (HDI)  \\\n",
       "59                          508.116635                               0.846   \n",
       "49                          204.055391                               0.942   \n",
       "69                           58.925903                               0.925   \n",
       "85                          187.373461                               0.918   \n",
       "142                         345.176169                               0.921   \n",
       "..                                 ...                                 ...   \n",
       "88                          253.532968                               0.758   \n",
       "116                         220.946125                               0.715   \n",
       "20                          559.112538                               0.795   \n",
       "135                          12.065077                               0.745   \n",
       "55                          163.466806                               0.714   \n",
       "\n",
       "     GDP per capita 2021 (US$)  \n",
       "59                18728.121895  \n",
       "49                51203.554473  \n",
       "69                39312.660373  \n",
       "85                33486.671984  \n",
       "142               70248.629000  \n",
       "..                         ...  \n",
       "88                10045.680500  \n",
       "116                9414.226231  \n",
       "20                12221.496606  \n",
       "135                4426.000637  \n",
       "55                 9998.544311  \n",
       "\n",
       "[117 rows x 6 columns]"
      ]
     },
     "execution_count": 29,
     "metadata": {},
     "output_type": "execute_result"
    }
   ],
   "source": [
    "X"
   ]
  },
  {
   "cell_type": "code",
   "execution_count": 30,
   "id": "fb38ab0f",
   "metadata": {},
   "outputs": [],
   "source": [
    "probit_mod = sm.Probit(Y, X)"
   ]
  },
  {
   "cell_type": "code",
   "execution_count": 31,
   "id": "8a545cee",
   "metadata": {},
   "outputs": [
    {
     "name": "stdout",
     "output_type": "stream",
     "text": [
      "Warning: Maximum number of iterations has been exceeded.\n",
      "         Current function value: 0.000000\n",
      "         Iterations: 35\n"
     ]
    },
    {
     "name": "stderr",
     "output_type": "stream",
     "text": [
      "C:\\Users\\andre\\anaconda3\\lib\\site-packages\\statsmodels\\base\\model.py:604: ConvergenceWarning: Maximum Likelihood optimization failed to converge. Check mle_retvals\n",
      "  warnings.warn(\"Maximum Likelihood optimization failed to \"\n"
     ]
    }
   ],
   "source": [
    "probit_res = probit_mod.fit()"
   ]
  },
  {
   "cell_type": "code",
   "execution_count": 32,
   "id": "b82b61b2",
   "metadata": {},
   "outputs": [
    {
     "name": "stdout",
     "output_type": "stream",
     "text": [
      "                                            Results: Probit\n",
      "=======================================================================================================\n",
      "Model:                        Probit                            Pseudo R-squared:           inf        \n",
      "Dependent Variable:           IncomeGroup_High income           AIC:                        12.0000    \n",
      "Date:                         2023-04-16 20:16                  BIC:                        28.5730    \n",
      "No. Observations:             117                               Log-Likelihood:             -1.4877e-14\n",
      "Df Model:                     5                                 LL-Null:                    0.0000     \n",
      "Df Residuals:                 111                               LLR p-value:                1.0000     \n",
      "Converged:                    0.0000                            Scale:                      1.0000     \n",
      "No. Iterations:               35.0000                                                                  \n",
      "-------------------------------------------------------------------------------------------------------\n",
      "                                    Coef.     Std.Err.       z    P>|z|       [0.025         0.975]    \n",
      "-------------------------------------------------------------------------------------------------------\n",
      "const                               4.3302 139591930.3062  0.0000 1.0000 -273595151.6024 273595160.2627\n",
      "total_vaccinations_per_hundred      0.0016    159077.7160  0.0000 1.0000    -311786.5924    311786.5957\n",
      "daily_vaccinations_per_million      0.0002      4241.1104  0.0000 1.0000      -8312.4234      8312.4239\n",
      "covid_mortality_rate (per 100000)   0.0046     66624.8141  0.0000 1.0000    -130582.2314    130582.2407\n",
      "Human Development Index 2021 (HDI)  0.5075 160776640.5602  0.0000 1.0000 -315116424.5458 315116425.5608\n",
      "GDP per capita 2021 (US$)          -0.0000       184.2464 -0.0000 1.0000       -361.1164       361.1164\n",
      "=======================================================================================================\n",
      "\n"
     ]
    },
    {
     "name": "stderr",
     "output_type": "stream",
     "text": [
      "C:\\Users\\andre\\anaconda3\\lib\\site-packages\\statsmodels\\discrete\\discrete_model.py:3511: RuntimeWarning: divide by zero encountered in double_scalars\n",
      "  return 1 - self.llf/self.llnull\n"
     ]
    }
   ],
   "source": [
    "print(probit_res.summary2())"
   ]
  },
  {
   "cell_type": "code",
   "execution_count": 33,
   "id": "17102672",
   "metadata": {},
   "outputs": [
    {
     "name": "stdout",
     "output_type": "stream",
     "text": [
      "         Probit Marginal Effects          \n",
      "==========================================\n",
      "Dep. Variable:     IncomeGroup_High income\n",
      "Method:                               dydx\n",
      "At:                                overall\n",
      "======================================================================================================\n",
      "                                        dy/dx    std err          z      P>|z|      [0.025      0.975]\n",
      "------------------------------------------------------------------------------------------------------\n",
      "total_vaccinations_per_hundred       1.58e-10      0.038   4.18e-09      1.000      -0.074       0.074\n",
      "daily_vaccinations_per_million      2.227e-11      0.007   3.27e-09      1.000      -0.013       0.013\n",
      "covid_mortality_rate (per 100000)   4.479e-10      0.134   3.35e-09      1.000      -0.262       0.262\n",
      "Human Development Index 2021 (HDI)  4.908e-08     27.723   1.77e-09      1.000     -54.335      54.335\n",
      "GDP per capita 2021 (US$)          -1.794e-13   6.76e-05  -2.65e-09      1.000      -0.000       0.000\n",
      "======================================================================================================\n"
     ]
    }
   ],
   "source": [
    "print(probit_res.get_margeff(at='overall', method='dydx').summary())"
   ]
  },
  {
   "cell_type": "code",
   "execution_count": 34,
   "id": "4b1dff6d",
   "metadata": {},
   "outputs": [
    {
     "data": {
      "text/html": [
       "<div>\n",
       "<style scoped>\n",
       "    .dataframe tbody tr th:only-of-type {\n",
       "        vertical-align: middle;\n",
       "    }\n",
       "\n",
       "    .dataframe tbody tr th {\n",
       "        vertical-align: top;\n",
       "    }\n",
       "\n",
       "    .dataframe thead th {\n",
       "        text-align: right;\n",
       "    }\n",
       "</style>\n",
       "<table border=\"1\" class=\"dataframe\">\n",
       "  <thead>\n",
       "    <tr style=\"text-align: right;\">\n",
       "      <th></th>\n",
       "      <th>const</th>\n",
       "      <th>total_vaccinations_per_hundred</th>\n",
       "      <th>daily_vaccinations_per_million</th>\n",
       "      <th>covid_mortality_rate (per 100000)</th>\n",
       "      <th>Human Development Index 2021 (HDI)</th>\n",
       "      <th>GDP per capita 2021 (US$)</th>\n",
       "    </tr>\n",
       "  </thead>\n",
       "  <tbody>\n",
       "    <tr>\n",
       "      <th>59</th>\n",
       "      <td>1.0</td>\n",
       "      <td>167.56</td>\n",
       "      <td>12632</td>\n",
       "      <td>508.116635</td>\n",
       "      <td>0.846</td>\n",
       "      <td>18728.121895</td>\n",
       "    </tr>\n",
       "    <tr>\n",
       "      <th>49</th>\n",
       "      <td>1.0</td>\n",
       "      <td>230.55</td>\n",
       "      <td>13774</td>\n",
       "      <td>204.055391</td>\n",
       "      <td>0.942</td>\n",
       "      <td>51203.554473</td>\n",
       "    </tr>\n",
       "    <tr>\n",
       "      <th>69</th>\n",
       "      <td>1.0</td>\n",
       "      <td>309.24</td>\n",
       "      <td>13653</td>\n",
       "      <td>58.925903</td>\n",
       "      <td>0.925</td>\n",
       "      <td>39312.660373</td>\n",
       "    </tr>\n",
       "  </tbody>\n",
       "</table>\n",
       "</div>"
      ],
      "text/plain": [
       "    const  total_vaccinations_per_hundred  daily_vaccinations_per_million  \\\n",
       "59    1.0                          167.56                           12632   \n",
       "49    1.0                          230.55                           13774   \n",
       "69    1.0                          309.24                           13653   \n",
       "\n",
       "    covid_mortality_rate (per 100000)  Human Development Index 2021 (HDI)  \\\n",
       "59                         508.116635                               0.846   \n",
       "49                         204.055391                               0.942   \n",
       "69                          58.925903                               0.925   \n",
       "\n",
       "    GDP per capita 2021 (US$)  \n",
       "59               18728.121895  \n",
       "49               51203.554473  \n",
       "69               39312.660373  "
      ]
     },
     "execution_count": 34,
     "metadata": {},
     "output_type": "execute_result"
    }
   ],
   "source": [
    "X.head(3)"
   ]
  },
  {
   "cell_type": "code",
   "execution_count": 35,
   "id": "d07b96a6",
   "metadata": {},
   "outputs": [
    {
     "name": "stdout",
     "output_type": "stream",
     "text": [
      "143    1.0\n",
      "25     1.0\n",
      "112    1.0\n",
      "119    1.0\n",
      "105    1.0\n",
      "67     1.0\n",
      "60     1.0\n",
      "34     1.0\n",
      "11     1.0\n",
      "45     1.0\n",
      "42     1.0\n",
      "19     1.0\n",
      "79     1.0\n",
      "51     1.0\n",
      "111    1.0\n",
      "dtype: float64\n"
     ]
    }
   ],
   "source": [
    "predictions = probit_res.predict(X)\n",
    "print(predictions[15:30])"
   ]
  },
  {
   "cell_type": "code",
   "execution_count": 36,
   "id": "65a2adbf",
   "metadata": {},
   "outputs": [
    {
     "data": {
      "text/plain": [
       "143    1\n",
       "25     1\n",
       "112    1\n",
       "119    1\n",
       "105    1\n",
       "67     1\n",
       "60     1\n",
       "34     1\n",
       "11     1\n",
       "45     1\n",
       "42     1\n",
       "19     1\n",
       "79     1\n",
       "51     1\n",
       "111    1\n",
       "Name: IncomeGroup_High income, dtype: uint8"
      ]
     },
     "execution_count": 36,
     "metadata": {},
     "output_type": "execute_result"
    }
   ],
   "source": [
    "Y[15:30]"
   ]
  },
  {
   "cell_type": "code",
   "execution_count": 37,
   "id": "dd92a0c8",
   "metadata": {},
   "outputs": [
    {
     "data": {
      "image/png": "[encoded data removed]",
      "text/plain": [
       "<Figure size 504x504 with 6 Axes>"
      ]
     },
     "metadata": {
      "needs_background": "light"
     },
     "output_type": "display_data"
    }
   ],
   "source": [
    "dataset.plot(kind='box', subplots=True, layout=(3,2), sharex=False, sharey=False, figsize=(7, 7))\n",
    "plt.show()"
   ]
  },
  {
   "cell_type": "code",
   "execution_count": 38,
   "id": "3381d4bb",
   "metadata": {},
   "outputs": [
    {
     "data": {
      "image/png": "[encoded data removed]",
      "text/plain": [
       "<Figure size 576x576 with 6 Axes>"
      ]
     },
     "metadata": {
      "needs_background": "light"
     },
     "output_type": "display_data"
    }
   ],
   "source": [
    "dataset.hist(figsize=(8, 8))\n",
    "plt.show()"
   ]
  },
  {
   "cell_type": "code",
   "execution_count": 39,
   "id": "73655468",
   "metadata": {},
   "outputs": [
    {
     "data": {
      "image/png": "[encoded data removed]",
      "text/plain": [
       "<Figure size 1080x1080 with 25 Axes>"
      ]
     },
     "metadata": {
      "needs_background": "light"
     },
     "output_type": "display_data"
    }
   ],
   "source": [
    "scatter_matrix(dataset, figsize=(15,15))\n",
    "plt.show()"
   ]
  },
  {
   "cell_type": "code",
   "execution_count": 40,
   "id": "3bf34c43",
   "metadata": {},
   "outputs": [
    {
     "data": {
      "text/html": [
       "<div>\n",
       "<style scoped>\n",
       "    .dataframe tbody tr th:only-of-type {\n",
       "        vertical-align: middle;\n",
       "    }\n",
       "\n",
       "    .dataframe tbody tr th {\n",
       "        vertical-align: top;\n",
       "    }\n",
       "\n",
       "    .dataframe thead th {\n",
       "        text-align: right;\n",
       "    }\n",
       "</style>\n",
       "<table border=\"1\" class=\"dataframe\">\n",
       "  <thead>\n",
       "    <tr style=\"text-align: right;\">\n",
       "      <th></th>\n",
       "      <th>total_vaccinations_per_hundred</th>\n",
       "      <th>daily_vaccinations_per_million</th>\n",
       "      <th>covid_mortality_rate (per 100000)</th>\n",
       "      <th>Human Development Index 2021 (HDI)</th>\n",
       "      <th>GDP per capita 2021 (US$)</th>\n",
       "      <th>IncomeGroup</th>\n",
       "    </tr>\n",
       "  </thead>\n",
       "  <tbody>\n",
       "    <tr>\n",
       "      <th>59</th>\n",
       "      <td>167.56</td>\n",
       "      <td>12632</td>\n",
       "      <td>508.116635</td>\n",
       "      <td>0.846</td>\n",
       "      <td>18728.121895</td>\n",
       "      <td>High income</td>\n",
       "    </tr>\n",
       "    <tr>\n",
       "      <th>49</th>\n",
       "      <td>230.55</td>\n",
       "      <td>13774</td>\n",
       "      <td>204.055391</td>\n",
       "      <td>0.942</td>\n",
       "      <td>51203.554473</td>\n",
       "      <td>High income</td>\n",
       "    </tr>\n",
       "    <tr>\n",
       "      <th>69</th>\n",
       "      <td>309.24</td>\n",
       "      <td>13653</td>\n",
       "      <td>58.925903</td>\n",
       "      <td>0.925</td>\n",
       "      <td>39312.660373</td>\n",
       "      <td>High income</td>\n",
       "    </tr>\n",
       "    <tr>\n",
       "      <th>85</th>\n",
       "      <td>258.91</td>\n",
       "      <td>15359</td>\n",
       "      <td>187.373461</td>\n",
       "      <td>0.918</td>\n",
       "      <td>33486.671984</td>\n",
       "      <td>High income</td>\n",
       "    </tr>\n",
       "    <tr>\n",
       "      <th>142</th>\n",
       "      <td>202.85</td>\n",
       "      <td>10561</td>\n",
       "      <td>345.176169</td>\n",
       "      <td>0.921</td>\n",
       "      <td>70248.629000</td>\n",
       "      <td>High income</td>\n",
       "    </tr>\n",
       "    <tr>\n",
       "      <th>...</th>\n",
       "      <td>...</td>\n",
       "      <td>...</td>\n",
       "      <td>...</td>\n",
       "      <td>...</td>\n",
       "      <td>...</td>\n",
       "      <td>...</td>\n",
       "    </tr>\n",
       "    <tr>\n",
       "      <th>88</th>\n",
       "      <td>175.02</td>\n",
       "      <td>12927</td>\n",
       "      <td>253.532968</td>\n",
       "      <td>0.758</td>\n",
       "      <td>10045.680500</td>\n",
       "      <td>Upper middle income</td>\n",
       "    </tr>\n",
       "    <tr>\n",
       "      <th>116</th>\n",
       "      <td>68.37</td>\n",
       "      <td>10630</td>\n",
       "      <td>220.946125</td>\n",
       "      <td>0.715</td>\n",
       "      <td>9414.226231</td>\n",
       "      <td>Upper middle income</td>\n",
       "    </tr>\n",
       "    <tr>\n",
       "      <th>20</th>\n",
       "      <td>67.99</td>\n",
       "      <td>3987</td>\n",
       "      <td>559.112538</td>\n",
       "      <td>0.795</td>\n",
       "      <td>12221.496606</td>\n",
       "      <td>Upper middle income</td>\n",
       "    </tr>\n",
       "    <tr>\n",
       "      <th>135</th>\n",
       "      <td>190.06</td>\n",
       "      <td>18958</td>\n",
       "      <td>12.065077</td>\n",
       "      <td>0.745</td>\n",
       "      <td>4426.000637</td>\n",
       "      <td>Upper middle income</td>\n",
       "    </tr>\n",
       "    <tr>\n",
       "      <th>55</th>\n",
       "      <td>118.72</td>\n",
       "      <td>11503</td>\n",
       "      <td>163.466806</td>\n",
       "      <td>0.714</td>\n",
       "      <td>9998.544311</td>\n",
       "      <td>Upper middle income</td>\n",
       "    </tr>\n",
       "  </tbody>\n",
       "</table>\n",
       "<p>117 rows × 6 columns</p>\n",
       "</div>"
      ],
      "text/plain": [
       "     total_vaccinations_per_hundred  daily_vaccinations_per_million  \\\n",
       "59                           167.56                           12632   \n",
       "49                           230.55                           13774   \n",
       "69                           309.24                           13653   \n",
       "85                           258.91                           15359   \n",
       "142                          202.85                           10561   \n",
       "..                              ...                             ...   \n",
       "88                           175.02                           12927   \n",
       "116                           68.37                           10630   \n",
       "20                            67.99                            3987   \n",
       "135                          190.06                           18958   \n",
       "55                           118.72                           11503   \n",
       "\n",
       "     covid_mortality_rate (per 100000)  Human Development Index 2021 (HDI)  \\\n",
       "59                          508.116635                               0.846   \n",
       "49                          204.055391                               0.942   \n",
       "69                           58.925903                               0.925   \n",
       "85                          187.373461                               0.918   \n",
       "142                         345.176169                               0.921   \n",
       "..                                 ...                                 ...   \n",
       "88                          253.532968                               0.758   \n",
       "116                         220.946125                               0.715   \n",
       "20                          559.112538                               0.795   \n",
       "135                          12.065077                               0.745   \n",
       "55                          163.466806                               0.714   \n",
       "\n",
       "     GDP per capita 2021 (US$)          IncomeGroup  \n",
       "59                18728.121895          High income  \n",
       "49                51203.554473          High income  \n",
       "69                39312.660373          High income  \n",
       "85                33486.671984          High income  \n",
       "142               70248.629000          High income  \n",
       "..                         ...                  ...  \n",
       "88                10045.680500  Upper middle income  \n",
       "116                9414.226231  Upper middle income  \n",
       "20                12221.496606  Upper middle income  \n",
       "135                4426.000637  Upper middle income  \n",
       "55                 9998.544311  Upper middle income  \n",
       "\n",
       "[117 rows x 6 columns]"
      ]
     },
     "execution_count": 40,
     "metadata": {},
     "output_type": "execute_result"
    }
   ],
   "source": [
    "dataset"
   ]
  },
  {
   "cell_type": "code",
   "execution_count": 41,
   "id": "163795d3",
   "metadata": {},
   "outputs": [
    {
     "data": {
      "text/plain": [
       "array([[167.56, 12632, 508.1166352062754, 0.846, 18728.12189486889,\n",
       "        'High income'],\n",
       "       [230.55, 13774, 204.0553912352542, 0.942, 51203.55447310433,\n",
       "        'High income'],\n",
       "       [309.24, 13653, 58.92590314126932, 0.925, 39312.66037306932,\n",
       "        'High income'],\n",
       "       [258.91, 15359, 187.3734609815036, 0.918, 33486.67198385498,\n",
       "        'High income'],\n",
       "       [202.85, 10561, 345.1761686582059, 0.921, 70248.62900022416,\n",
       "        'High income'],\n",
       "       [154.84, 13367, 86.9272367563218, 0.816, 19509.46646338666,\n",
       "        'High income'],\n",
       "       [165.28, 10041, 362.2486012740691, 0.875, 23723.34025103447,\n",
       "        'High income'],\n",
       "       [101.96, 6362, 386.7079423749307, 0.848, 21391.92533360423,\n",
       "        'High income'],\n",
       "       [228.73, 12715, 244.3775084898491, 0.916, 53637.70571098969,\n",
       "        'High income'],\n",
       "       [200.74, 13965, 110.2676422097014, 0.896, 31551.81640625,\n",
       "        'High income'],\n",
       "       [145.42, 8564, 316.3531535751992, 0.876, 17999.90994954462,\n",
       "        'High income'],\n",
       "       [223.5, 12724, 94.58628253955006, 0.961, 89154.2760934922,\n",
       "        'High income'],\n",
       "       [193.77, 10594, 164.7207423785598, 0.962, 91991.60045835626,\n",
       "        'High income'],\n",
       "       [256.36, 21284, 144.0800692379541, 0.948, 68007.75667329543,\n",
       "        'High income'],\n",
       "       [205.56, 15350, 133.5855143382192, 0.941, 57767.87881081733,\n",
       "        'High income'],\n",
       "       [263.28, 14465, 217.9909931762326, 0.809, 17313.1883484186,\n",
       "        'High income'],\n",
       "       [252.13, 14195, 135.7727183294524, 0.936, 51987.93905297284,\n",
       "        'High income'],\n",
       "       [282.31, 13856, 23.12146487399808, 0.855, 66838.35743301403,\n",
       "        'High income'],\n",
       "       [188.01, 11068, 26.87131943897528, 0.875, 23185.87079177973,\n",
       "        'High income'],\n",
       "       [199.13, 16275, 193.6602140246694, 0.805, 14617.60448163719,\n",
       "        'High income'],\n",
       "       [243.64, 11268, 313.7741594022312, 0.895, 35657.49756316908,\n",
       "        'High income'],\n",
       "       [216.0, 20236, 66.30128578170374, 0.959, 68727.63666470899,\n",
       "        'High income'],\n",
       "       [133.02, 8818, 445.1275421342571, 0.858, 17685.32528345529,\n",
       "        'High income'],\n",
       "       [254.2, 13306, 291.8939709869786, 0.937, 51247.01435316263,\n",
       "        'High income'],\n",
       "       [238.38, 13014, 162.9894724714489, 0.94, 53654.75029642592,\n",
       "        'High income'],\n",
       "       [159.21, 7663, 224.7505503400383, 0.89, 27943.70121988203,\n",
       "        'High income'],\n",
       "       [287.58, 17597, 50.51287404783233, 0.829, 31449.07656207271,\n",
       "        'High income'],\n",
       "       [212.25, 11143, 176.377825275425, 0.93, 133590.1469755861,\n",
       "        'High income'],\n",
       "       [212.99, 10506, 353.962245642645, 0.887, 20192.59630390607,\n",
       "        'High income'],\n",
       "       [274.15, 14809, 260.4192860953576, 0.866, 24567.50926509997,\n",
       "        'High income'],\n",
       "       [236.15, 14945, 87.38872511677522, 0.875, 26562.96913540261,\n",
       "        'High income'],\n",
       "       [250.21, 17003, 66.81485969804851, 0.925, 34997.78164278481,\n",
       "        'High income'],\n",
       "       [261.27, 13437, 28.9726032237321, 0.939, 72794.00302267385,\n",
       "        'High income'],\n",
       "       [156.47, 9204, 340.2138749927657, 0.863, 21148.16294054151,\n",
       "        'High income'],\n",
       "       [141.36, 9020, 341.669096848271, 0.918, 29291.40062344306,\n",
       "        'High income'],\n",
       "       [88.95, 8471, 207.981703602353, 0.812, 27478.38962898315,\n",
       "        'High income'],\n",
       "       [103.26, 11697, 310.8237326574647, 0.81, 16032.50276809923,\n",
       "        'High income'],\n",
       "       [243.27, 11302, 76.1677027458733, 0.951, 60443.10916499681,\n",
       "        'High income'],\n",
       "       [222.32, 14090, 257.7658639364567, 0.905, 30103.51373319099,\n",
       "        'High income'],\n",
       "       [147.57, 19422, 10.13230409798232, 0.607, 2535.623431521099,\n",
       "        'Lower middle income'],\n",
       "       [4.45, 656, 7.362835301165219, 0.535, 1829.593044172109,\n",
       "        'Lower middle income'],\n",
       "       [89.71, 4301, 3.006239785903821, 0.55, 2549.041297247338,\n",
       "        'Lower middle income'],\n",
       "       [148.35, 9226, 13.35576032025309, 0.544, 1505.010192794294,\n",
       "        'Lower middle income'],\n",
       "       [144.98, 11297, 72.7525111066485, 0.662, 3293.233054306135,\n",
       "        'Lower middle income'],\n",
       "       [13.96, 1187, 6.65769200585394, 0.571, 2290.382891332437,\n",
       "        'Lower middle income'],\n",
       "       [178.19, 13840, 168.8156367128418, 0.774, 4091.209186705343,\n",
       "        'Lower middle income'],\n",
       "       [66.87, 13212, 4.512979446187659, 0.632, 2363.299296214216,\n",
       "        'Lower middle income'],\n",
       "       [278.81, 35391, 17.79989666041671, 0.593, 1625.235019554537,\n",
       "        'Lower middle income'],\n",
       "       [31.7, 4514, 1.274958884531432, 0.525, 1319.154994517401,\n",
       "        'Lower middle income'],\n",
       "       [147.86, 10714, 43.14220545622882, 0.683, 3795.38012695313,\n",
       "        'Lower middle income'],\n",
       "       [7.23, 512, 7.21037251905341, 0.558, 2672.945790355177,\n",
       "        'Lower middle income'],\n",
       "       [85.9, 15163, 20.33871612313471, 0.556, 2166.046798582141,\n",
       "        'Lower middle income'],\n",
       "       [71.4, 7971, 101.0936030609437, 0.715, 3663.969054688752,\n",
       "        'Lower middle income'],\n",
       "       [220.13, 61197, 3.319024649289729, 0.667, 2045.535401890141,\n",
       "        'Lower middle income'],\n",
       "       [161.63, 36918, 64.50413519166817, 0.739, 4566.140154330138,\n",
       "        'Lower middle income'],\n",
       "       [155.7, 7083, 37.74377979073893, 0.633, 2256.590408705059,\n",
       "        'Lower middle income'],\n",
       "       [60.14, 4026, 1.336523506462628, 0.549, 1099.28759765625,\n",
       "        'Lower middle income'],\n",
       "       [218.04, 12311, 4.761200629955996, 0.727, 1983.064722889918,\n",
       "        'Lower middle income'],\n",
       "       [120.18, 8817, 186.5725157129497, 0.692, 3345.196588738308,\n",
       "        'Lower middle income'],\n",
       "       [147.71, 14098, 59.01394869818141, 0.699, 3460.53096344408,\n",
       "        'Lower middle income'],\n",
       "       [58.07, 7486, 33.23069965100871, 0.514, 1094.09818489303,\n",
       "        'Lower middle income'],\n",
       "       [161.27, 7715, 57.69225843290137, 0.705, 4332.709280893962,\n",
       "        'Lower middle income'],\n",
       "       [183.75, 21785, 78.02244751328824, 0.782, 4013.687656836036,\n",
       "        'Lower middle income'],\n",
       "       [107.21, 13547, 243.7439900334167, 0.731, 3807.13915027254,\n",
       "        'Lower middle income'],\n",
       "       [74.89, 7435, 37.04155933811253, 0.593, 1773.920410880781,\n",
       "        'Lower middle income'],\n",
       "       [79.77, 6423, 258.283211924619, 0.773, 4835.57177734375,\n",
       "        'Lower middle income'],\n",
       "       [34.0, 5722, 15.17304860835294, 0.745, 3690.627877975985,\n",
       "        'Lower middle income'],\n",
       "       [15.33, 8319, 7.050845048078308, 0.576, 1666.932734431219,\n",
       "        'Lower middle income'],\n",
       "       [203.62, 20639, 15.32839857792018, 0.707, 3857.318464018038,\n",
       "        'Lower middle income'],\n",
       "       [100.05, 5545, 23.1855378462622, 0.731, 3698.834981058614,\n",
       "        'Lower middle income'],\n",
       "       [112.21, 27064, 4.350095702105446, 0.607, 2996.621061544835,\n",
       "        'Lower middle income'],\n",
       "       [53.36, 2251, 1.455614592453705, 0.535, 2065.749067509225,\n",
       "        'Lower middle income'],\n",
       "       [209.05, 21955, 17.53931509909698, 0.661, 2457.924879863609,\n",
       "        'Lower middle income'],\n",
       "       [43.24, 4545, 10.11825605026084, 0.575, 2081.799854584381,\n",
       "        'Lower middle income'],\n",
       "       [165.52, 16728, 108.7049359045917, 0.621, 2771.717460509461,\n",
       "        'Lower middle income'],\n",
       "       [69.88, 5147, 5.518545897129566, 0.586, 1953.533757215079,\n",
       "        'Lower middle income'],\n",
       "       [200.26, 18574, 39.76763789031424, 0.602, 1208.218533837672,\n",
       "        'Lower middle income'],\n",
       "       [271.4, 17064, 43.64270299331683, 0.703, 3756.489121173255,\n",
       "        'Lower middle income'],\n",
       "       [59.53, 5334, 501.8285381204727, 0.78, 7143.310548432097,\n",
       "        'Upper middle income'],\n",
       "       [219.79, 19704, 198.8421696006611, 0.74, 5965.132870544159,\n",
       "        'Upper middle income'],\n",
       "       [64.52, 4028, 168.8636052968149, 0.713, 7055.044775987833,\n",
       "        'Upper middle income'],\n",
       "       [69.79, 4942, 301.1583608074512, 0.767, 5230.661732894971,\n",
       "        'Upper middle income'],\n",
       "       [113.85, 5420, 108.6308525288824, 0.627, 5025.542290777896,\n",
       "        'Upper middle income'],\n",
       "       [108.03, 6180, 125.6639922075766, 0.796, 6492.872012246336,\n",
       "        'Upper middle income'],\n",
       "       [124.2, 9379, 207.7888218396915, 0.802, 9230.178316026007,\n",
       "        'Upper middle income'],\n",
       "       [120.58, 21576, 114.7404391842901, 0.693, 6805.221273988972,\n",
       "        'Upper middle income'],\n",
       "       [174.05, 7990, 276.9760239219943, 0.752, 6104.136709303895,\n",
       "        'Upper middle income'],\n",
       "       [70.62, 8551, 111.1599178850929, 0.751, 8666.38704104884,\n",
       "        'Upper middle income'],\n",
       "       [201.21, 15829, 81.82144098304971, 0.802, 9106.237202306995,\n",
       "        'Upper middle income'],\n",
       "       [181.67, 14973, 57.48773071342089, 0.747, 10366.29335840659,\n",
       "        'Upper middle income'],\n",
       "       [53.78, 4871, 118.2207327474445, 0.709, 5183.581304586759,\n",
       "        'Upper middle income'],\n",
       "       [78.27, 7927, 428.8264934596338, 0.802, 5023.274379619787,\n",
       "        'Upper middle income'],\n",
       "       [81.82, 10093, 235.2424723246614, 0.73, 4869.134226212424,\n",
       "        'Upper middle income'],\n",
       "       [123.94, 11274, 166.9133166743492, 0.683, 6228.26730928353,\n",
       "        'Upper middle income'],\n",
       "       [141.89, 13359, 272.4120953598373, 0.717, 5891.499965046411,\n",
       "        'Upper middle income'],\n",
       "       [260.29, 11457, 652.6411426980857, 0.762, 6621.574336018813,\n",
       "        'Upper middle income'],\n",
       "       [198.94, 11802, 48.42875323158614, 0.8, 7066.190545953232,\n",
       "        'Upper middle income'],\n",
       "       [178.75, 14816, 118.6181113909758, 0.838, 9661.23597511355,\n",
       "        'Upper middle income'],\n",
       "       [38.44, 6368, 155.2845732180051, 0.615, 4865.557764708638,\n",
       "        'Upper middle income'],\n",
       "       [225.92, 9016, 325.3049973491736, 0.754, 7507.160970802335,\n",
       "        'Upper middle income'],\n",
       "       [244.84, 15727, 0.3639699064821024, 0.768, 12556.33312000579,\n",
       "        'Upper middle income'],\n",
       "       [89.12, 7773, 137.0952295384011, 0.72, 4103.258965995832,\n",
       "        'Upper middle income'],\n",
       "       [88.97, 7465, 464.4203826062891, 0.77, 6694.641125817087,\n",
       "        'Upper middle income'],\n",
       "       [43.95, 9784, 60.18029423242732, 0.686, 4775.377453901298,\n",
       "        'Upper middle income'],\n",
       "       [77.45, 6441, 294.0477784739126, 0.759, 4966.51347122366,\n",
       "        'Upper middle income'],\n",
       "       [133.78, 8302, 98.92036129378008, 0.745, 5387.997974953834,\n",
       "        'Upper middle income'],\n",
       "       [108.31, 17983, 448.4433474002707, 0.832, 9465.703998795567,\n",
       "        'Upper middle income'],\n",
       "       [213.92, 16225, 111.4551091055768, 0.803, 11109.26183877448,\n",
       "        'Upper middle income'],\n",
       "       [144.89, 16405, 39.65135030756026, 0.767, 8476.75215730978,\n",
       "        'Upper middle income'],\n",
       "       [128.97, 7049, 272.5677574728828, 0.822, 12194.77734375,\n",
       "        'Upper middle income'],\n",
       "       [202.28, 8087, 75.46009668391146, 0.808, 7302.257794187743,\n",
       "        'Upper middle income'],\n",
       "       [248.7, 16861, 179.6287941734586, 0.809, 12472.44372949542,\n",
       "        'Upper middle income'],\n",
       "       [175.02, 12927, 253.5329675175892, 0.758, 10045.68050049632,\n",
       "        'Upper middle income'],\n",
       "       [68.37, 10630, 220.9461247994468, 0.715, 9414.226230859833,\n",
       "        'Upper middle income'],\n",
       "       [67.99, 3987, 559.1125379624249, 0.795, 12221.49660641709,\n",
       "        'Upper middle income'],\n",
       "       [190.06, 18958, 12.06507717008975, 0.745, 4426.000637062813,\n",
       "        'Upper middle income'],\n",
       "       [118.72, 11503, 163.4668060374412, 0.714, 9998.544311361555,\n",
       "        'Upper middle income']], dtype=object)"
      ]
     },
     "execution_count": 41,
     "metadata": {},
     "output_type": "execute_result"
    }
   ],
   "source": [
    "dataset.values"
   ]
  },
  {
   "cell_type": "code",
   "execution_count": 42,
   "id": "3eecdac1",
   "metadata": {},
   "outputs": [],
   "source": [
    "array = dataset.values"
   ]
  },
  {
   "cell_type": "code",
   "execution_count": 43,
   "id": "ae6baa1c",
   "metadata": {},
   "outputs": [
    {
     "data": {
      "text/plain": [
       "array([[167.56, 12632, 508.1166352062754, 0.846, 18728.12189486889,\n",
       "        'High income'],\n",
       "       [230.55, 13774, 204.0553912352542, 0.942, 51203.55447310433,\n",
       "        'High income'],\n",
       "       [309.24, 13653, 58.92590314126932, 0.925, 39312.66037306932,\n",
       "        'High income'],\n",
       "       [258.91, 15359, 187.3734609815036, 0.918, 33486.67198385498,\n",
       "        'High income'],\n",
       "       [202.85, 10561, 345.1761686582059, 0.921, 70248.62900022416,\n",
       "        'High income'],\n",
       "       [154.84, 13367, 86.9272367563218, 0.816, 19509.46646338666,\n",
       "        'High income'],\n",
       "       [165.28, 10041, 362.2486012740691, 0.875, 23723.34025103447,\n",
       "        'High income'],\n",
       "       [101.96, 6362, 386.7079423749307, 0.848, 21391.92533360423,\n",
       "        'High income'],\n",
       "       [228.73, 12715, 244.3775084898491, 0.916, 53637.70571098969,\n",
       "        'High income'],\n",
       "       [200.74, 13965, 110.2676422097014, 0.896, 31551.81640625,\n",
       "        'High income'],\n",
       "       [145.42, 8564, 316.3531535751992, 0.876, 17999.90994954462,\n",
       "        'High income'],\n",
       "       [223.5, 12724, 94.58628253955006, 0.961, 89154.2760934922,\n",
       "        'High income'],\n",
       "       [193.77, 10594, 164.7207423785598, 0.962, 91991.60045835626,\n",
       "        'High income'],\n",
       "       [256.36, 21284, 144.0800692379541, 0.948, 68007.75667329543,\n",
       "        'High income'],\n",
       "       [205.56, 15350, 133.5855143382192, 0.941, 57767.87881081733,\n",
       "        'High income'],\n",
       "       [263.28, 14465, 217.9909931762326, 0.809, 17313.1883484186,\n",
       "        'High income'],\n",
       "       [252.13, 14195, 135.7727183294524, 0.936, 51987.93905297284,\n",
       "        'High income'],\n",
       "       [282.31, 13856, 23.12146487399808, 0.855, 66838.35743301403,\n",
       "        'High income'],\n",
       "       [188.01, 11068, 26.87131943897528, 0.875, 23185.87079177973,\n",
       "        'High income'],\n",
       "       [199.13, 16275, 193.6602140246694, 0.805, 14617.60448163719,\n",
       "        'High income'],\n",
       "       [243.64, 11268, 313.7741594022312, 0.895, 35657.49756316908,\n",
       "        'High income'],\n",
       "       [216.0, 20236, 66.30128578170374, 0.959, 68727.63666470899,\n",
       "        'High income'],\n",
       "       [133.02, 8818, 445.1275421342571, 0.858, 17685.32528345529,\n",
       "        'High income'],\n",
       "       [254.2, 13306, 291.8939709869786, 0.937, 51247.01435316263,\n",
       "        'High income'],\n",
       "       [238.38, 13014, 162.9894724714489, 0.94, 53654.75029642592,\n",
       "        'High income'],\n",
       "       [159.21, 7663, 224.7505503400383, 0.89, 27943.70121988203,\n",
       "        'High income'],\n",
       "       [287.58, 17597, 50.51287404783233, 0.829, 31449.07656207271,\n",
       "        'High income'],\n",
       "       [212.25, 11143, 176.377825275425, 0.93, 133590.1469755861,\n",
       "        'High income'],\n",
       "       [212.99, 10506, 353.962245642645, 0.887, 20192.59630390607,\n",
       "        'High income'],\n",
       "       [274.15, 14809, 260.4192860953576, 0.866, 24567.50926509997,\n",
       "        'High income'],\n",
       "       [236.15, 14945, 87.38872511677522, 0.875, 26562.96913540261,\n",
       "        'High income'],\n",
       "       [250.21, 17003, 66.81485969804851, 0.925, 34997.78164278481,\n",
       "        'High income'],\n",
       "       [261.27, 13437, 28.9726032237321, 0.939, 72794.00302267385,\n",
       "        'High income'],\n",
       "       [156.47, 9204, 340.2138749927657, 0.863, 21148.16294054151,\n",
       "        'High income'],\n",
       "       [141.36, 9020, 341.669096848271, 0.918, 29291.40062344306,\n",
       "        'High income'],\n",
       "       [88.95, 8471, 207.981703602353, 0.812, 27478.38962898315,\n",
       "        'High income'],\n",
       "       [103.26, 11697, 310.8237326574647, 0.81, 16032.50276809923,\n",
       "        'High income'],\n",
       "       [243.27, 11302, 76.1677027458733, 0.951, 60443.10916499681,\n",
       "        'High income'],\n",
       "       [222.32, 14090, 257.7658639364567, 0.905, 30103.51373319099,\n",
       "        'High income'],\n",
       "       [147.57, 19422, 10.13230409798232, 0.607, 2535.623431521099,\n",
       "        'Lower middle income'],\n",
       "       [4.45, 656, 7.362835301165219, 0.535, 1829.593044172109,\n",
       "        'Lower middle income'],\n",
       "       [89.71, 4301, 3.006239785903821, 0.55, 2549.041297247338,\n",
       "        'Lower middle income'],\n",
       "       [148.35, 9226, 13.35576032025309, 0.544, 1505.010192794294,\n",
       "        'Lower middle income'],\n",
       "       [144.98, 11297, 72.7525111066485, 0.662, 3293.233054306135,\n",
       "        'Lower middle income'],\n",
       "       [13.96, 1187, 6.65769200585394, 0.571, 2290.382891332437,\n",
       "        'Lower middle income'],\n",
       "       [178.19, 13840, 168.8156367128418, 0.774, 4091.209186705343,\n",
       "        'Lower middle income'],\n",
       "       [66.87, 13212, 4.512979446187659, 0.632, 2363.299296214216,\n",
       "        'Lower middle income'],\n",
       "       [278.81, 35391, 17.79989666041671, 0.593, 1625.235019554537,\n",
       "        'Lower middle income'],\n",
       "       [31.7, 4514, 1.274958884531432, 0.525, 1319.154994517401,\n",
       "        'Lower middle income'],\n",
       "       [147.86, 10714, 43.14220545622882, 0.683, 3795.38012695313,\n",
       "        'Lower middle income'],\n",
       "       [7.23, 512, 7.21037251905341, 0.558, 2672.945790355177,\n",
       "        'Lower middle income'],\n",
       "       [85.9, 15163, 20.33871612313471, 0.556, 2166.046798582141,\n",
       "        'Lower middle income'],\n",
       "       [71.4, 7971, 101.0936030609437, 0.715, 3663.969054688752,\n",
       "        'Lower middle income'],\n",
       "       [220.13, 61197, 3.319024649289729, 0.667, 2045.535401890141,\n",
       "        'Lower middle income'],\n",
       "       [161.63, 36918, 64.50413519166817, 0.739, 4566.140154330138,\n",
       "        'Lower middle income'],\n",
       "       [155.7, 7083, 37.74377979073893, 0.633, 2256.590408705059,\n",
       "        'Lower middle income'],\n",
       "       [60.14, 4026, 1.336523506462628, 0.549, 1099.28759765625,\n",
       "        'Lower middle income'],\n",
       "       [218.04, 12311, 4.761200629955996, 0.727, 1983.064722889918,\n",
       "        'Lower middle income'],\n",
       "       [120.18, 8817, 186.5725157129497, 0.692, 3345.196588738308,\n",
       "        'Lower middle income'],\n",
       "       [147.71, 14098, 59.01394869818141, 0.699, 3460.53096344408,\n",
       "        'Lower middle income'],\n",
       "       [58.07, 7486, 33.23069965100871, 0.514, 1094.09818489303,\n",
       "        'Lower middle income'],\n",
       "       [161.27, 7715, 57.69225843290137, 0.705, 4332.709280893962,\n",
       "        'Lower middle income'],\n",
       "       [183.75, 21785, 78.02244751328824, 0.782, 4013.687656836036,\n",
       "        'Lower middle income'],\n",
       "       [107.21, 13547, 243.7439900334167, 0.731, 3807.13915027254,\n",
       "        'Lower middle income'],\n",
       "       [74.89, 7435, 37.04155933811253, 0.593, 1773.920410880781,\n",
       "        'Lower middle income'],\n",
       "       [79.77, 6423, 258.283211924619, 0.773, 4835.57177734375,\n",
       "        'Lower middle income'],\n",
       "       [34.0, 5722, 15.17304860835294, 0.745, 3690.627877975985,\n",
       "        'Lower middle income'],\n",
       "       [15.33, 8319, 7.050845048078308, 0.576, 1666.932734431219,\n",
       "        'Lower middle income'],\n",
       "       [203.62, 20639, 15.32839857792018, 0.707, 3857.318464018038,\n",
       "        'Lower middle income'],\n",
       "       [100.05, 5545, 23.1855378462622, 0.731, 3698.834981058614,\n",
       "        'Lower middle income'],\n",
       "       [112.21, 27064, 4.350095702105446, 0.607, 2996.621061544835,\n",
       "        'Lower middle income'],\n",
       "       [53.36, 2251, 1.455614592453705, 0.535, 2065.749067509225,\n",
       "        'Lower middle income'],\n",
       "       [209.05, 21955, 17.53931509909698, 0.661, 2457.924879863609,\n",
       "        'Lower middle income'],\n",
       "       [43.24, 4545, 10.11825605026084, 0.575, 2081.799854584381,\n",
       "        'Lower middle income'],\n",
       "       [165.52, 16728, 108.7049359045917, 0.621, 2771.717460509461,\n",
       "        'Lower middle income'],\n",
       "       [69.88, 5147, 5.518545897129566, 0.586, 1953.533757215079,\n",
       "        'Lower middle income'],\n",
       "       [200.26, 18574, 39.76763789031424, 0.602, 1208.218533837672,\n",
       "        'Lower middle income'],\n",
       "       [271.4, 17064, 43.64270299331683, 0.703, 3756.489121173255,\n",
       "        'Lower middle income'],\n",
       "       [59.53, 5334, 501.8285381204727, 0.78, 7143.310548432097,\n",
       "        'Upper middle income'],\n",
       "       [219.79, 19704, 198.8421696006611, 0.74, 5965.132870544159,\n",
       "        'Upper middle income'],\n",
       "       [64.52, 4028, 168.8636052968149, 0.713, 7055.044775987833,\n",
       "        'Upper middle income'],\n",
       "       [69.79, 4942, 301.1583608074512, 0.767, 5230.661732894971,\n",
       "        'Upper middle income'],\n",
       "       [113.85, 5420, 108.6308525288824, 0.627, 5025.542290777896,\n",
       "        'Upper middle income'],\n",
       "       [108.03, 6180, 125.6639922075766, 0.796, 6492.872012246336,\n",
       "        'Upper middle income'],\n",
       "       [124.2, 9379, 207.7888218396915, 0.802, 9230.178316026007,\n",
       "        'Upper middle income'],\n",
       "       [120.58, 21576, 114.7404391842901, 0.693, 6805.221273988972,\n",
       "        'Upper middle income'],\n",
       "       [174.05, 7990, 276.9760239219943, 0.752, 6104.136709303895,\n",
       "        'Upper middle income'],\n",
       "       [70.62, 8551, 111.1599178850929, 0.751, 8666.38704104884,\n",
       "        'Upper middle income'],\n",
       "       [201.21, 15829, 81.82144098304971, 0.802, 9106.237202306995,\n",
       "        'Upper middle income'],\n",
       "       [181.67, 14973, 57.48773071342089, 0.747, 10366.29335840659,\n",
       "        'Upper middle income'],\n",
       "       [53.78, 4871, 118.2207327474445, 0.709, 5183.581304586759,\n",
       "        'Upper middle income'],\n",
       "       [78.27, 7927, 428.8264934596338, 0.802, 5023.274379619787,\n",
       "        'Upper middle income'],\n",
       "       [81.82, 10093, 235.2424723246614, 0.73, 4869.134226212424,\n",
       "        'Upper middle income'],\n",
       "       [123.94, 11274, 166.9133166743492, 0.683, 6228.26730928353,\n",
       "        'Upper middle income'],\n",
       "       [141.89, 13359, 272.4120953598373, 0.717, 5891.499965046411,\n",
       "        'Upper middle income'],\n",
       "       [260.29, 11457, 652.6411426980857, 0.762, 6621.574336018813,\n",
       "        'Upper middle income'],\n",
       "       [198.94, 11802, 48.42875323158614, 0.8, 7066.190545953232,\n",
       "        'Upper middle income'],\n",
       "       [178.75, 14816, 118.6181113909758, 0.838, 9661.23597511355,\n",
       "        'Upper middle income'],\n",
       "       [38.44, 6368, 155.2845732180051, 0.615, 4865.557764708638,\n",
       "        'Upper middle income'],\n",
       "       [225.92, 9016, 325.3049973491736, 0.754, 7507.160970802335,\n",
       "        'Upper middle income'],\n",
       "       [244.84, 15727, 0.3639699064821024, 0.768, 12556.33312000579,\n",
       "        'Upper middle income'],\n",
       "       [89.12, 7773, 137.0952295384011, 0.72, 4103.258965995832,\n",
       "        'Upper middle income'],\n",
       "       [88.97, 7465, 464.4203826062891, 0.77, 6694.641125817087,\n",
       "        'Upper middle income'],\n",
       "       [43.95, 9784, 60.18029423242732, 0.686, 4775.377453901298,\n",
       "        'Upper middle income'],\n",
       "       [77.45, 6441, 294.0477784739126, 0.759, 4966.51347122366,\n",
       "        'Upper middle income'],\n",
       "       [133.78, 8302, 98.92036129378008, 0.745, 5387.997974953834,\n",
       "        'Upper middle income'],\n",
       "       [108.31, 17983, 448.4433474002707, 0.832, 9465.703998795567,\n",
       "        'Upper middle income'],\n",
       "       [213.92, 16225, 111.4551091055768, 0.803, 11109.26183877448,\n",
       "        'Upper middle income'],\n",
       "       [144.89, 16405, 39.65135030756026, 0.767, 8476.75215730978,\n",
       "        'Upper middle income'],\n",
       "       [128.97, 7049, 272.5677574728828, 0.822, 12194.77734375,\n",
       "        'Upper middle income'],\n",
       "       [202.28, 8087, 75.46009668391146, 0.808, 7302.257794187743,\n",
       "        'Upper middle income'],\n",
       "       [248.7, 16861, 179.6287941734586, 0.809, 12472.44372949542,\n",
       "        'Upper middle income'],\n",
       "       [175.02, 12927, 253.5329675175892, 0.758, 10045.68050049632,\n",
       "        'Upper middle income'],\n",
       "       [68.37, 10630, 220.9461247994468, 0.715, 9414.226230859833,\n",
       "        'Upper middle income'],\n",
       "       [67.99, 3987, 559.1125379624249, 0.795, 12221.49660641709,\n",
       "        'Upper middle income'],\n",
       "       [190.06, 18958, 12.06507717008975, 0.745, 4426.000637062813,\n",
       "        'Upper middle income'],\n",
       "       [118.72, 11503, 163.4668060374412, 0.714, 9998.544311361555,\n",
       "        'Upper middle income']], dtype=object)"
      ]
     },
     "execution_count": 43,
     "metadata": {},
     "output_type": "execute_result"
    }
   ],
   "source": [
    "array"
   ]
  },
  {
   "cell_type": "code",
   "execution_count": 44,
   "id": "53d19cf0",
   "metadata": {},
   "outputs": [],
   "source": [
    "X = array[:,0:5]"
   ]
  },
  {
   "cell_type": "code",
   "execution_count": 45,
   "id": "9bcfc68c",
   "metadata": {},
   "outputs": [
    {
     "data": {
      "text/plain": [
       "array([[167.56, 12632, 508.1166352062754, 0.846, 18728.12189486889],\n",
       "       [230.55, 13774, 204.0553912352542, 0.942, 51203.55447310433],\n",
       "       [309.24, 13653, 58.92590314126932, 0.925, 39312.66037306932],\n",
       "       [258.91, 15359, 187.3734609815036, 0.918, 33486.67198385498],\n",
       "       [202.85, 10561, 345.1761686582059, 0.921, 70248.62900022416],\n",
       "       [154.84, 13367, 86.9272367563218, 0.816, 19509.46646338666],\n",
       "       [165.28, 10041, 362.2486012740691, 0.875, 23723.34025103447],\n",
       "       [101.96, 6362, 386.7079423749307, 0.848, 21391.92533360423],\n",
       "       [228.73, 12715, 244.3775084898491, 0.916, 53637.70571098969],\n",
       "       [200.74, 13965, 110.2676422097014, 0.896, 31551.81640625],\n",
       "       [145.42, 8564, 316.3531535751992, 0.876, 17999.90994954462],\n",
       "       [223.5, 12724, 94.58628253955006, 0.961, 89154.2760934922],\n",
       "       [193.77, 10594, 164.7207423785598, 0.962, 91991.60045835626],\n",
       "       [256.36, 21284, 144.0800692379541, 0.948, 68007.75667329543],\n",
       "       [205.56, 15350, 133.5855143382192, 0.941, 57767.87881081733],\n",
       "       [263.28, 14465, 217.9909931762326, 0.809, 17313.1883484186],\n",
       "       [252.13, 14195, 135.7727183294524, 0.936, 51987.93905297284],\n",
       "       [282.31, 13856, 23.12146487399808, 0.855, 66838.35743301403],\n",
       "       [188.01, 11068, 26.87131943897528, 0.875, 23185.87079177973],\n",
       "       [199.13, 16275, 193.6602140246694, 0.805, 14617.60448163719],\n",
       "       [243.64, 11268, 313.7741594022312, 0.895, 35657.49756316908],\n",
       "       [216.0, 20236, 66.30128578170374, 0.959, 68727.63666470899],\n",
       "       [133.02, 8818, 445.1275421342571, 0.858, 17685.32528345529],\n",
       "       [254.2, 13306, 291.8939709869786, 0.937, 51247.01435316263],\n",
       "       [238.38, 13014, 162.9894724714489, 0.94, 53654.75029642592],\n",
       "       [159.21, 7663, 224.7505503400383, 0.89, 27943.70121988203],\n",
       "       [287.58, 17597, 50.51287404783233, 0.829, 31449.07656207271],\n",
       "       [212.25, 11143, 176.377825275425, 0.93, 133590.1469755861],\n",
       "       [212.99, 10506, 353.962245642645, 0.887, 20192.59630390607],\n",
       "       [274.15, 14809, 260.4192860953576, 0.866, 24567.50926509997],\n",
       "       [236.15, 14945, 87.38872511677522, 0.875, 26562.96913540261],\n",
       "       [250.21, 17003, 66.81485969804851, 0.925, 34997.78164278481],\n",
       "       [261.27, 13437, 28.9726032237321, 0.939, 72794.00302267385],\n",
       "       [156.47, 9204, 340.2138749927657, 0.863, 21148.16294054151],\n",
       "       [141.36, 9020, 341.669096848271, 0.918, 29291.40062344306],\n",
       "       [88.95, 8471, 207.981703602353, 0.812, 27478.38962898315],\n",
       "       [103.26, 11697, 310.8237326574647, 0.81, 16032.50276809923],\n",
       "       [243.27, 11302, 76.1677027458733, 0.951, 60443.10916499681],\n",
       "       [222.32, 14090, 257.7658639364567, 0.905, 30103.51373319099],\n",
       "       [147.57, 19422, 10.13230409798232, 0.607, 2535.623431521099],\n",
       "       [4.45, 656, 7.362835301165219, 0.535, 1829.593044172109],\n",
       "       [89.71, 4301, 3.006239785903821, 0.55, 2549.041297247338],\n",
       "       [148.35, 9226, 13.35576032025309, 0.544, 1505.010192794294],\n",
       "       [144.98, 11297, 72.7525111066485, 0.662, 3293.233054306135],\n",
       "       [13.96, 1187, 6.65769200585394, 0.571, 2290.382891332437],\n",
       "       [178.19, 13840, 168.8156367128418, 0.774, 4091.209186705343],\n",
       "       [66.87, 13212, 4.512979446187659, 0.632, 2363.299296214216],\n",
       "       [278.81, 35391, 17.79989666041671, 0.593, 1625.235019554537],\n",
       "       [31.7, 4514, 1.274958884531432, 0.525, 1319.154994517401],\n",
       "       [147.86, 10714, 43.14220545622882, 0.683, 3795.38012695313],\n",
       "       [7.23, 512, 7.21037251905341, 0.558, 2672.945790355177],\n",
       "       [85.9, 15163, 20.33871612313471, 0.556, 2166.046798582141],\n",
       "       [71.4, 7971, 101.0936030609437, 0.715, 3663.969054688752],\n",
       "       [220.13, 61197, 3.319024649289729, 0.667, 2045.535401890141],\n",
       "       [161.63, 36918, 64.50413519166817, 0.739, 4566.140154330138],\n",
       "       [155.7, 7083, 37.74377979073893, 0.633, 2256.590408705059],\n",
       "       [60.14, 4026, 1.336523506462628, 0.549, 1099.28759765625],\n",
       "       [218.04, 12311, 4.761200629955996, 0.727, 1983.064722889918],\n",
       "       [120.18, 8817, 186.5725157129497, 0.692, 3345.196588738308],\n",
       "       [147.71, 14098, 59.01394869818141, 0.699, 3460.53096344408],\n",
       "       [58.07, 7486, 33.23069965100871, 0.514, 1094.09818489303],\n",
       "       [161.27, 7715, 57.69225843290137, 0.705, 4332.709280893962],\n",
       "       [183.75, 21785, 78.02244751328824, 0.782, 4013.687656836036],\n",
       "       [107.21, 13547, 243.7439900334167, 0.731, 3807.13915027254],\n",
       "       [74.89, 7435, 37.04155933811253, 0.593, 1773.920410880781],\n",
       "       [79.77, 6423, 258.283211924619, 0.773, 4835.57177734375],\n",
       "       [34.0, 5722, 15.17304860835294, 0.745, 3690.627877975985],\n",
       "       [15.33, 8319, 7.050845048078308, 0.576, 1666.932734431219],\n",
       "       [203.62, 20639, 15.32839857792018, 0.707, 3857.318464018038],\n",
       "       [100.05, 5545, 23.1855378462622, 0.731, 3698.834981058614],\n",
       "       [112.21, 27064, 4.350095702105446, 0.607, 2996.621061544835],\n",
       "       [53.36, 2251, 1.455614592453705, 0.535, 2065.749067509225],\n",
       "       [209.05, 21955, 17.53931509909698, 0.661, 2457.924879863609],\n",
       "       [43.24, 4545, 10.11825605026084, 0.575, 2081.799854584381],\n",
       "       [165.52, 16728, 108.7049359045917, 0.621, 2771.717460509461],\n",
       "       [69.88, 5147, 5.518545897129566, 0.586, 1953.533757215079],\n",
       "       [200.26, 18574, 39.76763789031424, 0.602, 1208.218533837672],\n",
       "       [271.4, 17064, 43.64270299331683, 0.703, 3756.489121173255],\n",
       "       [59.53, 5334, 501.8285381204727, 0.78, 7143.310548432097],\n",
       "       [219.79, 19704, 198.8421696006611, 0.74, 5965.132870544159],\n",
       "       [64.52, 4028, 168.8636052968149, 0.713, 7055.044775987833],\n",
       "       [69.79, 4942, 301.1583608074512, 0.767, 5230.661732894971],\n",
       "       [113.85, 5420, 108.6308525288824, 0.627, 5025.542290777896],\n",
       "       [108.03, 6180, 125.6639922075766, 0.796, 6492.872012246336],\n",
       "       [124.2, 9379, 207.7888218396915, 0.802, 9230.178316026007],\n",
       "       [120.58, 21576, 114.7404391842901, 0.693, 6805.221273988972],\n",
       "       [174.05, 7990, 276.9760239219943, 0.752, 6104.136709303895],\n",
       "       [70.62, 8551, 111.1599178850929, 0.751, 8666.38704104884],\n",
       "       [201.21, 15829, 81.82144098304971, 0.802, 9106.237202306995],\n",
       "       [181.67, 14973, 57.48773071342089, 0.747, 10366.29335840659],\n",
       "       [53.78, 4871, 118.2207327474445, 0.709, 5183.581304586759],\n",
       "       [78.27, 7927, 428.8264934596338, 0.802, 5023.274379619787],\n",
       "       [81.82, 10093, 235.2424723246614, 0.73, 4869.134226212424],\n",
       "       [123.94, 11274, 166.9133166743492, 0.683, 6228.26730928353],\n",
       "       [141.89, 13359, 272.4120953598373, 0.717, 5891.499965046411],\n",
       "       [260.29, 11457, 652.6411426980857, 0.762, 6621.574336018813],\n",
       "       [198.94, 11802, 48.42875323158614, 0.8, 7066.190545953232],\n",
       "       [178.75, 14816, 118.6181113909758, 0.838, 9661.23597511355],\n",
       "       [38.44, 6368, 155.2845732180051, 0.615, 4865.557764708638],\n",
       "       [225.92, 9016, 325.3049973491736, 0.754, 7507.160970802335],\n",
       "       [244.84, 15727, 0.3639699064821024, 0.768, 12556.33312000579],\n",
       "       [89.12, 7773, 137.0952295384011, 0.72, 4103.258965995832],\n",
       "       [88.97, 7465, 464.4203826062891, 0.77, 6694.641125817087],\n",
       "       [43.95, 9784, 60.18029423242732, 0.686, 4775.377453901298],\n",
       "       [77.45, 6441, 294.0477784739126, 0.759, 4966.51347122366],\n",
       "       [133.78, 8302, 98.92036129378008, 0.745, 5387.997974953834],\n",
       "       [108.31, 17983, 448.4433474002707, 0.832, 9465.703998795567],\n",
       "       [213.92, 16225, 111.4551091055768, 0.803, 11109.26183877448],\n",
       "       [144.89, 16405, 39.65135030756026, 0.767, 8476.75215730978],\n",
       "       [128.97, 7049, 272.5677574728828, 0.822, 12194.77734375],\n",
       "       [202.28, 8087, 75.46009668391146, 0.808, 7302.257794187743],\n",
       "       [248.7, 16861, 179.6287941734586, 0.809, 12472.44372949542],\n",
       "       [175.02, 12927, 253.5329675175892, 0.758, 10045.68050049632],\n",
       "       [68.37, 10630, 220.9461247994468, 0.715, 9414.226230859833],\n",
       "       [67.99, 3987, 559.1125379624249, 0.795, 12221.49660641709],\n",
       "       [190.06, 18958, 12.06507717008975, 0.745, 4426.000637062813],\n",
       "       [118.72, 11503, 163.4668060374412, 0.714, 9998.544311361555]],\n",
       "      dtype=object)"
      ]
     },
     "execution_count": 45,
     "metadata": {},
     "output_type": "execute_result"
    }
   ],
   "source": [
    "X"
   ]
  },
  {
   "cell_type": "code",
   "execution_count": 46,
   "id": "80c42667",
   "metadata": {},
   "outputs": [],
   "source": [
    "Y = array[:,5]"
   ]
  },
  {
   "cell_type": "code",
   "execution_count": 47,
   "id": "ca4d62cd",
   "metadata": {},
   "outputs": [
    {
     "data": {
      "text/plain": [
       "array(['High income', 'High income', 'High income', 'High income',\n",
       "       'High income', 'High income', 'High income', 'High income',\n",
       "       'High income', 'High income', 'High income', 'High income',\n",
       "       'High income', 'High income', 'High income', 'High income',\n",
       "       'High income', 'High income', 'High income', 'High income',\n",
       "       'High income', 'High income', 'High income', 'High income',\n",
       "       'High income', 'High income', 'High income', 'High income',\n",
       "       'High income', 'High income', 'High income', 'High income',\n",
       "       'High income', 'High income', 'High income', 'High income',\n",
       "       'High income', 'High income', 'High income', 'Lower middle income',\n",
       "       'Lower middle income', 'Lower middle income',\n",
       "       'Lower middle income', 'Lower middle income',\n",
       "       'Lower middle income', 'Lower middle income',\n",
       "       'Lower middle income', 'Lower middle income',\n",
       "       'Lower middle income', 'Lower middle income',\n",
       "       'Lower middle income', 'Lower middle income',\n",
       "       'Lower middle income', 'Lower middle income',\n",
       "       'Lower middle income', 'Lower middle income',\n",
       "       'Lower middle income', 'Lower middle income',\n",
       "       'Lower middle income', 'Lower middle income',\n",
       "       'Lower middle income', 'Lower middle income',\n",
       "       'Lower middle income', 'Lower middle income',\n",
       "       'Lower middle income', 'Lower middle income',\n",
       "       'Lower middle income', 'Lower middle income',\n",
       "       'Lower middle income', 'Lower middle income',\n",
       "       'Lower middle income', 'Lower middle income',\n",
       "       'Lower middle income', 'Lower middle income',\n",
       "       'Lower middle income', 'Lower middle income',\n",
       "       'Lower middle income', 'Lower middle income',\n",
       "       'Upper middle income', 'Upper middle income',\n",
       "       'Upper middle income', 'Upper middle income',\n",
       "       'Upper middle income', 'Upper middle income',\n",
       "       'Upper middle income', 'Upper middle income',\n",
       "       'Upper middle income', 'Upper middle income',\n",
       "       'Upper middle income', 'Upper middle income',\n",
       "       'Upper middle income', 'Upper middle income',\n",
       "       'Upper middle income', 'Upper middle income',\n",
       "       'Upper middle income', 'Upper middle income',\n",
       "       'Upper middle income', 'Upper middle income',\n",
       "       'Upper middle income', 'Upper middle income',\n",
       "       'Upper middle income', 'Upper middle income',\n",
       "       'Upper middle income', 'Upper middle income',\n",
       "       'Upper middle income', 'Upper middle income',\n",
       "       'Upper middle income', 'Upper middle income',\n",
       "       'Upper middle income', 'Upper middle income',\n",
       "       'Upper middle income', 'Upper middle income',\n",
       "       'Upper middle income', 'Upper middle income',\n",
       "       'Upper middle income', 'Upper middle income',\n",
       "       'Upper middle income'], dtype=object)"
      ]
     },
     "execution_count": 47,
     "metadata": {},
     "output_type": "execute_result"
    }
   ],
   "source": [
    "Y"
   ]
  },
  {
   "cell_type": "code",
   "execution_count": 48,
   "id": "b83e67d1",
   "metadata": {},
   "outputs": [],
   "source": [
    "validation_size = 0.2 #it sets 80% to train 20% to test, the default is 75% train 25% test\n",
    "seed = 8\n",
    "X_train, X_validation, Y_train, Y_validation = model_selection.train_test_split(X, Y, test_size=validation_size, random_state=seed)"
   ]
  },
  {
   "cell_type": "code",
   "execution_count": 49,
   "id": "9f13c4fe",
   "metadata": {},
   "outputs": [
    {
     "data": {
      "text/plain": [
       "array([[159.21, 7663, 224.7505503400383, 0.89, 27943.70121988203],\n",
       "       [223.5, 12724, 94.58628253955006, 0.961, 89154.2760934922],\n",
       "       [258.91, 15359, 187.3734609815036, 0.918, 33486.67198385498],\n",
       "       [248.7, 16861, 179.6287941734586, 0.809, 12472.44372949542],\n",
       "       [120.18, 8817, 186.5725157129497, 0.692, 3345.196588738308]],\n",
       "      dtype=object)"
      ]
     },
     "execution_count": 49,
     "metadata": {},
     "output_type": "execute_result"
    }
   ],
   "source": [
    "X_train[0:5]"
   ]
  },
  {
   "cell_type": "code",
   "execution_count": 50,
   "id": "24fd598e",
   "metadata": {},
   "outputs": [
    {
     "data": {
      "text/plain": [
       "array(['High income', 'High income', 'High income', 'Upper middle income',\n",
       "       'Lower middle income'], dtype=object)"
      ]
     },
     "execution_count": 50,
     "metadata": {},
     "output_type": "execute_result"
    }
   ],
   "source": [
    "Y_train[0:5]"
   ]
  },
  {
   "cell_type": "code",
   "execution_count": 51,
   "id": "bd97d6f0",
   "metadata": {},
   "outputs": [
    {
     "data": {
      "text/plain": [
       "93"
      ]
     },
     "execution_count": 51,
     "metadata": {},
     "output_type": "execute_result"
    }
   ],
   "source": [
    "len(X_train)"
   ]
  },
  {
   "cell_type": "code",
   "execution_count": 52,
   "id": "85948aa2",
   "metadata": {},
   "outputs": [
    {
     "data": {
      "text/plain": [
       "24"
      ]
     },
     "execution_count": 52,
     "metadata": {},
     "output_type": "execute_result"
    }
   ],
   "source": [
    "len(X_validation)"
   ]
  },
  {
   "cell_type": "code",
   "execution_count": 53,
   "id": "942ba920",
   "metadata": {},
   "outputs": [
    {
     "data": {
      "text/plain": [
       "93"
      ]
     },
     "execution_count": 53,
     "metadata": {},
     "output_type": "execute_result"
    }
   ],
   "source": [
    "len(Y_train)"
   ]
  },
  {
   "cell_type": "code",
   "execution_count": 54,
   "id": "9f996d4f",
   "metadata": {},
   "outputs": [
    {
     "data": {
      "text/plain": [
       "24"
      ]
     },
     "execution_count": 54,
     "metadata": {},
     "output_type": "execute_result"
    }
   ],
   "source": [
    "len(Y_validation)"
   ]
  },
  {
   "cell_type": "code",
   "execution_count": 55,
   "id": "c88c7c7b",
   "metadata": {},
   "outputs": [
    {
     "data": {
      "text/plain": [
       "array([[167.56, 12632, 508.1166352062754, 0.846, 18728.12189486889],\n",
       "       [230.55, 13774, 204.0553912352542, 0.942, 51203.55447310433],\n",
       "       [309.24, 13653, 58.92590314126932, 0.925, 39312.66037306932],\n",
       "       [258.91, 15359, 187.3734609815036, 0.918, 33486.67198385498],\n",
       "       [202.85, 10561, 345.1761686582059, 0.921, 70248.62900022416]],\n",
       "      dtype=object)"
      ]
     },
     "execution_count": 55,
     "metadata": {},
     "output_type": "execute_result"
    }
   ],
   "source": [
    "X[0:5]"
   ]
  },
  {
   "cell_type": "code",
   "execution_count": 56,
   "id": "0d460d04",
   "metadata": {},
   "outputs": [
    {
     "data": {
      "text/plain": [
       "array(['High income', 'High income', 'High income', 'High income',\n",
       "       'High income'], dtype=object)"
      ]
     },
     "execution_count": 56,
     "metadata": {},
     "output_type": "execute_result"
    }
   ],
   "source": [
    "Y[0:5]"
   ]
  },
  {
   "cell_type": "code",
   "execution_count": 57,
   "id": "cfe1ee05",
   "metadata": {},
   "outputs": [
    {
     "name": "stdout",
     "output_type": "stream",
     "text": [
      "Training\n",
      "    X_training size: 93\n",
      "    Y_training size: 93\n",
      "Validation\n",
      "    X_validation size: 24\n",
      "    Y_validation size: 24\n"
     ]
    }
   ],
   "source": [
    "print('Training')\n",
    "print('    X_training size:', len(X_train))\n",
    "print('    Y_training size:', len(Y_train))\n",
    "print('Validation')\n",
    "print('    X_validation size:', len(X_validation))\n",
    "print('    Y_validation size:', len(Y_validation))"
   ]
  },
  {
   "cell_type": "code",
   "execution_count": 58,
   "id": "df94ec56",
   "metadata": {},
   "outputs": [
    {
     "data": {
      "text/html": [
       "<style>#sk-container-id-1 {color: black;background-color: white;}#sk-container-id-1 pre{padding: 0;}#sk-container-id-1 div.sk-toggleable {background-color: white;}#sk-container-id-1 label.sk-toggleable__label {cursor: pointer;display: block;width: 100%;margin-bottom: 0;padding: 0.3em;box-sizing: border-box;text-align: center;}#sk-container-id-1 label.sk-toggleable__label-arrow:before {content: \"▸\";float: left;margin-right: 0.25em;color: #696969;}#sk-container-id-1 label.sk-toggleable__label-arrow:hover:before {color: black;}#sk-container-id-1 div.sk-estimator:hover label.sk-toggleable__label-arrow:before {color: black;}#sk-container-id-1 div.sk-toggleable__content {max-height: 0;max-width: 0;overflow: hidden;text-align: left;background-color: #f0f8ff;}#sk-container-id-1 div.sk-toggleable__content pre {margin: 0.2em;color: black;border-radius: 0.25em;background-color: #f0f8ff;}#sk-container-id-1 input.sk-toggleable__control:checked~div.sk-toggleable__content {max-height: 200px;max-width: 100%;overflow: auto;}#sk-container-id-1 input.sk-toggleable__control:checked~label.sk-toggleable__label-arrow:before {content: \"▾\";}#sk-container-id-1 div.sk-estimator input.sk-toggleable__control:checked~label.sk-toggleable__label {background-color: #d4ebff;}#sk-container-id-1 div.sk-label input.sk-toggleable__control:checked~label.sk-toggleable__label {background-color: #d4ebff;}#sk-container-id-1 input.sk-hidden--visually {border: 0;clip: rect(1px 1px 1px 1px);clip: rect(1px, 1px, 1px, 1px);height: 1px;margin: -1px;overflow: hidden;padding: 0;position: absolute;width: 1px;}#sk-container-id-1 div.sk-estimator {font-family: monospace;background-color: #f0f8ff;border: 1px dotted black;border-radius: 0.25em;box-sizing: border-box;margin-bottom: 0.5em;}#sk-container-id-1 div.sk-estimator:hover {background-color: #d4ebff;}#sk-container-id-1 div.sk-parallel-item::after {content: \"\";width: 100%;border-bottom: 1px solid gray;flex-grow: 1;}#sk-container-id-1 div.sk-label:hover label.sk-toggleable__label {background-color: #d4ebff;}#sk-container-id-1 div.sk-serial::before {content: \"\";position: absolute;border-left: 1px solid gray;box-sizing: border-box;top: 0;bottom: 0;left: 50%;z-index: 0;}#sk-container-id-1 div.sk-serial {display: flex;flex-direction: column;align-items: center;background-color: white;padding-right: 0.2em;padding-left: 0.2em;position: relative;}#sk-container-id-1 div.sk-item {position: relative;z-index: 1;}#sk-container-id-1 div.sk-parallel {display: flex;align-items: stretch;justify-content: center;background-color: white;position: relative;}#sk-container-id-1 div.sk-item::before, #sk-container-id-1 div.sk-parallel-item::before {content: \"\";position: absolute;border-left: 1px solid gray;box-sizing: border-box;top: 0;bottom: 0;left: 50%;z-index: -1;}#sk-container-id-1 div.sk-parallel-item {display: flex;flex-direction: column;z-index: 1;position: relative;background-color: white;}#sk-container-id-1 div.sk-parallel-item:first-child::after {align-self: flex-end;width: 50%;}#sk-container-id-1 div.sk-parallel-item:last-child::after {align-self: flex-start;width: 50%;}#sk-container-id-1 div.sk-parallel-item:only-child::after {width: 0;}#sk-container-id-1 div.sk-dashed-wrapped {border: 1px dashed gray;margin: 0 0.4em 0.5em 0.4em;box-sizing: border-box;padding-bottom: 0.4em;background-color: white;}#sk-container-id-1 div.sk-label label {font-family: monospace;font-weight: bold;display: inline-block;line-height: 1.2em;}#sk-container-id-1 div.sk-label-container {text-align: center;}#sk-container-id-1 div.sk-container {/* jupyter's `normalize.less` sets `[hidden] { display: none; }` but bootstrap.min.css set `[hidden] { display: none !important; }` so we also need the `!important` here to be able to override the default hidden behavior on the sphinx rendered scikit-learn.org. See: https://github.com/scikit-learn/scikit-learn/issues/21755 */display: inline-block !important;position: relative;}#sk-container-id-1 div.sk-text-repr-fallback {display: none;}</style><div id=\"sk-container-id-1\" class=\"sk-top-container\"><div class=\"sk-text-repr-fallback\"><pre>SVC(probability=True)</pre><b>In a Jupyter environment, please rerun this cell to show the HTML representation or trust the notebook. <br />On GitHub, the HTML representation is unable to render, please try loading this page with nbviewer.org.</b></div><div class=\"sk-container\" hidden><div class=\"sk-item\"><div class=\"sk-estimator sk-toggleable\"><input class=\"sk-toggleable__control sk-hidden--visually\" id=\"sk-estimator-id-1\" type=\"checkbox\" checked><label for=\"sk-estimator-id-1\" class=\"sk-toggleable__label sk-toggleable__label-arrow\">SVC</label><div class=\"sk-toggleable__content\"><pre>SVC(probability=True)</pre></div></div></div></div></div>"
      ],
      "text/plain": [
       "SVC(probability=True)"
      ]
     },
     "execution_count": 58,
     "metadata": {},
     "output_type": "execute_result"
    }
   ],
   "source": [
    "svm = SVC(probability=True) #training the model\n",
    "#svm = SVC()\n",
    "svm.fit(X_train, Y_train)"
   ]
  },
  {
   "cell_type": "code",
   "execution_count": 59,
   "id": "a464f07d",
   "metadata": {},
   "outputs": [
    {
     "data": {
      "text/html": [
       "<style>#sk-container-id-2 {color: black;background-color: white;}#sk-container-id-2 pre{padding: 0;}#sk-container-id-2 div.sk-toggleable {background-color: white;}#sk-container-id-2 label.sk-toggleable__label {cursor: pointer;display: block;width: 100%;margin-bottom: 0;padding: 0.3em;box-sizing: border-box;text-align: center;}#sk-container-id-2 label.sk-toggleable__label-arrow:before {content: \"▸\";float: left;margin-right: 0.25em;color: #696969;}#sk-container-id-2 label.sk-toggleable__label-arrow:hover:before {color: black;}#sk-container-id-2 div.sk-estimator:hover label.sk-toggleable__label-arrow:before {color: black;}#sk-container-id-2 div.sk-toggleable__content {max-height: 0;max-width: 0;overflow: hidden;text-align: left;background-color: #f0f8ff;}#sk-container-id-2 div.sk-toggleable__content pre {margin: 0.2em;color: black;border-radius: 0.25em;background-color: #f0f8ff;}#sk-container-id-2 input.sk-toggleable__control:checked~div.sk-toggleable__content {max-height: 200px;max-width: 100%;overflow: auto;}#sk-container-id-2 input.sk-toggleable__control:checked~label.sk-toggleable__label-arrow:before {content: \"▾\";}#sk-container-id-2 div.sk-estimator input.sk-toggleable__control:checked~label.sk-toggleable__label {background-color: #d4ebff;}#sk-container-id-2 div.sk-label input.sk-toggleable__control:checked~label.sk-toggleable__label {background-color: #d4ebff;}#sk-container-id-2 input.sk-hidden--visually {border: 0;clip: rect(1px 1px 1px 1px);clip: rect(1px, 1px, 1px, 1px);height: 1px;margin: -1px;overflow: hidden;padding: 0;position: absolute;width: 1px;}#sk-container-id-2 div.sk-estimator {font-family: monospace;background-color: #f0f8ff;border: 1px dotted black;border-radius: 0.25em;box-sizing: border-box;margin-bottom: 0.5em;}#sk-container-id-2 div.sk-estimator:hover {background-color: #d4ebff;}#sk-container-id-2 div.sk-parallel-item::after {content: \"\";width: 100%;border-bottom: 1px solid gray;flex-grow: 1;}#sk-container-id-2 div.sk-label:hover label.sk-toggleable__label {background-color: #d4ebff;}#sk-container-id-2 div.sk-serial::before {content: \"\";position: absolute;border-left: 1px solid gray;box-sizing: border-box;top: 0;bottom: 0;left: 50%;z-index: 0;}#sk-container-id-2 div.sk-serial {display: flex;flex-direction: column;align-items: center;background-color: white;padding-right: 0.2em;padding-left: 0.2em;position: relative;}#sk-container-id-2 div.sk-item {position: relative;z-index: 1;}#sk-container-id-2 div.sk-parallel {display: flex;align-items: stretch;justify-content: center;background-color: white;position: relative;}#sk-container-id-2 div.sk-item::before, #sk-container-id-2 div.sk-parallel-item::before {content: \"\";position: absolute;border-left: 1px solid gray;box-sizing: border-box;top: 0;bottom: 0;left: 50%;z-index: -1;}#sk-container-id-2 div.sk-parallel-item {display: flex;flex-direction: column;z-index: 1;position: relative;background-color: white;}#sk-container-id-2 div.sk-parallel-item:first-child::after {align-self: flex-end;width: 50%;}#sk-container-id-2 div.sk-parallel-item:last-child::after {align-self: flex-start;width: 50%;}#sk-container-id-2 div.sk-parallel-item:only-child::after {width: 0;}#sk-container-id-2 div.sk-dashed-wrapped {border: 1px dashed gray;margin: 0 0.4em 0.5em 0.4em;box-sizing: border-box;padding-bottom: 0.4em;background-color: white;}#sk-container-id-2 div.sk-label label {font-family: monospace;font-weight: bold;display: inline-block;line-height: 1.2em;}#sk-container-id-2 div.sk-label-container {text-align: center;}#sk-container-id-2 div.sk-container {/* jupyter's `normalize.less` sets `[hidden] { display: none; }` but bootstrap.min.css set `[hidden] { display: none !important; }` so we also need the `!important` here to be able to override the default hidden behavior on the sphinx rendered scikit-learn.org. See: https://github.com/scikit-learn/scikit-learn/issues/21755 */display: inline-block !important;position: relative;}#sk-container-id-2 div.sk-text-repr-fallback {display: none;}</style><div id=\"sk-container-id-2\" class=\"sk-top-container\"><div class=\"sk-text-repr-fallback\"><pre>SVC(probability=True)</pre><b>In a Jupyter environment, please rerun this cell to show the HTML representation or trust the notebook. <br />On GitHub, the HTML representation is unable to render, please try loading this page with nbviewer.org.</b></div><div class=\"sk-container\" hidden><div class=\"sk-item\"><div class=\"sk-estimator sk-toggleable\"><input class=\"sk-toggleable__control sk-hidden--visually\" id=\"sk-estimator-id-2\" type=\"checkbox\" checked><label for=\"sk-estimator-id-2\" class=\"sk-toggleable__label sk-toggleable__label-arrow\">SVC</label><div class=\"sk-toggleable__content\"><pre>SVC(probability=True)</pre></div></div></div></div></div>"
      ],
      "text/plain": [
       "SVC(probability=True)"
      ]
     },
     "execution_count": 59,
     "metadata": {},
     "output_type": "execute_result"
    }
   ],
   "source": [
    "svm"
   ]
  },
  {
   "cell_type": "code",
   "execution_count": 60,
   "id": "7152b9c4",
   "metadata": {},
   "outputs": [
    {
     "name": "stdout",
     "output_type": "stream",
     "text": [
      "['Lower middle income' 'High income' 'High income' 'Lower middle income'\n",
      " 'Upper middle income' 'Upper middle income' 'Lower middle income'\n",
      " 'Upper middle income' 'High income' 'High income' 'Lower middle income'\n",
      " 'Lower middle income' 'High income' 'Upper middle income' 'High income'\n",
      " 'Lower middle income' 'High income' 'Upper middle income'\n",
      " 'Lower middle income' 'Upper middle income' 'Upper middle income'\n",
      " 'High income' 'Upper middle income' 'Lower middle income']\n"
     ]
    }
   ],
   "source": [
    "predictions = svm.predict(X_validation) #making the predictions\n",
    "print(predictions)"
   ]
  },
  {
   "cell_type": "code",
   "execution_count": 61,
   "id": "d9c8d4b4",
   "metadata": {},
   "outputs": [
    {
     "name": "stdout",
     "output_type": "stream",
     "text": [
      "['Upper middle income' 'High income' 'High income' 'Lower middle income'\n",
      " 'Upper middle income' 'Upper middle income' 'Lower middle income'\n",
      " 'Upper middle income' 'High income' 'High income' 'Lower middle income'\n",
      " 'Lower middle income' 'High income' 'Upper middle income' 'High income'\n",
      " 'Lower middle income' 'High income' 'Upper middle income'\n",
      " 'Lower middle income' 'Upper middle income' 'Upper middle income'\n",
      " 'High income' 'Upper middle income' 'Upper middle income']\n"
     ]
    }
   ],
   "source": [
    "print(Y_validation) #what the true outcome is"
   ]
  },
  {
   "cell_type": "code",
   "execution_count": 62,
   "id": "4f2dd00c",
   "metadata": {},
   "outputs": [
    {
     "name": "stdout",
     "output_type": "stream",
     "text": [
      "0.9166666666666666\n"
     ]
    }
   ],
   "source": [
    "#comparing the true outcome (validation) with the predictions\n",
    "print(accuracy_score(Y_validation, predictions)) "
   ]
  },
  {
   "cell_type": "code",
   "execution_count": 63,
   "id": "1cd25665",
   "metadata": {},
   "outputs": [
    {
     "data": {
      "text/html": [
       "<div>\n",
       "<style scoped>\n",
       "    .dataframe tbody tr th:only-of-type {\n",
       "        vertical-align: middle;\n",
       "    }\n",
       "\n",
       "    .dataframe tbody tr th {\n",
       "        vertical-align: top;\n",
       "    }\n",
       "\n",
       "    .dataframe thead th {\n",
       "        text-align: right;\n",
       "    }\n",
       "</style>\n",
       "<table border=\"1\" class=\"dataframe\">\n",
       "  <thead>\n",
       "    <tr style=\"text-align: right;\">\n",
       "      <th></th>\n",
       "      <th>total_vaccinations_per_hundred</th>\n",
       "      <th>daily_vaccinations_per_million</th>\n",
       "      <th>covid_mortality_rate (per 100000)</th>\n",
       "      <th>Human Development Index 2021 (HDI)</th>\n",
       "      <th>GDP per capita 2021 (US$)</th>\n",
       "      <th>IncomeGroup</th>\n",
       "    </tr>\n",
       "  </thead>\n",
       "  <tbody>\n",
       "    <tr>\n",
       "      <th>59</th>\n",
       "      <td>167.56</td>\n",
       "      <td>12632</td>\n",
       "      <td>508.116635</td>\n",
       "      <td>0.846</td>\n",
       "      <td>18728.121895</td>\n",
       "      <td>High income</td>\n",
       "    </tr>\n",
       "    <tr>\n",
       "      <th>49</th>\n",
       "      <td>230.55</td>\n",
       "      <td>13774</td>\n",
       "      <td>204.055391</td>\n",
       "      <td>0.942</td>\n",
       "      <td>51203.554473</td>\n",
       "      <td>High income</td>\n",
       "    </tr>\n",
       "    <tr>\n",
       "      <th>69</th>\n",
       "      <td>309.24</td>\n",
       "      <td>13653</td>\n",
       "      <td>58.925903</td>\n",
       "      <td>0.925</td>\n",
       "      <td>39312.660373</td>\n",
       "      <td>High income</td>\n",
       "    </tr>\n",
       "  </tbody>\n",
       "</table>\n",
       "</div>"
      ],
      "text/plain": [
       "    total_vaccinations_per_hundred  daily_vaccinations_per_million  \\\n",
       "59                          167.56                           12632   \n",
       "49                          230.55                           13774   \n",
       "69                          309.24                           13653   \n",
       "\n",
       "    covid_mortality_rate (per 100000)  Human Development Index 2021 (HDI)  \\\n",
       "59                         508.116635                               0.846   \n",
       "49                         204.055391                               0.942   \n",
       "69                          58.925903                               0.925   \n",
       "\n",
       "    GDP per capita 2021 (US$)  IncomeGroup  \n",
       "59               18728.121895  High income  \n",
       "49               51203.554473  High income  \n",
       "69               39312.660373  High income  "
      ]
     },
     "execution_count": 63,
     "metadata": {},
     "output_type": "execute_result"
    }
   ],
   "source": [
    "dataset.head(3)"
   ]
  },
  {
   "cell_type": "code",
   "execution_count": 64,
   "id": "4baf0010",
   "metadata": {},
   "outputs": [
    {
     "data": {
      "text/plain": [
       "total_vaccinations_per_hundred                     309.24\n",
       "daily_vaccinations_per_million                      61197\n",
       "covid_mortality_rate (per 100000)              652.641143\n",
       "Human Development Index 2021 (HDI)                  0.962\n",
       "GDP per capita 2021 (US$)                   133590.146976\n",
       "IncomeGroup                           Upper middle income\n",
       "dtype: object"
      ]
     },
     "execution_count": 64,
     "metadata": {},
     "output_type": "execute_result"
    }
   ],
   "source": [
    "dataset.max()"
   ]
  },
  {
   "cell_type": "code",
   "execution_count": 65,
   "id": "ce715419",
   "metadata": {},
   "outputs": [
    {
     "data": {
      "text/plain": [
       "total_vaccinations_per_hundred               4.45\n",
       "daily_vaccinations_per_million                512\n",
       "covid_mortality_rate (per 100000)         0.36397\n",
       "Human Development Index 2021 (HDI)          0.514\n",
       "GDP per capita 2021 (US$)             1094.098185\n",
       "IncomeGroup                           High income\n",
       "dtype: object"
      ]
     },
     "execution_count": 65,
     "metadata": {},
     "output_type": "execute_result"
    }
   ],
   "source": [
    "dataset.min()"
   ]
  },
  {
   "cell_type": "code",
   "execution_count": 66,
   "id": "b4b03e1d",
   "metadata": {},
   "outputs": [
    {
     "data": {
      "text/html": [
       "<div>\n",
       "<style scoped>\n",
       "    .dataframe tbody tr th:only-of-type {\n",
       "        vertical-align: middle;\n",
       "    }\n",
       "\n",
       "    .dataframe tbody tr th {\n",
       "        vertical-align: top;\n",
       "    }\n",
       "\n",
       "    .dataframe thead th {\n",
       "        text-align: right;\n",
       "    }\n",
       "</style>\n",
       "<table border=\"1\" class=\"dataframe\">\n",
       "  <thead>\n",
       "    <tr style=\"text-align: right;\">\n",
       "      <th></th>\n",
       "      <th>total_vaccinations_per_hundred</th>\n",
       "      <th>daily_vaccinations_per_million</th>\n",
       "      <th>covid_mortality_rate (per 100000)</th>\n",
       "      <th>Human Development Index 2021 (HDI)</th>\n",
       "      <th>GDP per capita 2021 (US$)</th>\n",
       "    </tr>\n",
       "  </thead>\n",
       "  <tbody>\n",
       "    <tr>\n",
       "      <th>count</th>\n",
       "      <td>117.000000</td>\n",
       "      <td>117.000000</td>\n",
       "      <td>117.000000</td>\n",
       "      <td>117.000000</td>\n",
       "      <td>117.000000</td>\n",
       "    </tr>\n",
       "    <tr>\n",
       "      <th>mean</th>\n",
       "      <td>154.217265</td>\n",
       "      <td>12214.777778</td>\n",
       "      <td>153.945255</td>\n",
       "      <td>0.762513</td>\n",
       "      <td>17499.696475</td>\n",
       "    </tr>\n",
       "    <tr>\n",
       "      <th>std</th>\n",
       "      <td>74.862689</td>\n",
       "      <td>7535.319356</td>\n",
       "      <td>142.430879</td>\n",
       "      <td>0.120768</td>\n",
       "      <td>23173.542050</td>\n",
       "    </tr>\n",
       "    <tr>\n",
       "      <th>min</th>\n",
       "      <td>4.450000</td>\n",
       "      <td>512.000000</td>\n",
       "      <td>0.363970</td>\n",
       "      <td>0.514000</td>\n",
       "      <td>1094.098185</td>\n",
       "    </tr>\n",
       "    <tr>\n",
       "      <th>25%</th>\n",
       "      <td>88.970000</td>\n",
       "      <td>7773.000000</td>\n",
       "      <td>37.743780</td>\n",
       "      <td>0.692000</td>\n",
       "      <td>3698.834981</td>\n",
       "    </tr>\n",
       "    <tr>\n",
       "      <th>50%</th>\n",
       "      <td>155.700000</td>\n",
       "      <td>11297.000000</td>\n",
       "      <td>111.455109</td>\n",
       "      <td>0.767000</td>\n",
       "      <td>7055.044776</td>\n",
       "    </tr>\n",
       "    <tr>\n",
       "      <th>75%</th>\n",
       "      <td>213.920000</td>\n",
       "      <td>14945.000000</td>\n",
       "      <td>243.743990</td>\n",
       "      <td>0.858000</td>\n",
       "      <td>21391.925334</td>\n",
       "    </tr>\n",
       "    <tr>\n",
       "      <th>max</th>\n",
       "      <td>309.240000</td>\n",
       "      <td>61197.000000</td>\n",
       "      <td>652.641143</td>\n",
       "      <td>0.962000</td>\n",
       "      <td>133590.146976</td>\n",
       "    </tr>\n",
       "  </tbody>\n",
       "</table>\n",
       "</div>"
      ],
      "text/plain": [
       "       total_vaccinations_per_hundred  daily_vaccinations_per_million  \\\n",
       "count                      117.000000                      117.000000   \n",
       "mean                       154.217265                    12214.777778   \n",
       "std                         74.862689                     7535.319356   \n",
       "min                          4.450000                      512.000000   \n",
       "25%                         88.970000                     7773.000000   \n",
       "50%                        155.700000                    11297.000000   \n",
       "75%                        213.920000                    14945.000000   \n",
       "max                        309.240000                    61197.000000   \n",
       "\n",
       "       covid_mortality_rate (per 100000)  Human Development Index 2021 (HDI)  \\\n",
       "count                         117.000000                          117.000000   \n",
       "mean                          153.945255                            0.762513   \n",
       "std                           142.430879                            0.120768   \n",
       "min                             0.363970                            0.514000   \n",
       "25%                            37.743780                            0.692000   \n",
       "50%                           111.455109                            0.767000   \n",
       "75%                           243.743990                            0.858000   \n",
       "max                           652.641143                            0.962000   \n",
       "\n",
       "       GDP per capita 2021 (US$)  \n",
       "count                 117.000000  \n",
       "mean                17499.696475  \n",
       "std                 23173.542050  \n",
       "min                  1094.098185  \n",
       "25%                  3698.834981  \n",
       "50%                  7055.044776  \n",
       "75%                 21391.925334  \n",
       "max                133590.146976  "
      ]
     },
     "execution_count": 66,
     "metadata": {},
     "output_type": "execute_result"
    }
   ],
   "source": [
    "dataset.describe() "
   ]
  },
  {
   "cell_type": "code",
   "execution_count": 67,
   "id": "c1d780cd",
   "metadata": {},
   "outputs": [
    {
     "data": {
      "text/plain": [
       "array(['Lower middle income'], dtype=object)"
      ]
     },
     "execution_count": 67,
     "metadata": {},
     "output_type": "execute_result"
    }
   ],
   "source": [
    "svm.predict([[6.0, 600 , 60, 0.6, 6000]])"
   ]
  },
  {
   "cell_type": "code",
   "execution_count": 68,
   "id": "e4e38dd3",
   "metadata": {},
   "outputs": [
    {
     "data": {
      "text/plain": [
       "array([[0.05209198, 0.40758963, 0.54031839]])"
      ]
     },
     "execution_count": 68,
     "metadata": {},
     "output_type": "execute_result"
    }
   ],
   "source": [
    "svm.predict_proba([[6.0, 600 , 60, 0.6, 6000]])"
   ]
  },
  {
   "cell_type": "code",
   "execution_count": 69,
   "id": "57427c6c",
   "metadata": {},
   "outputs": [
    {
     "data": {
      "text/plain": [
       "59             High income\n",
       "49             High income\n",
       "69             High income\n",
       "85             High income\n",
       "142            High income\n",
       "              ...         \n",
       "88     Upper middle income\n",
       "116    Upper middle income\n",
       "20     Upper middle income\n",
       "135    Upper middle income\n",
       "55     Upper middle income\n",
       "Name: IncomeGroup, Length: 117, dtype: object"
      ]
     },
     "execution_count": 69,
     "metadata": {},
     "output_type": "execute_result"
    }
   ],
   "source": [
    "dataset.IncomeGroup"
   ]
  },
  {
   "cell_type": "code",
   "execution_count": 70,
   "id": "53c798ff",
   "metadata": {},
   "outputs": [
    {
     "name": "stdout",
     "output_type": "stream",
     "text": [
      "[[8 0 0]\n",
      " [0 6 0]\n",
      " [0 2 8]]\n"
     ]
    }
   ],
   "source": [
    "labels = ['High income','Lower Middle income','Upper middle income']\n",
    "cm = confusion_matrix(Y_validation, predictions)\n",
    "print(cm)"
   ]
  },
  {
   "cell_type": "code",
   "execution_count": 71,
   "id": "a94267cc",
   "metadata": {},
   "outputs": [
    {
     "name": "stderr",
     "output_type": "stream",
     "text": [
      "<ipython-input-71-4eb4716b0a1e>:6: UserWarning: FixedFormatter should only be used together with FixedLocator\n",
      "  ax.set_xticklabels([''] +labels)\n",
      "<ipython-input-71-4eb4716b0a1e>:7: UserWarning: FixedFormatter should only be used together with FixedLocator\n",
      "  ax.set_yticklabels([''] + labels)\n"
     ]
    },
    {
     "data": {
      "image/png": "[encoded data removed]",
      "text/plain": [
       "<Figure size 576x432 with 2 Axes>"
      ]
     },
     "metadata": {
      "needs_background": "light"
     },
     "output_type": "display_data"
    }
   ],
   "source": [
    "fig = plt.figure(figsize=(8, 6))\n",
    "ax = fig.add_subplot(111)\n",
    "cax = ax.matshow(cm)\n",
    "plt.title('Confusion Matrix do Classifier')\n",
    "fig.colorbar(cax)\n",
    "ax.set_xticklabels([''] +labels)\n",
    "ax.set_yticklabels([''] + labels)\n",
    "plt.xlabel('Predicted')\n",
    "plt.ylabel('True')\n",
    "plt.show()"
   ]
  },
  {
   "cell_type": "code",
   "execution_count": 72,
   "id": "64dc277a",
   "metadata": {},
   "outputs": [
    {
     "name": "stdout",
     "output_type": "stream",
     "text": [
      "[[0.02538851 0.51043988 0.46417161]\n",
      " [0.98668233 0.00243655 0.01088112]\n",
      " [0.96809934 0.02394082 0.00795985]\n",
      " [0.01165998 0.95789536 0.03044466]\n",
      " [0.0244778  0.16276879 0.81275341]\n",
      " [0.21772722 0.03474832 0.74752446]\n",
      " [0.0186639  0.95867404 0.02266207]\n",
      " [0.05220473 0.0164749  0.93132037]\n",
      " [0.99315657 0.00156341 0.00528003]\n",
      " [0.99366975 0.0041341  0.00219615]\n",
      " [0.0134359  0.9644229  0.0221412 ]\n",
      " [0.01661269 0.97040099 0.01298632]\n",
      " [0.87455414 0.01297444 0.11247142]\n",
      " [0.2834738  0.05118213 0.66534407]\n",
      " [0.962913   0.02898923 0.00809778]\n",
      " [0.02269131 0.83874111 0.13856758]\n",
      " [0.96119164 0.0066433  0.03216507]\n",
      " [0.05374301 0.01909737 0.92715962]\n",
      " [0.01365898 0.95008367 0.03625735]\n",
      " [0.04620222 0.09926521 0.85453257]\n",
      " [0.08425281 0.02018753 0.89555966]\n",
      " [0.99601426 0.00133787 0.00264787]\n",
      " [0.03227891 0.04600624 0.92171485]\n",
      " [0.02207919 0.69314615 0.28477466]]\n"
     ]
    }
   ],
   "source": [
    "probs = svm.predict_proba(X_validation)\n",
    "print(probs)\n",
    "#probability associated to each observation"
   ]
  },
  {
   "cell_type": "code",
   "execution_count": 73,
   "id": "197b25af",
   "metadata": {},
   "outputs": [],
   "source": [
    "#it's possible to make one prediction "
   ]
  },
  {
   "cell_type": "code",
   "execution_count": 74,
   "id": "13c36d22",
   "metadata": {},
   "outputs": [
    {
     "name": "stdout",
     "output_type": "stream",
     "text": [
      "['Lower middle income']\n"
     ]
    }
   ],
   "source": [
    "Data = [[7.0, 578 , 55, 0.6, 5000]]\n",
    "pred_data = svm.predict(Data)\n",
    "print(pred_data)"
   ]
  },
  {
   "cell_type": "code",
   "execution_count": 75,
   "id": "23e19109",
   "metadata": {},
   "outputs": [],
   "source": [
    "#or many at once"
   ]
  },
  {
   "cell_type": "code",
   "execution_count": 76,
   "id": "7ab67199",
   "metadata": {},
   "outputs": [
    {
     "name": "stdout",
     "output_type": "stream",
     "text": [
      "['High income' 'Upper middle income']\n"
     ]
    }
   ],
   "source": [
    "Data = [[5.5, 550, 80, 0.59, 15000], [6.4, 400, 60, 0.57, 9500]]\n",
    "pred_data = svm.predict(Data)\n",
    "print(pred_data)"
   ]
  },
  {
   "cell_type": "code",
   "execution_count": 77,
   "id": "6a83f84d",
   "metadata": {},
   "outputs": [
    {
     "data": {
      "text/html": [
       "<div>\n",
       "<style scoped>\n",
       "    .dataframe tbody tr th:only-of-type {\n",
       "        vertical-align: middle;\n",
       "    }\n",
       "\n",
       "    .dataframe tbody tr th {\n",
       "        vertical-align: top;\n",
       "    }\n",
       "\n",
       "    .dataframe thead th {\n",
       "        text-align: right;\n",
       "    }\n",
       "</style>\n",
       "<table border=\"1\" class=\"dataframe\">\n",
       "  <thead>\n",
       "    <tr style=\"text-align: right;\">\n",
       "      <th></th>\n",
       "      <th>total_vaccinations_per_hundred</th>\n",
       "      <th>daily_vaccinations_per_million</th>\n",
       "      <th>covid_mortality_rate (per 100000)</th>\n",
       "      <th>Human Development Index 2021 (HDI)</th>\n",
       "      <th>GDP per capita 2021 (US$)</th>\n",
       "    </tr>\n",
       "  </thead>\n",
       "  <tbody>\n",
       "    <tr>\n",
       "      <th>count</th>\n",
       "      <td>117.000000</td>\n",
       "      <td>117.000000</td>\n",
       "      <td>117.000000</td>\n",
       "      <td>117.000000</td>\n",
       "      <td>117.000000</td>\n",
       "    </tr>\n",
       "    <tr>\n",
       "      <th>mean</th>\n",
       "      <td>154.217265</td>\n",
       "      <td>12214.777778</td>\n",
       "      <td>153.945255</td>\n",
       "      <td>0.762513</td>\n",
       "      <td>17499.696475</td>\n",
       "    </tr>\n",
       "    <tr>\n",
       "      <th>std</th>\n",
       "      <td>74.862689</td>\n",
       "      <td>7535.319356</td>\n",
       "      <td>142.430879</td>\n",
       "      <td>0.120768</td>\n",
       "      <td>23173.542050</td>\n",
       "    </tr>\n",
       "    <tr>\n",
       "      <th>min</th>\n",
       "      <td>4.450000</td>\n",
       "      <td>512.000000</td>\n",
       "      <td>0.363970</td>\n",
       "      <td>0.514000</td>\n",
       "      <td>1094.098185</td>\n",
       "    </tr>\n",
       "    <tr>\n",
       "      <th>25%</th>\n",
       "      <td>88.970000</td>\n",
       "      <td>7773.000000</td>\n",
       "      <td>37.743780</td>\n",
       "      <td>0.692000</td>\n",
       "      <td>3698.834981</td>\n",
       "    </tr>\n",
       "    <tr>\n",
       "      <th>50%</th>\n",
       "      <td>155.700000</td>\n",
       "      <td>11297.000000</td>\n",
       "      <td>111.455109</td>\n",
       "      <td>0.767000</td>\n",
       "      <td>7055.044776</td>\n",
       "    </tr>\n",
       "    <tr>\n",
       "      <th>75%</th>\n",
       "      <td>213.920000</td>\n",
       "      <td>14945.000000</td>\n",
       "      <td>243.743990</td>\n",
       "      <td>0.858000</td>\n",
       "      <td>21391.925334</td>\n",
       "    </tr>\n",
       "    <tr>\n",
       "      <th>max</th>\n",
       "      <td>309.240000</td>\n",
       "      <td>61197.000000</td>\n",
       "      <td>652.641143</td>\n",
       "      <td>0.962000</td>\n",
       "      <td>133590.146976</td>\n",
       "    </tr>\n",
       "  </tbody>\n",
       "</table>\n",
       "</div>"
      ],
      "text/plain": [
       "       total_vaccinations_per_hundred  daily_vaccinations_per_million  \\\n",
       "count                      117.000000                      117.000000   \n",
       "mean                       154.217265                    12214.777778   \n",
       "std                         74.862689                     7535.319356   \n",
       "min                          4.450000                      512.000000   \n",
       "25%                         88.970000                     7773.000000   \n",
       "50%                        155.700000                    11297.000000   \n",
       "75%                        213.920000                    14945.000000   \n",
       "max                        309.240000                    61197.000000   \n",
       "\n",
       "       covid_mortality_rate (per 100000)  Human Development Index 2021 (HDI)  \\\n",
       "count                         117.000000                          117.000000   \n",
       "mean                          153.945255                            0.762513   \n",
       "std                           142.430879                            0.120768   \n",
       "min                             0.363970                            0.514000   \n",
       "25%                            37.743780                            0.692000   \n",
       "50%                           111.455109                            0.767000   \n",
       "75%                           243.743990                            0.858000   \n",
       "max                           652.641143                            0.962000   \n",
       "\n",
       "       GDP per capita 2021 (US$)  \n",
       "count                 117.000000  \n",
       "mean                17499.696475  \n",
       "std                 23173.542050  \n",
       "min                  1094.098185  \n",
       "25%                  3698.834981  \n",
       "50%                  7055.044776  \n",
       "75%                 21391.925334  \n",
       "max                133590.146976  "
      ]
     },
     "execution_count": 77,
     "metadata": {},
     "output_type": "execute_result"
    }
   ],
   "source": [
    "dataset.describe() "
   ]
  },
  {
   "cell_type": "markdown",
   "id": "dae13bf2",
   "metadata": {},
   "source": [
    "## 9.2 Logistic Regression, Decision Tree and Random Forest"
   ]
  },
  {
   "cell_type": "code",
   "execution_count": 78,
   "id": "9e11b5c9",
   "metadata": {},
   "outputs": [],
   "source": [
    "#making predictions in a different ways, this will also be classification, but not SVC"
   ]
  },
  {
   "cell_type": "code",
   "execution_count": 79,
   "id": "70ae7857",
   "metadata": {},
   "outputs": [],
   "source": [
    "covidvisual = pd.read_excel('covidvisualApril5th2023.xlsx')"
   ]
  },
  {
   "cell_type": "code",
   "execution_count": 80,
   "id": "e09960e1",
   "metadata": {},
   "outputs": [
    {
     "data": {
      "text/html": [
       "<div>\n",
       "<style scoped>\n",
       "    .dataframe tbody tr th:only-of-type {\n",
       "        vertical-align: middle;\n",
       "    }\n",
       "\n",
       "    .dataframe tbody tr th {\n",
       "        vertical-align: top;\n",
       "    }\n",
       "\n",
       "    .dataframe thead th {\n",
       "        text-align: right;\n",
       "    }\n",
       "</style>\n",
       "<table border=\"1\" class=\"dataframe\">\n",
       "  <thead>\n",
       "    <tr style=\"text-align: right;\">\n",
       "      <th></th>\n",
       "      <th>Country</th>\n",
       "      <th>Country Code</th>\n",
       "      <th>Latitude</th>\n",
       "      <th>Longitude</th>\n",
       "      <th>HDI rank</th>\n",
       "      <th>Human Development Index 2021 (HDI)</th>\n",
       "      <th>Life expectancy at birth</th>\n",
       "      <th>Expected years of schooling</th>\n",
       "      <th>Mean years of schooling</th>\n",
       "      <th>Gross national income (GNI) per capita</th>\n",
       "      <th>...</th>\n",
       "      <th>NewRecovered</th>\n",
       "      <th>ActiveCases</th>\n",
       "      <th>Serious,Critical</th>\n",
       "      <th>TotalTests</th>\n",
       "      <th>Population</th>\n",
       "      <th>Continent</th>\n",
       "      <th>New Cases/1M pop</th>\n",
       "      <th>New Deaths/1M pop</th>\n",
       "      <th>Active Cases/1M pop</th>\n",
       "      <th>covid_mortality_rate (per 100000)</th>\n",
       "    </tr>\n",
       "  </thead>\n",
       "  <tbody>\n",
       "    <tr>\n",
       "      <th>0</th>\n",
       "      <td>Albania</td>\n",
       "      <td>ALB</td>\n",
       "      <td>41.0</td>\n",
       "      <td>20.0</td>\n",
       "      <td>67</td>\n",
       "      <td>0.796</td>\n",
       "      <td>76.4626</td>\n",
       "      <td>14.448000</td>\n",
       "      <td>11.286455</td>\n",
       "      <td>14131.110390</td>\n",
       "      <td>...</td>\n",
       "      <td>NaN</td>\n",
       "      <td>1,709</td>\n",
       "      <td>NaN</td>\n",
       "      <td>1,941,032</td>\n",
       "      <td>2866374</td>\n",
       "      <td>Europe</td>\n",
       "      <td>NaN</td>\n",
       "      <td>NaN</td>\n",
       "      <td>596</td>\n",
       "      <td>125.663992</td>\n",
       "    </tr>\n",
       "    <tr>\n",
       "      <th>1</th>\n",
       "      <td>Algeria</td>\n",
       "      <td>DZA</td>\n",
       "      <td>28.0</td>\n",
       "      <td>3.0</td>\n",
       "      <td>91</td>\n",
       "      <td>0.745</td>\n",
       "      <td>76.3767</td>\n",
       "      <td>14.626896</td>\n",
       "      <td>8.069284</td>\n",
       "      <td>10800.225460</td>\n",
       "      <td>...</td>\n",
       "      <td>NaN</td>\n",
       "      <td>81,825</td>\n",
       "      <td>NaN</td>\n",
       "      <td>230,861</td>\n",
       "      <td>45350148</td>\n",
       "      <td>Africa</td>\n",
       "      <td>0.1</td>\n",
       "      <td>NaN</td>\n",
       "      <td>1,804</td>\n",
       "      <td>15.173049</td>\n",
       "    </tr>\n",
       "    <tr>\n",
       "      <th>2</th>\n",
       "      <td>Angola</td>\n",
       "      <td>AGO</td>\n",
       "      <td>-12.5</td>\n",
       "      <td>18.5</td>\n",
       "      <td>148</td>\n",
       "      <td>0.586</td>\n",
       "      <td>61.6434</td>\n",
       "      <td>12.172100</td>\n",
       "      <td>5.417391</td>\n",
       "      <td>5465.617791</td>\n",
       "      <td>...</td>\n",
       "      <td>NaN</td>\n",
       "      <td>41</td>\n",
       "      <td>NaN</td>\n",
       "      <td>1,499,795</td>\n",
       "      <td>35027343</td>\n",
       "      <td>Africa</td>\n",
       "      <td>NaN</td>\n",
       "      <td>NaN</td>\n",
       "      <td>1</td>\n",
       "      <td>5.518546</td>\n",
       "    </tr>\n",
       "    <tr>\n",
       "      <th>3</th>\n",
       "      <td>Armenia</td>\n",
       "      <td>ARM</td>\n",
       "      <td>40.0</td>\n",
       "      <td>45.0</td>\n",
       "      <td>85</td>\n",
       "      <td>0.759</td>\n",
       "      <td>72.0431</td>\n",
       "      <td>13.116760</td>\n",
       "      <td>11.330300</td>\n",
       "      <td>13157.993900</td>\n",
       "      <td>...</td>\n",
       "      <td>NaN</td>\n",
       "      <td>4,250</td>\n",
       "      <td>NaN</td>\n",
       "      <td>3,242,901</td>\n",
       "      <td>2971966</td>\n",
       "      <td>Asia</td>\n",
       "      <td>NaN</td>\n",
       "      <td>NaN</td>\n",
       "      <td>1,430</td>\n",
       "      <td>294.047778</td>\n",
       "    </tr>\n",
       "    <tr>\n",
       "      <th>4</th>\n",
       "      <td>Australia</td>\n",
       "      <td>AUS</td>\n",
       "      <td>-27.0</td>\n",
       "      <td>133.0</td>\n",
       "      <td>5</td>\n",
       "      <td>0.951</td>\n",
       "      <td>84.5265</td>\n",
       "      <td>21.054590</td>\n",
       "      <td>12.726820</td>\n",
       "      <td>49238.433350</td>\n",
       "      <td>...</td>\n",
       "      <td>NaN</td>\n",
       "      <td>43,652</td>\n",
       "      <td>33</td>\n",
       "      <td>78,835,048</td>\n",
       "      <td>26068792</td>\n",
       "      <td>Australia/Oceania</td>\n",
       "      <td>NaN</td>\n",
       "      <td>NaN</td>\n",
       "      <td>1,674</td>\n",
       "      <td>76.167703</td>\n",
       "    </tr>\n",
       "    <tr>\n",
       "      <th>...</th>\n",
       "      <td>...</td>\n",
       "      <td>...</td>\n",
       "      <td>...</td>\n",
       "      <td>...</td>\n",
       "      <td>...</td>\n",
       "      <td>...</td>\n",
       "      <td>...</td>\n",
       "      <td>...</td>\n",
       "      <td>...</td>\n",
       "      <td>...</td>\n",
       "      <td>...</td>\n",
       "      <td>...</td>\n",
       "      <td>...</td>\n",
       "      <td>...</td>\n",
       "      <td>...</td>\n",
       "      <td>...</td>\n",
       "      <td>...</td>\n",
       "      <td>...</td>\n",
       "      <td>...</td>\n",
       "      <td>...</td>\n",
       "      <td>...</td>\n",
       "    </tr>\n",
       "    <tr>\n",
       "      <th>144</th>\n",
       "      <td>Uzbekistan</td>\n",
       "      <td>UZB</td>\n",
       "      <td>41.0</td>\n",
       "      <td>64.0</td>\n",
       "      <td>101</td>\n",
       "      <td>0.727</td>\n",
       "      <td>70.8616</td>\n",
       "      <td>12.477140</td>\n",
       "      <td>11.895590</td>\n",
       "      <td>7916.785725</td>\n",
       "      <td>...</td>\n",
       "      <td>NaN</td>\n",
       "      <td>8,716</td>\n",
       "      <td>23</td>\n",
       "      <td>1,377,915</td>\n",
       "      <td>34382084</td>\n",
       "      <td>Asia</td>\n",
       "      <td>NaN</td>\n",
       "      <td>NaN</td>\n",
       "      <td>254</td>\n",
       "      <td>4.761201</td>\n",
       "    </tr>\n",
       "    <tr>\n",
       "      <th>145</th>\n",
       "      <td>Vanuatu</td>\n",
       "      <td>VUT</td>\n",
       "      <td>-16.0</td>\n",
       "      <td>167.0</td>\n",
       "      <td>140</td>\n",
       "      <td>0.607</td>\n",
       "      <td>70.4490</td>\n",
       "      <td>11.535315</td>\n",
       "      <td>7.064846</td>\n",
       "      <td>3085.411633</td>\n",
       "      <td>...</td>\n",
       "      <td>NaN</td>\n",
       "      <td>24</td>\n",
       "      <td>NaN</td>\n",
       "      <td>24,976</td>\n",
       "      <td>321832</td>\n",
       "      <td>Australia/Oceania</td>\n",
       "      <td>NaN</td>\n",
       "      <td>NaN</td>\n",
       "      <td>75</td>\n",
       "      <td>4.350096</td>\n",
       "    </tr>\n",
       "    <tr>\n",
       "      <th>146</th>\n",
       "      <td>Viet Nam</td>\n",
       "      <td>VNM</td>\n",
       "      <td>16.0</td>\n",
       "      <td>106.0</td>\n",
       "      <td>115</td>\n",
       "      <td>0.703</td>\n",
       "      <td>73.6181</td>\n",
       "      <td>12.951932</td>\n",
       "      <td>8.370280</td>\n",
       "      <td>7867.371345</td>\n",
       "      <td>...</td>\n",
       "      <td>+23</td>\n",
       "      <td>869,254</td>\n",
       "      <td>7</td>\n",
       "      <td>85,826,548</td>\n",
       "      <td>98953541</td>\n",
       "      <td>Asia</td>\n",
       "      <td>0.5</td>\n",
       "      <td>NaN</td>\n",
       "      <td>8,784</td>\n",
       "      <td>43.642703</td>\n",
       "    </tr>\n",
       "    <tr>\n",
       "      <th>147</th>\n",
       "      <td>Zambia</td>\n",
       "      <td>ZMB</td>\n",
       "      <td>-15.0</td>\n",
       "      <td>30.0</td>\n",
       "      <td>154</td>\n",
       "      <td>0.565</td>\n",
       "      <td>61.2234</td>\n",
       "      <td>10.928760</td>\n",
       "      <td>7.187091</td>\n",
       "      <td>3217.767739</td>\n",
       "      <td>...</td>\n",
       "      <td>NaN</td>\n",
       "      <td>122</td>\n",
       "      <td>NaN</td>\n",
       "      <td>3,994,061</td>\n",
       "      <td>19470234</td>\n",
       "      <td>Africa</td>\n",
       "      <td>NaN</td>\n",
       "      <td>NaN</td>\n",
       "      <td>6</td>\n",
       "      <td>20.842071</td>\n",
       "    </tr>\n",
       "    <tr>\n",
       "      <th>148</th>\n",
       "      <td>Zimbabwe</td>\n",
       "      <td>ZWE</td>\n",
       "      <td>-20.0</td>\n",
       "      <td>30.0</td>\n",
       "      <td>146</td>\n",
       "      <td>0.593</td>\n",
       "      <td>59.2531</td>\n",
       "      <td>12.110969</td>\n",
       "      <td>8.710909</td>\n",
       "      <td>3809.887158</td>\n",
       "      <td>...</td>\n",
       "      <td>NaN</td>\n",
       "      <td>348</td>\n",
       "      <td>12</td>\n",
       "      <td>2,525,756</td>\n",
       "      <td>15331428</td>\n",
       "      <td>Africa</td>\n",
       "      <td>NaN</td>\n",
       "      <td>NaN</td>\n",
       "      <td>23</td>\n",
       "      <td>37.041559</td>\n",
       "    </tr>\n",
       "  </tbody>\n",
       "</table>\n",
       "<p>149 rows × 43 columns</p>\n",
       "</div>"
      ],
      "text/plain": [
       "        Country Country Code  Latitude  Longitude  HDI rank  \\\n",
       "0       Albania          ALB      41.0       20.0        67   \n",
       "1       Algeria          DZA      28.0        3.0        91   \n",
       "2        Angola          AGO     -12.5       18.5       148   \n",
       "3       Armenia          ARM      40.0       45.0        85   \n",
       "4     Australia          AUS     -27.0      133.0         5   \n",
       "..          ...          ...       ...        ...       ...   \n",
       "144  Uzbekistan          UZB      41.0       64.0       101   \n",
       "145     Vanuatu          VUT     -16.0      167.0       140   \n",
       "146    Viet Nam          VNM      16.0      106.0       115   \n",
       "147      Zambia          ZMB     -15.0       30.0       154   \n",
       "148    Zimbabwe          ZWE     -20.0       30.0       146   \n",
       "\n",
       "     Human Development Index 2021 (HDI)  Life expectancy at birth  \\\n",
       "0                                 0.796                   76.4626   \n",
       "1                                 0.745                   76.3767   \n",
       "2                                 0.586                   61.6434   \n",
       "3                                 0.759                   72.0431   \n",
       "4                                 0.951                   84.5265   \n",
       "..                                  ...                       ...   \n",
       "144                               0.727                   70.8616   \n",
       "145                               0.607                   70.4490   \n",
       "146                               0.703                   73.6181   \n",
       "147                               0.565                   61.2234   \n",
       "148                               0.593                   59.2531   \n",
       "\n",
       "     Expected years of schooling  Mean years of schooling  \\\n",
       "0                      14.448000                11.286455   \n",
       "1                      14.626896                 8.069284   \n",
       "2                      12.172100                 5.417391   \n",
       "3                      13.116760                11.330300   \n",
       "4                      21.054590                12.726820   \n",
       "..                           ...                      ...   \n",
       "144                    12.477140                11.895590   \n",
       "145                    11.535315                 7.064846   \n",
       "146                    12.951932                 8.370280   \n",
       "147                    10.928760                 7.187091   \n",
       "148                    12.110969                 8.710909   \n",
       "\n",
       "     Gross national income (GNI) per capita  ...  NewRecovered  ActiveCases  \\\n",
       "0                              14131.110390  ...           NaN        1,709   \n",
       "1                              10800.225460  ...           NaN       81,825   \n",
       "2                               5465.617791  ...           NaN           41   \n",
       "3                              13157.993900  ...           NaN        4,250   \n",
       "4                              49238.433350  ...           NaN       43,652   \n",
       "..                                      ...  ...           ...          ...   \n",
       "144                             7916.785725  ...           NaN        8,716   \n",
       "145                             3085.411633  ...           NaN           24   \n",
       "146                             7867.371345  ...           +23      869,254   \n",
       "147                             3217.767739  ...           NaN          122   \n",
       "148                             3809.887158  ...           NaN          348   \n",
       "\n",
       "     Serious,Critical  TotalTests  Population          Continent  \\\n",
       "0                 NaN   1,941,032     2866374             Europe   \n",
       "1                 NaN     230,861    45350148             Africa   \n",
       "2                 NaN   1,499,795    35027343             Africa   \n",
       "3                 NaN   3,242,901     2971966               Asia   \n",
       "4                  33  78,835,048    26068792  Australia/Oceania   \n",
       "..                ...         ...         ...                ...   \n",
       "144                23   1,377,915    34382084               Asia   \n",
       "145               NaN      24,976      321832  Australia/Oceania   \n",
       "146                 7  85,826,548    98953541               Asia   \n",
       "147               NaN   3,994,061    19470234             Africa   \n",
       "148                12   2,525,756    15331428             Africa   \n",
       "\n",
       "    New Cases/1M pop  New Deaths/1M pop Active Cases/1M pop  \\\n",
       "0                NaN                NaN                 596   \n",
       "1                0.1                NaN               1,804   \n",
       "2                NaN                NaN                   1   \n",
       "3                NaN                NaN               1,430   \n",
       "4                NaN                NaN               1,674   \n",
       "..               ...                ...                 ...   \n",
       "144              NaN                NaN                 254   \n",
       "145              NaN                NaN                  75   \n",
       "146              0.5                NaN               8,784   \n",
       "147              NaN                NaN                   6   \n",
       "148              NaN                NaN                  23   \n",
       "\n",
       "     covid_mortality_rate (per 100000)  \n",
       "0                           125.663992  \n",
       "1                            15.173049  \n",
       "2                             5.518546  \n",
       "3                           294.047778  \n",
       "4                            76.167703  \n",
       "..                                 ...  \n",
       "144                           4.761201  \n",
       "145                           4.350096  \n",
       "146                          43.642703  \n",
       "147                          20.842071  \n",
       "148                          37.041559  \n",
       "\n",
       "[149 rows x 43 columns]"
      ]
     },
     "execution_count": 80,
     "metadata": {},
     "output_type": "execute_result"
    }
   ],
   "source": [
    "covidvisual"
   ]
  },
  {
   "cell_type": "code",
   "execution_count": 81,
   "id": "c63f75a1",
   "metadata": {},
   "outputs": [
    {
     "data": {
      "text/html": [
       "<div>\n",
       "<style scoped>\n",
       "    .dataframe tbody tr th:only-of-type {\n",
       "        vertical-align: middle;\n",
       "    }\n",
       "\n",
       "    .dataframe tbody tr th {\n",
       "        vertical-align: top;\n",
       "    }\n",
       "\n",
       "    .dataframe thead th {\n",
       "        text-align: right;\n",
       "    }\n",
       "</style>\n",
       "<table border=\"1\" class=\"dataframe\">\n",
       "  <thead>\n",
       "    <tr style=\"text-align: right;\">\n",
       "      <th></th>\n",
       "      <th>Country</th>\n",
       "      <th>Country Code</th>\n",
       "      <th>Latitude</th>\n",
       "      <th>Longitude</th>\n",
       "      <th>HDI rank</th>\n",
       "      <th>Human Development Index 2021 (HDI)</th>\n",
       "      <th>Life expectancy at birth</th>\n",
       "      <th>Expected years of schooling</th>\n",
       "      <th>Mean years of schooling</th>\n",
       "      <th>Gross national income (GNI) per capita</th>\n",
       "      <th>...</th>\n",
       "      <th>NewRecovered</th>\n",
       "      <th>ActiveCases</th>\n",
       "      <th>Serious,Critical</th>\n",
       "      <th>TotalTests</th>\n",
       "      <th>Population</th>\n",
       "      <th>Continent</th>\n",
       "      <th>New Cases/1M pop</th>\n",
       "      <th>New Deaths/1M pop</th>\n",
       "      <th>Active Cases/1M pop</th>\n",
       "      <th>covid_mortality_rate (per 100000)</th>\n",
       "    </tr>\n",
       "  </thead>\n",
       "  <tbody>\n",
       "    <tr>\n",
       "      <th>0</th>\n",
       "      <td>Albania</td>\n",
       "      <td>ALB</td>\n",
       "      <td>41.0</td>\n",
       "      <td>20.0</td>\n",
       "      <td>67</td>\n",
       "      <td>0.796</td>\n",
       "      <td>76.4626</td>\n",
       "      <td>14.448000</td>\n",
       "      <td>11.286455</td>\n",
       "      <td>14131.110390</td>\n",
       "      <td>...</td>\n",
       "      <td>NaN</td>\n",
       "      <td>1,709</td>\n",
       "      <td>NaN</td>\n",
       "      <td>1,941,032</td>\n",
       "      <td>2866374</td>\n",
       "      <td>Europe</td>\n",
       "      <td>NaN</td>\n",
       "      <td>NaN</td>\n",
       "      <td>596</td>\n",
       "      <td>125.663992</td>\n",
       "    </tr>\n",
       "    <tr>\n",
       "      <th>1</th>\n",
       "      <td>Algeria</td>\n",
       "      <td>DZA</td>\n",
       "      <td>28.0</td>\n",
       "      <td>3.0</td>\n",
       "      <td>91</td>\n",
       "      <td>0.745</td>\n",
       "      <td>76.3767</td>\n",
       "      <td>14.626896</td>\n",
       "      <td>8.069284</td>\n",
       "      <td>10800.225460</td>\n",
       "      <td>...</td>\n",
       "      <td>NaN</td>\n",
       "      <td>81,825</td>\n",
       "      <td>NaN</td>\n",
       "      <td>230,861</td>\n",
       "      <td>45350148</td>\n",
       "      <td>Africa</td>\n",
       "      <td>0.1</td>\n",
       "      <td>NaN</td>\n",
       "      <td>1,804</td>\n",
       "      <td>15.173049</td>\n",
       "    </tr>\n",
       "    <tr>\n",
       "      <th>2</th>\n",
       "      <td>Angola</td>\n",
       "      <td>AGO</td>\n",
       "      <td>-12.5</td>\n",
       "      <td>18.5</td>\n",
       "      <td>148</td>\n",
       "      <td>0.586</td>\n",
       "      <td>61.6434</td>\n",
       "      <td>12.172100</td>\n",
       "      <td>5.417391</td>\n",
       "      <td>5465.617791</td>\n",
       "      <td>...</td>\n",
       "      <td>NaN</td>\n",
       "      <td>41</td>\n",
       "      <td>NaN</td>\n",
       "      <td>1,499,795</td>\n",
       "      <td>35027343</td>\n",
       "      <td>Africa</td>\n",
       "      <td>NaN</td>\n",
       "      <td>NaN</td>\n",
       "      <td>1</td>\n",
       "      <td>5.518546</td>\n",
       "    </tr>\n",
       "  </tbody>\n",
       "</table>\n",
       "<p>3 rows × 43 columns</p>\n",
       "</div>"
      ],
      "text/plain": [
       "   Country Country Code  Latitude  Longitude  HDI rank  \\\n",
       "0  Albania          ALB      41.0       20.0        67   \n",
       "1  Algeria          DZA      28.0        3.0        91   \n",
       "2   Angola          AGO     -12.5       18.5       148   \n",
       "\n",
       "   Human Development Index 2021 (HDI)  Life expectancy at birth  \\\n",
       "0                               0.796                   76.4626   \n",
       "1                               0.745                   76.3767   \n",
       "2                               0.586                   61.6434   \n",
       "\n",
       "   Expected years of schooling  Mean years of schooling  \\\n",
       "0                    14.448000                11.286455   \n",
       "1                    14.626896                 8.069284   \n",
       "2                    12.172100                 5.417391   \n",
       "\n",
       "   Gross national income (GNI) per capita  ...  NewRecovered  ActiveCases  \\\n",
       "0                            14131.110390  ...           NaN        1,709   \n",
       "1                            10800.225460  ...           NaN       81,825   \n",
       "2                             5465.617791  ...           NaN           41   \n",
       "\n",
       "   Serious,Critical  TotalTests  Population Continent New Cases/1M pop  \\\n",
       "0               NaN   1,941,032     2866374    Europe              NaN   \n",
       "1               NaN     230,861    45350148    Africa              0.1   \n",
       "2               NaN   1,499,795    35027343    Africa              NaN   \n",
       "\n",
       "   New Deaths/1M pop Active Cases/1M pop  covid_mortality_rate (per 100000)  \n",
       "0                NaN                 596                         125.663992  \n",
       "1                NaN               1,804                          15.173049  \n",
       "2                NaN                   1                           5.518546  \n",
       "\n",
       "[3 rows x 43 columns]"
      ]
     },
     "execution_count": 81,
     "metadata": {},
     "output_type": "execute_result"
    }
   ],
   "source": [
    "covidvisual.head(3)"
   ]
  },
  {
   "cell_type": "code",
   "execution_count": 82,
   "id": "d79a45c5",
   "metadata": {},
   "outputs": [
    {
     "data": {
      "text/plain": [
       "(149, 43)"
      ]
     },
     "execution_count": 82,
     "metadata": {},
     "output_type": "execute_result"
    }
   ],
   "source": [
    "covidvisual.shape"
   ]
  },
  {
   "cell_type": "code",
   "execution_count": 83,
   "id": "2068657f",
   "metadata": {},
   "outputs": [
    {
     "data": {
      "text/plain": [
       "Country                                     0\n",
       "Country Code                                0\n",
       "Latitude                                    0\n",
       "Longitude                                   0\n",
       "HDI rank                                    0\n",
       "Human Development Index 2021 (HDI)          0\n",
       "Life expectancy at birth                    0\n",
       "Expected years of schooling                 0\n",
       "Mean years of schooling                     0\n",
       "Gross national income (GNI) per capita      0\n",
       "GDP 2021 (US$)                              0\n",
       "GDP per capita 2021 (US$)                   0\n",
       "GDP growth 2021 (annual %)                  0\n",
       "Inflation Rate 2021 (%)                     0\n",
       "Unemployment Rate 2021 (%)                  0\n",
       "Region                                      0\n",
       "IncomeGroup                                 0\n",
       "total_vaccinations                          0\n",
       "date                                        0\n",
       "people_vaccinated                           0\n",
       "people_fully_vaccinated                     0\n",
       "daily_vaccinations_raw                     21\n",
       "daily_vaccinations                          0\n",
       "total_vaccinations_per_hundred              0\n",
       "people_vaccinated_per_hundred               0\n",
       "people_fully_vaccinated_per_hundred         0\n",
       "daily_vaccinations_per_million              0\n",
       "Country,Other                               0\n",
       "TotalCases                                  0\n",
       "NewCases                                  118\n",
       "TotalDeaths                                 0\n",
       "NewDeaths                                 131\n",
       "TotalRecovered                             10\n",
       "NewRecovered                              117\n",
       "ActiveCases                                10\n",
       "Serious,Critical                           55\n",
       "TotalTests                                  3\n",
       "Population                                  0\n",
       "Continent                                   0\n",
       "New Cases/1M pop                          118\n",
       "New Deaths/1M pop                         131\n",
       "Active Cases/1M pop                         0\n",
       "covid_mortality_rate (per 100000)           0\n",
       "dtype: int64"
      ]
     },
     "execution_count": 83,
     "metadata": {},
     "output_type": "execute_result"
    }
   ],
   "source": [
    "covidvisual.isna().sum()"
   ]
  },
  {
   "cell_type": "code",
   "execution_count": 84,
   "id": "05050354",
   "metadata": {},
   "outputs": [],
   "source": [
    "import missingno as msno"
   ]
  },
  {
   "cell_type": "code",
   "execution_count": 85,
   "id": "0083de78",
   "metadata": {},
   "outputs": [
    {
     "data": {
      "text/plain": [
       "<AxesSubplot:>"
      ]
     },
     "execution_count": 85,
     "metadata": {},
     "output_type": "execute_result"
    },
    {
     "data": {
      "image/png": "[encoded data removed]",
      "text/plain": [
       "<Figure size 1800x720 with 3 Axes>"
      ]
     },
     "metadata": {
      "needs_background": "light"
     },
     "output_type": "display_data"
    }
   ],
   "source": [
    "msno.bar(covidvisual)"
   ]
  },
  {
   "cell_type": "code",
   "execution_count": 86,
   "id": "f4b66ff4",
   "metadata": {},
   "outputs": [
    {
     "data": {
      "text/plain": [
       "Country                                   149\n",
       "Country Code                              149\n",
       "Latitude                                  107\n",
       "Longitude                                 111\n",
       "HDI rank                                  128\n",
       "Human Development Index 2021 (HDI)        128\n",
       "Life expectancy at birth                  149\n",
       "Expected years of schooling               149\n",
       "Mean years of schooling                   149\n",
       "Gross national income (GNI) per capita    149\n",
       "GDP 2021 (US$)                            149\n",
       "GDP per capita 2021 (US$)                 149\n",
       "GDP growth 2021 (annual %)                149\n",
       "Inflation Rate 2021 (%)                   149\n",
       "Unemployment Rate 2021 (%)                145\n",
       "Region                                      7\n",
       "IncomeGroup                                 4\n",
       "total_vaccinations                        149\n",
       "date                                       75\n",
       "people_vaccinated                         149\n",
       "people_fully_vaccinated                   149\n",
       "daily_vaccinations_raw                    128\n",
       "daily_vaccinations                        149\n",
       "total_vaccinations_per_hundred            149\n",
       "people_vaccinated_per_hundred             146\n",
       "people_fully_vaccinated_per_hundred       148\n",
       "daily_vaccinations_per_million            149\n",
       "Country,Other                             149\n",
       "TotalCases                                149\n",
       "NewCases                                   31\n",
       "TotalDeaths                               148\n",
       "NewDeaths                                  12\n",
       "TotalRecovered                            139\n",
       "NewRecovered                               32\n",
       "ActiveCases                               134\n",
       "Serious,Critical                           56\n",
       "TotalTests                                146\n",
       "Population                                149\n",
       "Continent                                   6\n",
       "New Cases/1M pop                           25\n",
       "New Deaths/1M pop                          13\n",
       "Active Cases/1M pop                       133\n",
       "covid_mortality_rate (per 100000)         149\n",
       "dtype: int64"
      ]
     },
     "execution_count": 86,
     "metadata": {},
     "output_type": "execute_result"
    }
   ],
   "source": [
    "covidvisual.nunique()"
   ]
  },
  {
   "cell_type": "code",
   "execution_count": 87,
   "id": "cc327308",
   "metadata": {},
   "outputs": [
    {
     "data": {
      "text/plain": [
       "Country                                    object\n",
       "Country Code                               object\n",
       "Latitude                                  float64\n",
       "Longitude                                 float64\n",
       "HDI rank                                    int64\n",
       "Human Development Index 2021 (HDI)        float64\n",
       "Life expectancy at birth                  float64\n",
       "Expected years of schooling               float64\n",
       "Mean years of schooling                   float64\n",
       "Gross national income (GNI) per capita    float64\n",
       "GDP 2021 (US$)                            float64\n",
       "GDP per capita 2021 (US$)                 float64\n",
       "GDP growth 2021 (annual %)                float64\n",
       "Inflation Rate 2021 (%)                   float64\n",
       "Unemployment Rate 2021 (%)                float64\n",
       "Region                                     object\n",
       "IncomeGroup                                object\n",
       "total_vaccinations                          int64\n",
       "date                                       object\n",
       "people_vaccinated                           int64\n",
       "people_fully_vaccinated                     int64\n",
       "daily_vaccinations_raw                    float64\n",
       "daily_vaccinations                          int64\n",
       "total_vaccinations_per_hundred            float64\n",
       "people_vaccinated_per_hundred             float64\n",
       "people_fully_vaccinated_per_hundred       float64\n",
       "daily_vaccinations_per_million              int64\n",
       "Country,Other                              object\n",
       "TotalCases                                 object\n",
       "NewCases                                   object\n",
       "TotalDeaths                                 int64\n",
       "NewDeaths                                 float64\n",
       "TotalRecovered                             object\n",
       "NewRecovered                               object\n",
       "ActiveCases                                object\n",
       "Serious,Critical                           object\n",
       "TotalTests                                 object\n",
       "Population                                  int64\n",
       "Continent                                  object\n",
       "New Cases/1M pop                          float64\n",
       "New Deaths/1M pop                         float64\n",
       "Active Cases/1M pop                        object\n",
       "covid_mortality_rate (per 100000)         float64\n",
       "dtype: object"
      ]
     },
     "execution_count": 87,
     "metadata": {},
     "output_type": "execute_result"
    }
   ],
   "source": [
    "covidvisual.dtypes"
   ]
  },
  {
   "cell_type": "code",
   "execution_count": 88,
   "id": "d5620e86",
   "metadata": {},
   "outputs": [
    {
     "data": {
      "text/plain": [
       "pandas.core.frame.DataFrame"
      ]
     },
     "execution_count": 88,
     "metadata": {},
     "output_type": "execute_result"
    }
   ],
   "source": [
    "type(covidvisual)"
   ]
  },
  {
   "cell_type": "code",
   "execution_count": 89,
   "id": "4864b158",
   "metadata": {},
   "outputs": [
    {
     "data": {
      "text/plain": [
       "pandas.core.series.Series"
      ]
     },
     "execution_count": 89,
     "metadata": {},
     "output_type": "execute_result"
    }
   ],
   "source": [
    "type(covidvisual['IncomeGroup'])"
   ]
  },
  {
   "cell_type": "code",
   "execution_count": 90,
   "id": "0ac1c1af",
   "metadata": {},
   "outputs": [
    {
     "data": {
      "text/plain": [
       "High income            49\n",
       "Lower middle income    44\n",
       "Upper middle income    40\n",
       "Low income             16\n",
       "Name: IncomeGroup, dtype: int64"
      ]
     },
     "execution_count": 90,
     "metadata": {},
     "output_type": "execute_result"
    }
   ],
   "source": [
    "covidvisual['IncomeGroup'].value_counts()"
   ]
  },
  {
   "cell_type": "code",
   "execution_count": 91,
   "id": "9262e08f",
   "metadata": {},
   "outputs": [
    {
     "data": {
      "text/plain": [
       "High income            0.328859\n",
       "Lower middle income    0.295302\n",
       "Upper middle income    0.268456\n",
       "Low income             0.107383\n",
       "Name: IncomeGroup, dtype: float64"
      ]
     },
     "execution_count": 91,
     "metadata": {},
     "output_type": "execute_result"
    }
   ],
   "source": [
    "covidvisual['IncomeGroup'].value_counts(normalize=True)"
   ]
  },
  {
   "cell_type": "code",
   "execution_count": 92,
   "id": "51291a21",
   "metadata": {},
   "outputs": [],
   "source": [
    "import seaborn as sns"
   ]
  },
  {
   "cell_type": "code",
   "execution_count": 93,
   "id": "4de6ef02",
   "metadata": {},
   "outputs": [
    {
     "data": {
      "text/plain": [
       "<AxesSubplot:xlabel='count', ylabel='IncomeGroup'>"
      ]
     },
     "execution_count": 93,
     "metadata": {},
     "output_type": "execute_result"
    },
    {
     "data": {
      "image/png": "[encoded data removed]",
      "text/plain": [
       "<Figure size 432x288 with 1 Axes>"
      ]
     },
     "metadata": {
      "needs_background": "light"
     },
     "output_type": "display_data"
    }
   ],
   "source": [
    "sns.countplot(data=covidvisual, y = 'IncomeGroup')"
   ]
  },
  {
   "cell_type": "code",
   "execution_count": 94,
   "id": "a342c955",
   "metadata": {},
   "outputs": [
    {
     "data": {
      "text/html": [
       "<div>\n",
       "<style scoped>\n",
       "    .dataframe tbody tr th:only-of-type {\n",
       "        vertical-align: middle;\n",
       "    }\n",
       "\n",
       "    .dataframe tbody tr th {\n",
       "        vertical-align: top;\n",
       "    }\n",
       "\n",
       "    .dataframe thead th {\n",
       "        text-align: right;\n",
       "    }\n",
       "</style>\n",
       "<table border=\"1\" class=\"dataframe\">\n",
       "  <thead>\n",
       "    <tr style=\"text-align: right;\">\n",
       "      <th></th>\n",
       "      <th>Latitude</th>\n",
       "      <th>Longitude</th>\n",
       "      <th>HDI rank</th>\n",
       "      <th>Human Development Index 2021 (HDI)</th>\n",
       "      <th>Life expectancy at birth</th>\n",
       "      <th>Expected years of schooling</th>\n",
       "      <th>Mean years of schooling</th>\n",
       "      <th>Gross national income (GNI) per capita</th>\n",
       "      <th>GDP 2021 (US$)</th>\n",
       "      <th>GDP per capita 2021 (US$)</th>\n",
       "      <th>...</th>\n",
       "      <th>total_vaccinations_per_hundred</th>\n",
       "      <th>people_vaccinated_per_hundred</th>\n",
       "      <th>people_fully_vaccinated_per_hundred</th>\n",
       "      <th>daily_vaccinations_per_million</th>\n",
       "      <th>TotalDeaths</th>\n",
       "      <th>NewDeaths</th>\n",
       "      <th>Population</th>\n",
       "      <th>New Cases/1M pop</th>\n",
       "      <th>New Deaths/1M pop</th>\n",
       "      <th>covid_mortality_rate (per 100000)</th>\n",
       "    </tr>\n",
       "  </thead>\n",
       "  <tbody>\n",
       "    <tr>\n",
       "      <th>count</th>\n",
       "      <td>149.000000</td>\n",
       "      <td>149.000000</td>\n",
       "      <td>149.000000</td>\n",
       "      <td>149.000000</td>\n",
       "      <td>149.000000</td>\n",
       "      <td>149.000000</td>\n",
       "      <td>149.000000</td>\n",
       "      <td>149.000000</td>\n",
       "      <td>1.490000e+02</td>\n",
       "      <td>149.000000</td>\n",
       "      <td>...</td>\n",
       "      <td>149.000000</td>\n",
       "      <td>149.000000</td>\n",
       "      <td>149.000000</td>\n",
       "      <td>149.000000</td>\n",
       "      <td>1.490000e+02</td>\n",
       "      <td>18.000000</td>\n",
       "      <td>1.490000e+02</td>\n",
       "      <td>31.000000</td>\n",
       "      <td>18.000000</td>\n",
       "      <td>149.000000</td>\n",
       "    </tr>\n",
       "    <tr>\n",
       "      <th>mean</th>\n",
       "      <td>20.568903</td>\n",
       "      <td>18.110738</td>\n",
       "      <td>89.590604</td>\n",
       "      <td>0.737940</td>\n",
       "      <td>72.099044</td>\n",
       "      <td>13.872340</td>\n",
       "      <td>9.282668</td>\n",
       "      <td>21483.297314</td>\n",
       "      <td>6.267643e+11</td>\n",
       "      <td>17043.642330</td>\n",
       "      <td>...</td>\n",
       "      <td>147.465973</td>\n",
       "      <td>61.090268</td>\n",
       "      <td>56.137584</td>\n",
       "      <td>12556.147651</td>\n",
       "      <td>4.424775e+04</td>\n",
       "      <td>10.222222</td>\n",
       "      <td>4.966243e+07</td>\n",
       "      <td>50.808065</td>\n",
       "      <td>0.331667</td>\n",
       "      <td>140.651667</td>\n",
       "    </tr>\n",
       "    <tr>\n",
       "      <th>std</th>\n",
       "      <td>24.937936</td>\n",
       "      <td>65.261616</td>\n",
       "      <td>55.154576</td>\n",
       "      <td>0.148244</td>\n",
       "      <td>7.600011</td>\n",
       "      <td>2.858387</td>\n",
       "      <td>3.145162</td>\n",
       "      <td>20484.572503</td>\n",
       "      <td>2.471488e+12</td>\n",
       "      <td>23472.569989</td>\n",
       "      <td>...</td>\n",
       "      <td>79.618981</td>\n",
       "      <td>23.674900</td>\n",
       "      <td>24.003123</td>\n",
       "      <td>11346.083328</td>\n",
       "      <td>1.286413e+05</td>\n",
       "      <td>14.901858</td>\n",
       "      <td>1.698311e+08</td>\n",
       "      <td>65.684372</td>\n",
       "      <td>0.317143</td>\n",
       "      <td>140.407090</td>\n",
       "    </tr>\n",
       "    <tr>\n",
       "      <th>min</th>\n",
       "      <td>-41.000000</td>\n",
       "      <td>-175.000000</td>\n",
       "      <td>1.000000</td>\n",
       "      <td>0.400000</td>\n",
       "      <td>52.676000</td>\n",
       "      <td>6.957112</td>\n",
       "      <td>2.114962</td>\n",
       "      <td>731.786709</td>\n",
       "      <td>4.692313e+08</td>\n",
       "      <td>221.477676</td>\n",
       "      <td>...</td>\n",
       "      <td>0.280000</td>\n",
       "      <td>0.260000</td>\n",
       "      <td>0.260000</td>\n",
       "      <td>32.000000</td>\n",
       "      <td>1.300000e+01</td>\n",
       "      <td>1.000000</td>\n",
       "      <td>1.077490e+05</td>\n",
       "      <td>0.050000</td>\n",
       "      <td>0.010000</td>\n",
       "      <td>0.300994</td>\n",
       "    </tr>\n",
       "    <tr>\n",
       "      <th>25%</th>\n",
       "      <td>4.500000</td>\n",
       "      <td>-8.000000</td>\n",
       "      <td>40.000000</td>\n",
       "      <td>0.627000</td>\n",
       "      <td>67.239800</td>\n",
       "      <td>12.087473</td>\n",
       "      <td>7.088480</td>\n",
       "      <td>5472.104781</td>\n",
       "      <td>1.609182e+10</td>\n",
       "      <td>2535.623432</td>\n",
       "      <td>...</td>\n",
       "      <td>77.450000</td>\n",
       "      <td>42.720000</td>\n",
       "      <td>37.800000</td>\n",
       "      <td>7465.000000</td>\n",
       "      <td>1.298000e+03</td>\n",
       "      <td>1.250000</td>\n",
       "      <td>3.249317e+06</td>\n",
       "      <td>3.000000</td>\n",
       "      <td>0.100000</td>\n",
       "      <td>17.799897</td>\n",
       "    </tr>\n",
       "    <tr>\n",
       "      <th>50%</th>\n",
       "      <td>20.000000</td>\n",
       "      <td>20.000000</td>\n",
       "      <td>89.000000</td>\n",
       "      <td>0.751000</td>\n",
       "      <td>72.614600</td>\n",
       "      <td>13.951780</td>\n",
       "      <td>9.827750</td>\n",
       "      <td>13157.993900</td>\n",
       "      <td>6.360510e+10</td>\n",
       "      <td>6104.136709</td>\n",
       "      <td>...</td>\n",
       "      <td>147.860000</td>\n",
       "      <td>65.550000</td>\n",
       "      <td>62.310000</td>\n",
       "      <td>11268.000000</td>\n",
       "      <td>7.100000e+03</td>\n",
       "      <td>4.500000</td>\n",
       "      <td>1.021897e+07</td>\n",
       "      <td>22.000000</td>\n",
       "      <td>0.200000</td>\n",
       "      <td>98.920361</td>\n",
       "    </tr>\n",
       "    <tr>\n",
       "      <th>75%</th>\n",
       "      <td>41.000000</td>\n",
       "      <td>45.000000</td>\n",
       "      <td>135.000000</td>\n",
       "      <td>0.858000</td>\n",
       "      <td>77.198200</td>\n",
       "      <td>15.928960</td>\n",
       "      <td>11.895590</td>\n",
       "      <td>32803.234230</td>\n",
       "      <td>3.661376e+11</td>\n",
       "      <td>21391.925334</td>\n",
       "      <td>...</td>\n",
       "      <td>213.920000</td>\n",
       "      <td>80.610000</td>\n",
       "      <td>75.190000</td>\n",
       "      <td>15163.000000</td>\n",
       "      <td>2.537500e+04</td>\n",
       "      <td>11.750000</td>\n",
       "      <td>3.502734e+07</td>\n",
       "      <td>78.500000</td>\n",
       "      <td>0.475000</td>\n",
       "      <td>224.750550</td>\n",
       "    </tr>\n",
       "    <tr>\n",
       "      <th>max</th>\n",
       "      <td>65.000000</td>\n",
       "      <td>175.000000</td>\n",
       "      <td>189.000000</td>\n",
       "      <td>0.962000</td>\n",
       "      <td>85.473400</td>\n",
       "      <td>21.054590</td>\n",
       "      <td>14.090967</td>\n",
       "      <td>90918.644710</td>\n",
       "      <td>2.331508e+13</td>\n",
       "      <td>133590.146976</td>\n",
       "      <td>...</td>\n",
       "      <td>319.780000</td>\n",
       "      <td>105.820000</td>\n",
       "      <td>105.820000</td>\n",
       "      <td>117113.000000</td>\n",
       "      <td>1.155668e+06</td>\n",
       "      <td>58.000000</td>\n",
       "      <td>1.448471e+09</td>\n",
       "      <td>282.000000</td>\n",
       "      <td>1.000000</td>\n",
       "      <td>652.641143</td>\n",
       "    </tr>\n",
       "  </tbody>\n",
       "</table>\n",
       "<p>8 rows × 28 columns</p>\n",
       "</div>"
      ],
      "text/plain": [
       "         Latitude   Longitude    HDI rank  Human Development Index 2021 (HDI)  \\\n",
       "count  149.000000  149.000000  149.000000                          149.000000   \n",
       "mean    20.568903   18.110738   89.590604                            0.737940   \n",
       "std     24.937936   65.261616   55.154576                            0.148244   \n",
       "min    -41.000000 -175.000000    1.000000                            0.400000   \n",
       "25%      4.500000   -8.000000   40.000000                            0.627000   \n",
       "50%     20.000000   20.000000   89.000000                            0.751000   \n",
       "75%     41.000000   45.000000  135.000000                            0.858000   \n",
       "max     65.000000  175.000000  189.000000                            0.962000   \n",
       "\n",
       "       Life expectancy at birth  Expected years of schooling  \\\n",
       "count                149.000000                   149.000000   \n",
       "mean                  72.099044                    13.872340   \n",
       "std                    7.600011                     2.858387   \n",
       "min                   52.676000                     6.957112   \n",
       "25%                   67.239800                    12.087473   \n",
       "50%                   72.614600                    13.951780   \n",
       "75%                   77.198200                    15.928960   \n",
       "max                   85.473400                    21.054590   \n",
       "\n",
       "       Mean years of schooling  Gross national income (GNI) per capita  \\\n",
       "count               149.000000                              149.000000   \n",
       "mean                  9.282668                            21483.297314   \n",
       "std                   3.145162                            20484.572503   \n",
       "min                   2.114962                              731.786709   \n",
       "25%                   7.088480                             5472.104781   \n",
       "50%                   9.827750                            13157.993900   \n",
       "75%                  11.895590                            32803.234230   \n",
       "max                  14.090967                            90918.644710   \n",
       "\n",
       "       GDP 2021 (US$)  GDP per capita 2021 (US$)  ...  \\\n",
       "count    1.490000e+02                 149.000000  ...   \n",
       "mean     6.267643e+11               17043.642330  ...   \n",
       "std      2.471488e+12               23472.569989  ...   \n",
       "min      4.692313e+08                 221.477676  ...   \n",
       "25%      1.609182e+10                2535.623432  ...   \n",
       "50%      6.360510e+10                6104.136709  ...   \n",
       "75%      3.661376e+11               21391.925334  ...   \n",
       "max      2.331508e+13              133590.146976  ...   \n",
       "\n",
       "       total_vaccinations_per_hundred  people_vaccinated_per_hundred  \\\n",
       "count                      149.000000                     149.000000   \n",
       "mean                       147.465973                      61.090268   \n",
       "std                         79.618981                      23.674900   \n",
       "min                          0.280000                       0.260000   \n",
       "25%                         77.450000                      42.720000   \n",
       "50%                        147.860000                      65.550000   \n",
       "75%                        213.920000                      80.610000   \n",
       "max                        319.780000                     105.820000   \n",
       "\n",
       "       people_fully_vaccinated_per_hundred  daily_vaccinations_per_million  \\\n",
       "count                           149.000000                      149.000000   \n",
       "mean                             56.137584                    12556.147651   \n",
       "std                              24.003123                    11346.083328   \n",
       "min                               0.260000                       32.000000   \n",
       "25%                              37.800000                     7465.000000   \n",
       "50%                              62.310000                    11268.000000   \n",
       "75%                              75.190000                    15163.000000   \n",
       "max                             105.820000                   117113.000000   \n",
       "\n",
       "        TotalDeaths  NewDeaths    Population  New Cases/1M pop  \\\n",
       "count  1.490000e+02  18.000000  1.490000e+02         31.000000   \n",
       "mean   4.424775e+04  10.222222  4.966243e+07         50.808065   \n",
       "std    1.286413e+05  14.901858  1.698311e+08         65.684372   \n",
       "min    1.300000e+01   1.000000  1.077490e+05          0.050000   \n",
       "25%    1.298000e+03   1.250000  3.249317e+06          3.000000   \n",
       "50%    7.100000e+03   4.500000  1.021897e+07         22.000000   \n",
       "75%    2.537500e+04  11.750000  3.502734e+07         78.500000   \n",
       "max    1.155668e+06  58.000000  1.448471e+09        282.000000   \n",
       "\n",
       "       New Deaths/1M pop  covid_mortality_rate (per 100000)  \n",
       "count          18.000000                         149.000000  \n",
       "mean            0.331667                         140.651667  \n",
       "std             0.317143                         140.407090  \n",
       "min             0.010000                           0.300994  \n",
       "25%             0.100000                          17.799897  \n",
       "50%             0.200000                          98.920361  \n",
       "75%             0.475000                         224.750550  \n",
       "max             1.000000                         652.641143  \n",
       "\n",
       "[8 rows x 28 columns]"
      ]
     },
     "execution_count": 94,
     "metadata": {},
     "output_type": "execute_result"
    }
   ],
   "source": [
    "covidvisual.describe()"
   ]
  },
  {
   "cell_type": "code",
   "execution_count": 95,
   "id": "46a07077",
   "metadata": {},
   "outputs": [
    {
     "data": {
      "image/png": "[encoded data removed]",
      "text/plain": [
       "<Figure size 432x288 with 1 Axes>"
      ]
     },
     "metadata": {
      "needs_background": "light"
     },
     "output_type": "display_data"
    }
   ],
   "source": [
    "covidvisual['covid_mortality_rate (per 100000)'].hist(grid=False, bins=50);"
   ]
  },
  {
   "cell_type": "code",
   "execution_count": 96,
   "id": "843456c6",
   "metadata": {},
   "outputs": [
    {
     "data": {
      "image/png": "[encoded data removed]",
      "text/plain": [
       "<Figure size 432x288 with 1 Axes>"
      ]
     },
     "metadata": {
      "needs_background": "light"
     },
     "output_type": "display_data"
    }
   ],
   "source": [
    "sns.histplot(data=covidvisual, x = 'covid_mortality_rate (per 100000)', hue='IncomeGroup');"
   ]
  },
  {
   "cell_type": "code",
   "execution_count": 97,
   "id": "76956649",
   "metadata": {},
   "outputs": [
    {
     "data": {
      "image/png": "[encoded data removed]",
      "text/plain": [
       "<Figure size 432x288 with 1 Axes>"
      ]
     },
     "metadata": {
      "needs_background": "light"
     },
     "output_type": "display_data"
    }
   ],
   "source": [
    "sns.kdeplot(data=covidvisual,x='covid_mortality_rate (per 100000)', hue='IncomeGroup');"
   ]
  },
  {
   "cell_type": "code",
   "execution_count": 98,
   "id": "5d7170bd",
   "metadata": {},
   "outputs": [
    {
     "data": {
      "text/html": [
       "<div>\n",
       "<style scoped>\n",
       "    .dataframe tbody tr th:only-of-type {\n",
       "        vertical-align: middle;\n",
       "    }\n",
       "\n",
       "    .dataframe tbody tr th {\n",
       "        vertical-align: top;\n",
       "    }\n",
       "\n",
       "    .dataframe thead th {\n",
       "        text-align: right;\n",
       "    }\n",
       "</style>\n",
       "<table border=\"1\" class=\"dataframe\">\n",
       "  <thead>\n",
       "    <tr style=\"text-align: right;\">\n",
       "      <th>IncomeGroup</th>\n",
       "      <th>High income</th>\n",
       "      <th>Low income</th>\n",
       "      <th>Lower middle income</th>\n",
       "      <th>Upper middle income</th>\n",
       "      <th>All</th>\n",
       "    </tr>\n",
       "    <tr>\n",
       "      <th>Continent</th>\n",
       "      <th></th>\n",
       "      <th></th>\n",
       "      <th></th>\n",
       "      <th></th>\n",
       "      <th></th>\n",
       "    </tr>\n",
       "  </thead>\n",
       "  <tbody>\n",
       "    <tr>\n",
       "      <th>Africa</th>\n",
       "      <td>0</td>\n",
       "      <td>16</td>\n",
       "      <td>17</td>\n",
       "      <td>4</td>\n",
       "      <td>37</td>\n",
       "    </tr>\n",
       "    <tr>\n",
       "      <th>Asia</th>\n",
       "      <td>11</td>\n",
       "      <td>0</td>\n",
       "      <td>17</td>\n",
       "      <td>10</td>\n",
       "      <td>38</td>\n",
       "    </tr>\n",
       "    <tr>\n",
       "      <th>Australia/Oceania</th>\n",
       "      <td>2</td>\n",
       "      <td>0</td>\n",
       "      <td>4</td>\n",
       "      <td>2</td>\n",
       "      <td>8</td>\n",
       "    </tr>\n",
       "    <tr>\n",
       "      <th>Europe</th>\n",
       "      <td>29</td>\n",
       "      <td>0</td>\n",
       "      <td>1</td>\n",
       "      <td>9</td>\n",
       "      <td>39</td>\n",
       "    </tr>\n",
       "    <tr>\n",
       "      <th>North America</th>\n",
       "      <td>5</td>\n",
       "      <td>0</td>\n",
       "      <td>4</td>\n",
       "      <td>8</td>\n",
       "      <td>17</td>\n",
       "    </tr>\n",
       "    <tr>\n",
       "      <th>South America</th>\n",
       "      <td>2</td>\n",
       "      <td>0</td>\n",
       "      <td>1</td>\n",
       "      <td>7</td>\n",
       "      <td>10</td>\n",
       "    </tr>\n",
       "    <tr>\n",
       "      <th>All</th>\n",
       "      <td>49</td>\n",
       "      <td>16</td>\n",
       "      <td>44</td>\n",
       "      <td>40</td>\n",
       "      <td>149</td>\n",
       "    </tr>\n",
       "  </tbody>\n",
       "</table>\n",
       "</div>"
      ],
      "text/plain": [
       "IncomeGroup        High income  Low income  Lower middle income  \\\n",
       "Continent                                                         \n",
       "Africa                       0          16                   17   \n",
       "Asia                        11           0                   17   \n",
       "Australia/Oceania            2           0                    4   \n",
       "Europe                      29           0                    1   \n",
       "North America                5           0                    4   \n",
       "South America                2           0                    1   \n",
       "All                         49          16                   44   \n",
       "\n",
       "IncomeGroup        Upper middle income  All  \n",
       "Continent                                    \n",
       "Africa                               4   37  \n",
       "Asia                                10   38  \n",
       "Australia/Oceania                    2    8  \n",
       "Europe                               9   39  \n",
       "North America                        8   17  \n",
       "South America                        7   10  \n",
       "All                                 40  149  "
      ]
     },
     "execution_count": 98,
     "metadata": {},
     "output_type": "execute_result"
    }
   ],
   "source": [
    "pd.crosstab(covidvisual['Continent'], covidvisual['IncomeGroup'], margins=True)"
   ]
  },
  {
   "cell_type": "code",
   "execution_count": 99,
   "id": "72b01f9a",
   "metadata": {},
   "outputs": [
    {
     "data": {
      "text/html": [
       "<div>\n",
       "<style scoped>\n",
       "    .dataframe tbody tr th:only-of-type {\n",
       "        vertical-align: middle;\n",
       "    }\n",
       "\n",
       "    .dataframe tbody tr th {\n",
       "        vertical-align: top;\n",
       "    }\n",
       "\n",
       "    .dataframe thead th {\n",
       "        text-align: right;\n",
       "    }\n",
       "</style>\n",
       "<table border=\"1\" class=\"dataframe\">\n",
       "  <thead>\n",
       "    <tr style=\"text-align: right;\">\n",
       "      <th>IncomeGroup</th>\n",
       "      <th>High income</th>\n",
       "      <th>Low income</th>\n",
       "      <th>Lower middle income</th>\n",
       "      <th>Upper middle income</th>\n",
       "    </tr>\n",
       "    <tr>\n",
       "      <th>Continent</th>\n",
       "      <th></th>\n",
       "      <th></th>\n",
       "      <th></th>\n",
       "      <th></th>\n",
       "    </tr>\n",
       "  </thead>\n",
       "  <tbody>\n",
       "    <tr>\n",
       "      <th>Africa</th>\n",
       "      <td>0.000000</td>\n",
       "      <td>0.432432</td>\n",
       "      <td>0.459459</td>\n",
       "      <td>0.108108</td>\n",
       "    </tr>\n",
       "    <tr>\n",
       "      <th>Asia</th>\n",
       "      <td>0.289474</td>\n",
       "      <td>0.000000</td>\n",
       "      <td>0.447368</td>\n",
       "      <td>0.263158</td>\n",
       "    </tr>\n",
       "    <tr>\n",
       "      <th>Australia/Oceania</th>\n",
       "      <td>0.250000</td>\n",
       "      <td>0.000000</td>\n",
       "      <td>0.500000</td>\n",
       "      <td>0.250000</td>\n",
       "    </tr>\n",
       "    <tr>\n",
       "      <th>Europe</th>\n",
       "      <td>0.743590</td>\n",
       "      <td>0.000000</td>\n",
       "      <td>0.025641</td>\n",
       "      <td>0.230769</td>\n",
       "    </tr>\n",
       "    <tr>\n",
       "      <th>North America</th>\n",
       "      <td>0.294118</td>\n",
       "      <td>0.000000</td>\n",
       "      <td>0.235294</td>\n",
       "      <td>0.470588</td>\n",
       "    </tr>\n",
       "    <tr>\n",
       "      <th>South America</th>\n",
       "      <td>0.200000</td>\n",
       "      <td>0.000000</td>\n",
       "      <td>0.100000</td>\n",
       "      <td>0.700000</td>\n",
       "    </tr>\n",
       "  </tbody>\n",
       "</table>\n",
       "</div>"
      ],
      "text/plain": [
       "IncomeGroup        High income  Low income  Lower middle income  \\\n",
       "Continent                                                         \n",
       "Africa                0.000000    0.432432             0.459459   \n",
       "Asia                  0.289474    0.000000             0.447368   \n",
       "Australia/Oceania     0.250000    0.000000             0.500000   \n",
       "Europe                0.743590    0.000000             0.025641   \n",
       "North America         0.294118    0.000000             0.235294   \n",
       "South America         0.200000    0.000000             0.100000   \n",
       "\n",
       "IncomeGroup        Upper middle income  \n",
       "Continent                               \n",
       "Africa                        0.108108  \n",
       "Asia                          0.263158  \n",
       "Australia/Oceania             0.250000  \n",
       "Europe                        0.230769  \n",
       "North America                 0.470588  \n",
       "South America                 0.700000  "
      ]
     },
     "execution_count": 99,
     "metadata": {},
     "output_type": "execute_result"
    }
   ],
   "source": [
    "pd.crosstab(covidvisual['Continent'], covidvisual['IncomeGroup'], normalize='index')"
   ]
  },
  {
   "cell_type": "code",
   "execution_count": 100,
   "id": "b89004b4",
   "metadata": {},
   "outputs": [
    {
     "data": {
      "image/png": "[encoded data removed]",
      "text/plain": [
       "<Figure size 432x288 with 2 Axes>"
      ]
     },
     "metadata": {
      "needs_background": "light"
     },
     "output_type": "display_data"
    }
   ],
   "source": [
    "sns.heatmap(pd.crosstab(covidvisual['Continent'], covidvisual['IncomeGroup']), annot=True, fmt='.5g', cmap='viridis');"
   ]
  },
  {
   "cell_type": "code",
   "execution_count": 101,
   "id": "cb2d4913",
   "metadata": {},
   "outputs": [],
   "source": [
    "covidvisual = covidvisual.dropna(subset=['daily_vaccinations_per_million','covid_mortality_rate (per 100000)'])"
   ]
  },
  {
   "cell_type": "code",
   "execution_count": 102,
   "id": "d20818ee",
   "metadata": {},
   "outputs": [],
   "source": [
    "incomegroupdummies = pd.get_dummies(covidvisual['IncomeGroup'], prefix='IncomeGroup')"
   ]
  },
  {
   "cell_type": "code",
   "execution_count": 103,
   "id": "c86c83c4",
   "metadata": {},
   "outputs": [
    {
     "data": {
      "text/html": [
       "<div>\n",
       "<style scoped>\n",
       "    .dataframe tbody tr th:only-of-type {\n",
       "        vertical-align: middle;\n",
       "    }\n",
       "\n",
       "    .dataframe tbody tr th {\n",
       "        vertical-align: top;\n",
       "    }\n",
       "\n",
       "    .dataframe thead th {\n",
       "        text-align: right;\n",
       "    }\n",
       "</style>\n",
       "<table border=\"1\" class=\"dataframe\">\n",
       "  <thead>\n",
       "    <tr style=\"text-align: right;\">\n",
       "      <th></th>\n",
       "      <th>IncomeGroup_High income</th>\n",
       "      <th>IncomeGroup_Low income</th>\n",
       "      <th>IncomeGroup_Lower middle income</th>\n",
       "      <th>IncomeGroup_Upper middle income</th>\n",
       "    </tr>\n",
       "  </thead>\n",
       "  <tbody>\n",
       "    <tr>\n",
       "      <th>0</th>\n",
       "      <td>0</td>\n",
       "      <td>0</td>\n",
       "      <td>0</td>\n",
       "      <td>1</td>\n",
       "    </tr>\n",
       "    <tr>\n",
       "      <th>1</th>\n",
       "      <td>0</td>\n",
       "      <td>0</td>\n",
       "      <td>1</td>\n",
       "      <td>0</td>\n",
       "    </tr>\n",
       "    <tr>\n",
       "      <th>2</th>\n",
       "      <td>0</td>\n",
       "      <td>0</td>\n",
       "      <td>1</td>\n",
       "      <td>0</td>\n",
       "    </tr>\n",
       "    <tr>\n",
       "      <th>3</th>\n",
       "      <td>0</td>\n",
       "      <td>0</td>\n",
       "      <td>0</td>\n",
       "      <td>1</td>\n",
       "    </tr>\n",
       "    <tr>\n",
       "      <th>4</th>\n",
       "      <td>1</td>\n",
       "      <td>0</td>\n",
       "      <td>0</td>\n",
       "      <td>0</td>\n",
       "    </tr>\n",
       "    <tr>\n",
       "      <th>...</th>\n",
       "      <td>...</td>\n",
       "      <td>...</td>\n",
       "      <td>...</td>\n",
       "      <td>...</td>\n",
       "    </tr>\n",
       "    <tr>\n",
       "      <th>144</th>\n",
       "      <td>0</td>\n",
       "      <td>0</td>\n",
       "      <td>1</td>\n",
       "      <td>0</td>\n",
       "    </tr>\n",
       "    <tr>\n",
       "      <th>145</th>\n",
       "      <td>0</td>\n",
       "      <td>0</td>\n",
       "      <td>1</td>\n",
       "      <td>0</td>\n",
       "    </tr>\n",
       "    <tr>\n",
       "      <th>146</th>\n",
       "      <td>0</td>\n",
       "      <td>0</td>\n",
       "      <td>1</td>\n",
       "      <td>0</td>\n",
       "    </tr>\n",
       "    <tr>\n",
       "      <th>147</th>\n",
       "      <td>0</td>\n",
       "      <td>1</td>\n",
       "      <td>0</td>\n",
       "      <td>0</td>\n",
       "    </tr>\n",
       "    <tr>\n",
       "      <th>148</th>\n",
       "      <td>0</td>\n",
       "      <td>0</td>\n",
       "      <td>1</td>\n",
       "      <td>0</td>\n",
       "    </tr>\n",
       "  </tbody>\n",
       "</table>\n",
       "<p>149 rows × 4 columns</p>\n",
       "</div>"
      ],
      "text/plain": [
       "     IncomeGroup_High income  IncomeGroup_Low income  \\\n",
       "0                          0                       0   \n",
       "1                          0                       0   \n",
       "2                          0                       0   \n",
       "3                          0                       0   \n",
       "4                          1                       0   \n",
       "..                       ...                     ...   \n",
       "144                        0                       0   \n",
       "145                        0                       0   \n",
       "146                        0                       0   \n",
       "147                        0                       1   \n",
       "148                        0                       0   \n",
       "\n",
       "     IncomeGroup_Lower middle income  IncomeGroup_Upper middle income  \n",
       "0                                  0                                1  \n",
       "1                                  1                                0  \n",
       "2                                  1                                0  \n",
       "3                                  0                                1  \n",
       "4                                  0                                0  \n",
       "..                               ...                              ...  \n",
       "144                                1                                0  \n",
       "145                                1                                0  \n",
       "146                                1                                0  \n",
       "147                                0                                0  \n",
       "148                                1                                0  \n",
       "\n",
       "[149 rows x 4 columns]"
      ]
     },
     "execution_count": 103,
     "metadata": {},
     "output_type": "execute_result"
    }
   ],
   "source": [
    "incomegroupdummies "
   ]
  },
  {
   "cell_type": "code",
   "execution_count": 104,
   "id": "6cd9bb6a",
   "metadata": {},
   "outputs": [
    {
     "data": {
      "text/plain": [
       "(149, 43)"
      ]
     },
     "execution_count": 104,
     "metadata": {},
     "output_type": "execute_result"
    }
   ],
   "source": [
    "covidvisual.shape"
   ]
  },
  {
   "cell_type": "code",
   "execution_count": 105,
   "id": "780f7c33",
   "metadata": {},
   "outputs": [
    {
     "data": {
      "text/plain": [
       "Country                                     0\n",
       "Country Code                                0\n",
       "Latitude                                    0\n",
       "Longitude                                   0\n",
       "HDI rank                                    0\n",
       "Human Development Index 2021 (HDI)          0\n",
       "Life expectancy at birth                    0\n",
       "Expected years of schooling                 0\n",
       "Mean years of schooling                     0\n",
       "Gross national income (GNI) per capita      0\n",
       "GDP 2021 (US$)                              0\n",
       "GDP per capita 2021 (US$)                   0\n",
       "GDP growth 2021 (annual %)                  0\n",
       "Inflation Rate 2021 (%)                     0\n",
       "Unemployment Rate 2021 (%)                  0\n",
       "Region                                      0\n",
       "IncomeGroup                                 0\n",
       "total_vaccinations                          0\n",
       "date                                        0\n",
       "people_vaccinated                           0\n",
       "people_fully_vaccinated                     0\n",
       "daily_vaccinations_raw                     21\n",
       "daily_vaccinations                          0\n",
       "total_vaccinations_per_hundred              0\n",
       "people_vaccinated_per_hundred               0\n",
       "people_fully_vaccinated_per_hundred         0\n",
       "daily_vaccinations_per_million              0\n",
       "Country,Other                               0\n",
       "TotalCases                                  0\n",
       "NewCases                                  118\n",
       "TotalDeaths                                 0\n",
       "NewDeaths                                 131\n",
       "TotalRecovered                             10\n",
       "NewRecovered                              117\n",
       "ActiveCases                                10\n",
       "Serious,Critical                           55\n",
       "TotalTests                                  3\n",
       "Population                                  0\n",
       "Continent                                   0\n",
       "New Cases/1M pop                          118\n",
       "New Deaths/1M pop                         131\n",
       "Active Cases/1M pop                         0\n",
       "covid_mortality_rate (per 100000)           0\n",
       "dtype: int64"
      ]
     },
     "execution_count": 105,
     "metadata": {},
     "output_type": "execute_result"
    }
   ],
   "source": [
    "covidvisual.isna().sum()"
   ]
  },
  {
   "cell_type": "code",
   "execution_count": 106,
   "id": "b6d6cae0",
   "metadata": {},
   "outputs": [
    {
     "data": {
      "text/html": [
       "<div>\n",
       "<style scoped>\n",
       "    .dataframe tbody tr th:only-of-type {\n",
       "        vertical-align: middle;\n",
       "    }\n",
       "\n",
       "    .dataframe tbody tr th {\n",
       "        vertical-align: top;\n",
       "    }\n",
       "\n",
       "    .dataframe thead th {\n",
       "        text-align: right;\n",
       "    }\n",
       "</style>\n",
       "<table border=\"1\" class=\"dataframe\">\n",
       "  <thead>\n",
       "    <tr style=\"text-align: right;\">\n",
       "      <th></th>\n",
       "      <th>Country</th>\n",
       "      <th>Country Code</th>\n",
       "      <th>Latitude</th>\n",
       "      <th>Longitude</th>\n",
       "      <th>HDI rank</th>\n",
       "      <th>Human Development Index 2021 (HDI)</th>\n",
       "      <th>Life expectancy at birth</th>\n",
       "      <th>Expected years of schooling</th>\n",
       "      <th>Mean years of schooling</th>\n",
       "      <th>Gross national income (GNI) per capita</th>\n",
       "      <th>...</th>\n",
       "      <th>NewRecovered</th>\n",
       "      <th>ActiveCases</th>\n",
       "      <th>Serious,Critical</th>\n",
       "      <th>TotalTests</th>\n",
       "      <th>Population</th>\n",
       "      <th>Continent</th>\n",
       "      <th>New Cases/1M pop</th>\n",
       "      <th>New Deaths/1M pop</th>\n",
       "      <th>Active Cases/1M pop</th>\n",
       "      <th>covid_mortality_rate (per 100000)</th>\n",
       "    </tr>\n",
       "  </thead>\n",
       "  <tbody>\n",
       "    <tr>\n",
       "      <th>0</th>\n",
       "      <td>Albania</td>\n",
       "      <td>ALB</td>\n",
       "      <td>41.0</td>\n",
       "      <td>20.0</td>\n",
       "      <td>67</td>\n",
       "      <td>0.796</td>\n",
       "      <td>76.4626</td>\n",
       "      <td>14.448000</td>\n",
       "      <td>11.286455</td>\n",
       "      <td>14131.110390</td>\n",
       "      <td>...</td>\n",
       "      <td>NaN</td>\n",
       "      <td>1,709</td>\n",
       "      <td>NaN</td>\n",
       "      <td>1,941,032</td>\n",
       "      <td>2866374</td>\n",
       "      <td>Europe</td>\n",
       "      <td>NaN</td>\n",
       "      <td>NaN</td>\n",
       "      <td>596</td>\n",
       "      <td>125.663992</td>\n",
       "    </tr>\n",
       "    <tr>\n",
       "      <th>1</th>\n",
       "      <td>Algeria</td>\n",
       "      <td>DZA</td>\n",
       "      <td>28.0</td>\n",
       "      <td>3.0</td>\n",
       "      <td>91</td>\n",
       "      <td>0.745</td>\n",
       "      <td>76.3767</td>\n",
       "      <td>14.626896</td>\n",
       "      <td>8.069284</td>\n",
       "      <td>10800.225460</td>\n",
       "      <td>...</td>\n",
       "      <td>NaN</td>\n",
       "      <td>81,825</td>\n",
       "      <td>NaN</td>\n",
       "      <td>230,861</td>\n",
       "      <td>45350148</td>\n",
       "      <td>Africa</td>\n",
       "      <td>0.1</td>\n",
       "      <td>NaN</td>\n",
       "      <td>1,804</td>\n",
       "      <td>15.173049</td>\n",
       "    </tr>\n",
       "    <tr>\n",
       "      <th>2</th>\n",
       "      <td>Angola</td>\n",
       "      <td>AGO</td>\n",
       "      <td>-12.5</td>\n",
       "      <td>18.5</td>\n",
       "      <td>148</td>\n",
       "      <td>0.586</td>\n",
       "      <td>61.6434</td>\n",
       "      <td>12.172100</td>\n",
       "      <td>5.417391</td>\n",
       "      <td>5465.617791</td>\n",
       "      <td>...</td>\n",
       "      <td>NaN</td>\n",
       "      <td>41</td>\n",
       "      <td>NaN</td>\n",
       "      <td>1,499,795</td>\n",
       "      <td>35027343</td>\n",
       "      <td>Africa</td>\n",
       "      <td>NaN</td>\n",
       "      <td>NaN</td>\n",
       "      <td>1</td>\n",
       "      <td>5.518546</td>\n",
       "    </tr>\n",
       "  </tbody>\n",
       "</table>\n",
       "<p>3 rows × 43 columns</p>\n",
       "</div>"
      ],
      "text/plain": [
       "   Country Country Code  Latitude  Longitude  HDI rank  \\\n",
       "0  Albania          ALB      41.0       20.0        67   \n",
       "1  Algeria          DZA      28.0        3.0        91   \n",
       "2   Angola          AGO     -12.5       18.5       148   \n",
       "\n",
       "   Human Development Index 2021 (HDI)  Life expectancy at birth  \\\n",
       "0                               0.796                   76.4626   \n",
       "1                               0.745                   76.3767   \n",
       "2                               0.586                   61.6434   \n",
       "\n",
       "   Expected years of schooling  Mean years of schooling  \\\n",
       "0                    14.448000                11.286455   \n",
       "1                    14.626896                 8.069284   \n",
       "2                    12.172100                 5.417391   \n",
       "\n",
       "   Gross national income (GNI) per capita  ...  NewRecovered  ActiveCases  \\\n",
       "0                            14131.110390  ...           NaN        1,709   \n",
       "1                            10800.225460  ...           NaN       81,825   \n",
       "2                             5465.617791  ...           NaN           41   \n",
       "\n",
       "   Serious,Critical  TotalTests  Population Continent New Cases/1M pop  \\\n",
       "0               NaN   1,941,032     2866374    Europe              NaN   \n",
       "1               NaN     230,861    45350148    Africa              0.1   \n",
       "2               NaN   1,499,795    35027343    Africa              NaN   \n",
       "\n",
       "   New Deaths/1M pop Active Cases/1M pop  covid_mortality_rate (per 100000)  \n",
       "0                NaN                 596                         125.663992  \n",
       "1                NaN               1,804                          15.173049  \n",
       "2                NaN                   1                           5.518546  \n",
       "\n",
       "[3 rows x 43 columns]"
      ]
     },
     "execution_count": 106,
     "metadata": {},
     "output_type": "execute_result"
    }
   ],
   "source": [
    "covidvisual.head(3)"
   ]
  },
  {
   "cell_type": "code",
   "execution_count": 107,
   "id": "bcee9e4c",
   "metadata": {},
   "outputs": [],
   "source": [
    "from sklearn.model_selection import train_test_split"
   ]
  },
  {
   "cell_type": "code",
   "execution_count": 108,
   "id": "b913355f",
   "metadata": {},
   "outputs": [],
   "source": [
    "x = covidvisual[['total_vaccinations_per_hundred',\n",
    "            'daily_vaccinations_per_million',\n",
    "             'covid_mortality_rate (per 100000)',\n",
    "            'Human Development Index 2021 (HDI)','GDP per capita 2021 (US$)']]\n",
    "y = incomegroupdummies['IncomeGroup_High income']"
   ]
  },
  {
   "cell_type": "code",
   "execution_count": 109,
   "id": "39f07eb9",
   "metadata": {},
   "outputs": [
    {
     "data": {
      "text/html": [
       "<div>\n",
       "<style scoped>\n",
       "    .dataframe tbody tr th:only-of-type {\n",
       "        vertical-align: middle;\n",
       "    }\n",
       "\n",
       "    .dataframe tbody tr th {\n",
       "        vertical-align: top;\n",
       "    }\n",
       "\n",
       "    .dataframe thead th {\n",
       "        text-align: right;\n",
       "    }\n",
       "</style>\n",
       "<table border=\"1\" class=\"dataframe\">\n",
       "  <thead>\n",
       "    <tr style=\"text-align: right;\">\n",
       "      <th></th>\n",
       "      <th>total_vaccinations_per_hundred</th>\n",
       "      <th>daily_vaccinations_per_million</th>\n",
       "      <th>covid_mortality_rate (per 100000)</th>\n",
       "      <th>Human Development Index 2021 (HDI)</th>\n",
       "      <th>GDP per capita 2021 (US$)</th>\n",
       "    </tr>\n",
       "  </thead>\n",
       "  <tbody>\n",
       "    <tr>\n",
       "      <th>0</th>\n",
       "      <td>108.03</td>\n",
       "      <td>6180</td>\n",
       "      <td>125.663992</td>\n",
       "      <td>0.796</td>\n",
       "      <td>6492.872012</td>\n",
       "    </tr>\n",
       "    <tr>\n",
       "      <th>1</th>\n",
       "      <td>34.00</td>\n",
       "      <td>5722</td>\n",
       "      <td>15.173049</td>\n",
       "      <td>0.745</td>\n",
       "      <td>3690.627878</td>\n",
       "    </tr>\n",
       "    <tr>\n",
       "      <th>2</th>\n",
       "      <td>69.88</td>\n",
       "      <td>5147</td>\n",
       "      <td>5.518546</td>\n",
       "      <td>0.586</td>\n",
       "      <td>1953.533757</td>\n",
       "    </tr>\n",
       "  </tbody>\n",
       "</table>\n",
       "</div>"
      ],
      "text/plain": [
       "   total_vaccinations_per_hundred  daily_vaccinations_per_million  \\\n",
       "0                          108.03                            6180   \n",
       "1                           34.00                            5722   \n",
       "2                           69.88                            5147   \n",
       "\n",
       "   covid_mortality_rate (per 100000)  Human Development Index 2021 (HDI)  \\\n",
       "0                         125.663992                               0.796   \n",
       "1                          15.173049                               0.745   \n",
       "2                           5.518546                               0.586   \n",
       "\n",
       "   GDP per capita 2021 (US$)  \n",
       "0                6492.872012  \n",
       "1                3690.627878  \n",
       "2                1953.533757  "
      ]
     },
     "execution_count": 109,
     "metadata": {},
     "output_type": "execute_result"
    }
   ],
   "source": [
    "x.head(3)"
   ]
  },
  {
   "cell_type": "code",
   "execution_count": 110,
   "id": "63dc3e12",
   "metadata": {},
   "outputs": [
    {
     "data": {
      "text/plain": [
       "total_vaccinations_per_hundred        0\n",
       "daily_vaccinations_per_million        0\n",
       "covid_mortality_rate (per 100000)     0\n",
       "Human Development Index 2021 (HDI)    0\n",
       "GDP per capita 2021 (US$)             0\n",
       "dtype: int64"
      ]
     },
     "execution_count": 110,
     "metadata": {},
     "output_type": "execute_result"
    }
   ],
   "source": [
    "x.isna().sum()"
   ]
  },
  {
   "cell_type": "code",
   "execution_count": 111,
   "id": "313a4a32",
   "metadata": {},
   "outputs": [
    {
     "data": {
      "text/plain": [
       "0    0\n",
       "1    0\n",
       "2    0\n",
       "3    0\n",
       "4    1\n",
       "5    1\n",
       "6    0\n",
       "7    1\n",
       "8    1\n",
       "9    0\n",
       "Name: IncomeGroup_High income, dtype: uint8"
      ]
     },
     "execution_count": 111,
     "metadata": {},
     "output_type": "execute_result"
    }
   ],
   "source": [
    "y.head(10) #1 it's in the high income group, 0 it's not in the high income group"
   ]
  },
  {
   "cell_type": "code",
   "execution_count": 112,
   "id": "0c28ca0b",
   "metadata": {},
   "outputs": [],
   "source": [
    "x_train, x_test, y_train, y_test = train_test_split(x, y, random_state=8) #by default from the library train is 75% test is 25%"
   ]
  },
  {
   "cell_type": "code",
   "execution_count": 113,
   "id": "fa858835",
   "metadata": {},
   "outputs": [
    {
     "data": {
      "text/plain": [
       "((111, 5), (38, 5))"
      ]
     },
     "execution_count": 113,
     "metadata": {},
     "output_type": "execute_result"
    }
   ],
   "source": [
    "x_train.shape, x_test.shape"
   ]
  },
  {
   "cell_type": "code",
   "execution_count": 114,
   "id": "e001f824",
   "metadata": {},
   "outputs": [],
   "source": [
    "from sklearn.linear_model import LogisticRegression"
   ]
  },
  {
   "cell_type": "code",
   "execution_count": 115,
   "id": "ce0982d6",
   "metadata": {},
   "outputs": [],
   "source": [
    "lr = LogisticRegression(solver='liblinear')"
   ]
  },
  {
   "cell_type": "code",
   "execution_count": 116,
   "id": "12fd0c44",
   "metadata": {},
   "outputs": [
    {
     "data": {
      "text/html": [
       "<style>#sk-container-id-3 {color: black;background-color: white;}#sk-container-id-3 pre{padding: 0;}#sk-container-id-3 div.sk-toggleable {background-color: white;}#sk-container-id-3 label.sk-toggleable__label {cursor: pointer;display: block;width: 100%;margin-bottom: 0;padding: 0.3em;box-sizing: border-box;text-align: center;}#sk-container-id-3 label.sk-toggleable__label-arrow:before {content: \"▸\";float: left;margin-right: 0.25em;color: #696969;}#sk-container-id-3 label.sk-toggleable__label-arrow:hover:before {color: black;}#sk-container-id-3 div.sk-estimator:hover label.sk-toggleable__label-arrow:before {color: black;}#sk-container-id-3 div.sk-toggleable__content {max-height: 0;max-width: 0;overflow: hidden;text-align: left;background-color: #f0f8ff;}#sk-container-id-3 div.sk-toggleable__content pre {margin: 0.2em;color: black;border-radius: 0.25em;background-color: #f0f8ff;}#sk-container-id-3 input.sk-toggleable__control:checked~div.sk-toggleable__content {max-height: 200px;max-width: 100%;overflow: auto;}#sk-container-id-3 input.sk-toggleable__control:checked~label.sk-toggleable__label-arrow:before {content: \"▾\";}#sk-container-id-3 div.sk-estimator input.sk-toggleable__control:checked~label.sk-toggleable__label {background-color: #d4ebff;}#sk-container-id-3 div.sk-label input.sk-toggleable__control:checked~label.sk-toggleable__label {background-color: #d4ebff;}#sk-container-id-3 input.sk-hidden--visually {border: 0;clip: rect(1px 1px 1px 1px);clip: rect(1px, 1px, 1px, 1px);height: 1px;margin: -1px;overflow: hidden;padding: 0;position: absolute;width: 1px;}#sk-container-id-3 div.sk-estimator {font-family: monospace;background-color: #f0f8ff;border: 1px dotted black;border-radius: 0.25em;box-sizing: border-box;margin-bottom: 0.5em;}#sk-container-id-3 div.sk-estimator:hover {background-color: #d4ebff;}#sk-container-id-3 div.sk-parallel-item::after {content: \"\";width: 100%;border-bottom: 1px solid gray;flex-grow: 1;}#sk-container-id-3 div.sk-label:hover label.sk-toggleable__label {background-color: #d4ebff;}#sk-container-id-3 div.sk-serial::before {content: \"\";position: absolute;border-left: 1px solid gray;box-sizing: border-box;top: 0;bottom: 0;left: 50%;z-index: 0;}#sk-container-id-3 div.sk-serial {display: flex;flex-direction: column;align-items: center;background-color: white;padding-right: 0.2em;padding-left: 0.2em;position: relative;}#sk-container-id-3 div.sk-item {position: relative;z-index: 1;}#sk-container-id-3 div.sk-parallel {display: flex;align-items: stretch;justify-content: center;background-color: white;position: relative;}#sk-container-id-3 div.sk-item::before, #sk-container-id-3 div.sk-parallel-item::before {content: \"\";position: absolute;border-left: 1px solid gray;box-sizing: border-box;top: 0;bottom: 0;left: 50%;z-index: -1;}#sk-container-id-3 div.sk-parallel-item {display: flex;flex-direction: column;z-index: 1;position: relative;background-color: white;}#sk-container-id-3 div.sk-parallel-item:first-child::after {align-self: flex-end;width: 50%;}#sk-container-id-3 div.sk-parallel-item:last-child::after {align-self: flex-start;width: 50%;}#sk-container-id-3 div.sk-parallel-item:only-child::after {width: 0;}#sk-container-id-3 div.sk-dashed-wrapped {border: 1px dashed gray;margin: 0 0.4em 0.5em 0.4em;box-sizing: border-box;padding-bottom: 0.4em;background-color: white;}#sk-container-id-3 div.sk-label label {font-family: monospace;font-weight: bold;display: inline-block;line-height: 1.2em;}#sk-container-id-3 div.sk-label-container {text-align: center;}#sk-container-id-3 div.sk-container {/* jupyter's `normalize.less` sets `[hidden] { display: none; }` but bootstrap.min.css set `[hidden] { display: none !important; }` so we also need the `!important` here to be able to override the default hidden behavior on the sphinx rendered scikit-learn.org. See: https://github.com/scikit-learn/scikit-learn/issues/21755 */display: inline-block !important;position: relative;}#sk-container-id-3 div.sk-text-repr-fallback {display: none;}</style><div id=\"sk-container-id-3\" class=\"sk-top-container\"><div class=\"sk-text-repr-fallback\"><pre>LogisticRegression(solver=&#x27;liblinear&#x27;)</pre><b>In a Jupyter environment, please rerun this cell to show the HTML representation or trust the notebook. <br />On GitHub, the HTML representation is unable to render, please try loading this page with nbviewer.org.</b></div><div class=\"sk-container\" hidden><div class=\"sk-item\"><div class=\"sk-estimator sk-toggleable\"><input class=\"sk-toggleable__control sk-hidden--visually\" id=\"sk-estimator-id-3\" type=\"checkbox\" checked><label for=\"sk-estimator-id-3\" class=\"sk-toggleable__label sk-toggleable__label-arrow\">LogisticRegression</label><div class=\"sk-toggleable__content\"><pre>LogisticRegression(solver=&#x27;liblinear&#x27;)</pre></div></div></div></div></div>"
      ],
      "text/plain": [
       "LogisticRegression(solver='liblinear')"
      ]
     },
     "execution_count": 116,
     "metadata": {},
     "output_type": "execute_result"
    }
   ],
   "source": [
    "lr.fit(x_train, y_train)"
   ]
  },
  {
   "cell_type": "code",
   "execution_count": 117,
   "id": "e1426391",
   "metadata": {},
   "outputs": [],
   "source": [
    "from sklearn.metrics import classification_report, confusion_matrix, ConfusionMatrixDisplay\n",
    "\n",
    "def classification_results(classifier, x_test, y_test, cmap='Blues'):\n",
    "    print('Model Results:', classifier.__class__.__name__)\n",
    "    \n",
    "    y_pred = classifier.predict(x_test)\n",
    "    \n",
    "    print(classification_report(y_test, y_pred))\n",
    "    \n",
    "    cm = confusion_matrix(y_test, y_pred)\n",
    "    cmd = ConfusionMatrixDisplay(cm, display_labels=classifier.classes_)\n",
    "    cmd.plot(cmap=cmap);"
   ]
  },
  {
   "cell_type": "code",
   "execution_count": 118,
   "id": "b15ae7bb",
   "metadata": {},
   "outputs": [
    {
     "name": "stdout",
     "output_type": "stream",
     "text": [
      "Model Results: LogisticRegression\n",
      "              precision    recall  f1-score   support\n",
      "\n",
      "           0       1.00      0.89      0.94        27\n",
      "           1       0.79      1.00      0.88        11\n",
      "\n",
      "    accuracy                           0.92        38\n",
      "   macro avg       0.89      0.94      0.91        38\n",
      "weighted avg       0.94      0.92      0.92        38\n",
      "\n"
     ]
    },
    {
     "data": {
      "image/png": "[encoded data removed]",
      "text/plain": [
       "<Figure size 432x288 with 2 Axes>"
      ]
     },
     "metadata": {
      "needs_background": "light"
     },
     "output_type": "display_data"
    }
   ],
   "source": [
    "classification_results(lr, x_test, y_test)\n",
    "plt.grid(False)"
   ]
  },
  {
   "cell_type": "code",
   "execution_count": 119,
   "id": "fdd4f752",
   "metadata": {},
   "outputs": [],
   "source": [
    "from sklearn.tree import DecisionTreeClassifier"
   ]
  },
  {
   "cell_type": "code",
   "execution_count": 120,
   "id": "85f3535f",
   "metadata": {},
   "outputs": [],
   "source": [
    "dt = DecisionTreeClassifier()"
   ]
  },
  {
   "cell_type": "code",
   "execution_count": 121,
   "id": "263ff714",
   "metadata": {},
   "outputs": [
    {
     "data": {
      "text/html": [
       "<style>#sk-container-id-4 {color: black;background-color: white;}#sk-container-id-4 pre{padding: 0;}#sk-container-id-4 div.sk-toggleable {background-color: white;}#sk-container-id-4 label.sk-toggleable__label {cursor: pointer;display: block;width: 100%;margin-bottom: 0;padding: 0.3em;box-sizing: border-box;text-align: center;}#sk-container-id-4 label.sk-toggleable__label-arrow:before {content: \"▸\";float: left;margin-right: 0.25em;color: #696969;}#sk-container-id-4 label.sk-toggleable__label-arrow:hover:before {color: black;}#sk-container-id-4 div.sk-estimator:hover label.sk-toggleable__label-arrow:before {color: black;}#sk-container-id-4 div.sk-toggleable__content {max-height: 0;max-width: 0;overflow: hidden;text-align: left;background-color: #f0f8ff;}#sk-container-id-4 div.sk-toggleable__content pre {margin: 0.2em;color: black;border-radius: 0.25em;background-color: #f0f8ff;}#sk-container-id-4 input.sk-toggleable__control:checked~div.sk-toggleable__content {max-height: 200px;max-width: 100%;overflow: auto;}#sk-container-id-4 input.sk-toggleable__control:checked~label.sk-toggleable__label-arrow:before {content: \"▾\";}#sk-container-id-4 div.sk-estimator input.sk-toggleable__control:checked~label.sk-toggleable__label {background-color: #d4ebff;}#sk-container-id-4 div.sk-label input.sk-toggleable__control:checked~label.sk-toggleable__label {background-color: #d4ebff;}#sk-container-id-4 input.sk-hidden--visually {border: 0;clip: rect(1px 1px 1px 1px);clip: rect(1px, 1px, 1px, 1px);height: 1px;margin: -1px;overflow: hidden;padding: 0;position: absolute;width: 1px;}#sk-container-id-4 div.sk-estimator {font-family: monospace;background-color: #f0f8ff;border: 1px dotted black;border-radius: 0.25em;box-sizing: border-box;margin-bottom: 0.5em;}#sk-container-id-4 div.sk-estimator:hover {background-color: #d4ebff;}#sk-container-id-4 div.sk-parallel-item::after {content: \"\";width: 100%;border-bottom: 1px solid gray;flex-grow: 1;}#sk-container-id-4 div.sk-label:hover label.sk-toggleable__label {background-color: #d4ebff;}#sk-container-id-4 div.sk-serial::before {content: \"\";position: absolute;border-left: 1px solid gray;box-sizing: border-box;top: 0;bottom: 0;left: 50%;z-index: 0;}#sk-container-id-4 div.sk-serial {display: flex;flex-direction: column;align-items: center;background-color: white;padding-right: 0.2em;padding-left: 0.2em;position: relative;}#sk-container-id-4 div.sk-item {position: relative;z-index: 1;}#sk-container-id-4 div.sk-parallel {display: flex;align-items: stretch;justify-content: center;background-color: white;position: relative;}#sk-container-id-4 div.sk-item::before, #sk-container-id-4 div.sk-parallel-item::before {content: \"\";position: absolute;border-left: 1px solid gray;box-sizing: border-box;top: 0;bottom: 0;left: 50%;z-index: -1;}#sk-container-id-4 div.sk-parallel-item {display: flex;flex-direction: column;z-index: 1;position: relative;background-color: white;}#sk-container-id-4 div.sk-parallel-item:first-child::after {align-self: flex-end;width: 50%;}#sk-container-id-4 div.sk-parallel-item:last-child::after {align-self: flex-start;width: 50%;}#sk-container-id-4 div.sk-parallel-item:only-child::after {width: 0;}#sk-container-id-4 div.sk-dashed-wrapped {border: 1px dashed gray;margin: 0 0.4em 0.5em 0.4em;box-sizing: border-box;padding-bottom: 0.4em;background-color: white;}#sk-container-id-4 div.sk-label label {font-family: monospace;font-weight: bold;display: inline-block;line-height: 1.2em;}#sk-container-id-4 div.sk-label-container {text-align: center;}#sk-container-id-4 div.sk-container {/* jupyter's `normalize.less` sets `[hidden] { display: none; }` but bootstrap.min.css set `[hidden] { display: none !important; }` so we also need the `!important` here to be able to override the default hidden behavior on the sphinx rendered scikit-learn.org. See: https://github.com/scikit-learn/scikit-learn/issues/21755 */display: inline-block !important;position: relative;}#sk-container-id-4 div.sk-text-repr-fallback {display: none;}</style><div id=\"sk-container-id-4\" class=\"sk-top-container\"><div class=\"sk-text-repr-fallback\"><pre>DecisionTreeClassifier()</pre><b>In a Jupyter environment, please rerun this cell to show the HTML representation or trust the notebook. <br />On GitHub, the HTML representation is unable to render, please try loading this page with nbviewer.org.</b></div><div class=\"sk-container\" hidden><div class=\"sk-item\"><div class=\"sk-estimator sk-toggleable\"><input class=\"sk-toggleable__control sk-hidden--visually\" id=\"sk-estimator-id-4\" type=\"checkbox\" checked><label for=\"sk-estimator-id-4\" class=\"sk-toggleable__label sk-toggleable__label-arrow\">DecisionTreeClassifier</label><div class=\"sk-toggleable__content\"><pre>DecisionTreeClassifier()</pre></div></div></div></div></div>"
      ],
      "text/plain": [
       "DecisionTreeClassifier()"
      ]
     },
     "execution_count": 121,
     "metadata": {},
     "output_type": "execute_result"
    }
   ],
   "source": [
    "dt.fit(x_train, y_train)"
   ]
  },
  {
   "cell_type": "code",
   "execution_count": 122,
   "id": "73d631cd",
   "metadata": {},
   "outputs": [],
   "source": [
    "from sklearn.metrics import classification_report, confusion_matrix, ConfusionMatrixDisplay\n",
    "\n",
    "def classification_results(classifier, x_test, y_test, cmap='Blues'):\n",
    "    print('Model Results:', classifier.__class__.__name__)\n",
    "    \n",
    "    y_pred = classifier.predict(x_test)\n",
    "    \n",
    "    print(classification_report(y_test, y_pred))\n",
    "    \n",
    "    cm = confusion_matrix(y_test, y_pred)\n",
    "    cmd = ConfusionMatrixDisplay(cm, display_labels=classifier.classes_)\n",
    "    cmd.plot(cmap=cmap);"
   ]
  },
  {
   "cell_type": "code",
   "execution_count": 123,
   "id": "c4a7794a",
   "metadata": {},
   "outputs": [
    {
     "name": "stdout",
     "output_type": "stream",
     "text": [
      "Model Results: DecisionTreeClassifier\n",
      "              precision    recall  f1-score   support\n",
      "\n",
      "           0       1.00      1.00      1.00        27\n",
      "           1       1.00      1.00      1.00        11\n",
      "\n",
      "    accuracy                           1.00        38\n",
      "   macro avg       1.00      1.00      1.00        38\n",
      "weighted avg       1.00      1.00      1.00        38\n",
      "\n"
     ]
    },
    {
     "data": {
      "image/png": "[encoded data removed]",
      "text/plain": [
       "<Figure size 432x288 with 2 Axes>"
      ]
     },
     "metadata": {
      "needs_background": "light"
     },
     "output_type": "display_data"
    }
   ],
   "source": [
    "classification_results(dt, x_test, y_test)\n",
    "plt.grid(False)"
   ]
  },
  {
   "cell_type": "code",
   "execution_count": 124,
   "id": "480b84ad",
   "metadata": {},
   "outputs": [],
   "source": [
    "from sklearn.ensemble import RandomForestClassifier"
   ]
  },
  {
   "cell_type": "code",
   "execution_count": 125,
   "id": "95f5f34f",
   "metadata": {
    "scrolled": true
   },
   "outputs": [
    {
     "name": "stdout",
     "output_type": "stream",
     "text": [
      "Model Results: RandomForestClassifier\n",
      "              precision    recall  f1-score   support\n",
      "\n",
      "           0       1.00      1.00      1.00        27\n",
      "           1       1.00      1.00      1.00        11\n",
      "\n",
      "    accuracy                           1.00        38\n",
      "   macro avg       1.00      1.00      1.00        38\n",
      "weighted avg       1.00      1.00      1.00        38\n",
      "\n"
     ]
    },
    {
     "data": {
      "image/png": "[encoded data removed]",
      "text/plain": [
       "<Figure size 432x288 with 2 Axes>"
      ]
     },
     "metadata": {
      "needs_background": "light"
     },
     "output_type": "display_data"
    }
   ],
   "source": [
    "rf = RandomForestClassifier()\n",
    "rf.fit(x_train, y_train)\n",
    "classification_results(rf, x_test, y_test, cmap='Oranges')\n",
    "plt.grid(False)"
   ]
  }
 ],
 "metadata": {
  "kernelspec": {
   "display_name": "Python 3",
   "language": "python",
   "name": "python3"
  },
  "language_info": {
   "codemirror_mode": {
    "name": "ipython",
    "version": 3
   },
   "file_extension": ".py",
   "mimetype": "text/x-python",
   "name": "python",
   "nbconvert_exporter": "python",
   "pygments_lexer": "ipython3",
   "version": "3.8.8"
  }
 },
 "nbformat": 4,
 "nbformat_minor": 5
}
